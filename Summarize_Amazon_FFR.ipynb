{
  "nbformat": 4,
  "nbformat_minor": 0,
  "metadata": {
    "colab": {
      "name": "Summarize_1.ipynb",
      "provenance": [],
      "collapsed_sections": [],
      "mount_file_id": "13Mdk8HNuQjHFO80mm7gUGfjXXTWbL0bv",
      "authorship_tag": "ABX9TyNM9uZPli3j2cysrag/AygS"
    },
    "kernelspec": {
      "name": "python3",
      "display_name": "Python 3"
    },
    "accelerator": "GPU"
  },
  "cells": [
    {
      "cell_type": "markdown",
      "metadata": {
        "id": "GL6OwniP9eqh",
        "colab_type": "text"
      },
      "source": [
        "# Attention Class\n",
        "taken from https://github.com/thushv89/attention_keras/blob/master/layers/attention.py"
      ]
    },
    {
      "cell_type": "markdown",
      "metadata": {
        "id": "fRvmC2wlw-uw",
        "colab_type": "text"
      },
      "source": [
        "# Preprocessing And Exploration"
      ]
    },
    {
      "cell_type": "code",
      "metadata": {
        "id": "e4h-l3oI3h7R",
        "colab_type": "code",
        "colab": {
          "base_uri": "https://localhost:8080/",
          "height": 34
        },
        "outputId": "3acf2dac-d424-4f0e-c284-b2db91a78df3"
      },
      "source": [
        "%tensorflow_version 1.x"
      ],
      "execution_count": null,
      "outputs": [
        {
          "output_type": "stream",
          "text": [
            "TensorFlow 1.x selected.\n"
          ],
          "name": "stdout"
        }
      ]
    },
    {
      "cell_type": "code",
      "metadata": {
        "id": "GzQPo7QX99H2",
        "colab_type": "code",
        "colab": {}
      },
      "source": [
        "import warnings\n",
        "warnings.filterwarnings(\"ignore\")"
      ],
      "execution_count": null,
      "outputs": []
    },
    {
      "cell_type": "code",
      "metadata": {
        "id": "_cRWr8Yg3dvK",
        "colab_type": "code",
        "colab": {
          "base_uri": "https://localhost:8080/",
          "height": 34
        },
        "outputId": "10f5be5e-957d-4ef4-9132-84cddc96c448"
      },
      "source": [
        "import tensorflow\n",
        "print(tensorflow.__version__)"
      ],
      "execution_count": null,
      "outputs": [
        {
          "output_type": "stream",
          "text": [
            "1.15.2\n"
          ],
          "name": "stdout"
        }
      ]
    },
    {
      "cell_type": "code",
      "metadata": {
        "id": "ICH1lHfr70te",
        "colab_type": "code",
        "colab": {}
      },
      "source": [
        "import tensorflow as tf\n",
        "import os\n",
        "from tensorflow.python.keras.layers import Layer\n",
        "from tensorflow.python.keras import backend as K\n",
        "\n",
        "\n",
        "class AttentionLayer(Layer):\n",
        "    \"\"\"\n",
        "    This class implements Bahdanau attention (https://arxiv.org/pdf/1409.0473.pdf).\n",
        "    There are three sets of weights introduced W_a, U_a, and V_a\n",
        "     \"\"\"\n",
        "\n",
        "    def __init__(self, **kwargs):\n",
        "        super(AttentionLayer, self).__init__(**kwargs)\n",
        "\n",
        "    def build(self, input_shape):\n",
        "        assert isinstance(input_shape, list)\n",
        "        # Create a trainable weight variable for this layer.\n",
        "\n",
        "        self.W_a = self.add_weight(name='W_a',\n",
        "                                   shape=tf.TensorShape((input_shape[0][2], input_shape[0][2])),\n",
        "                                   initializer='uniform',\n",
        "                                   trainable=True)\n",
        "        self.U_a = self.add_weight(name='U_a',\n",
        "                                   shape=tf.TensorShape((input_shape[1][2], input_shape[0][2])),\n",
        "                                   initializer='uniform',\n",
        "                                   trainable=True)\n",
        "        self.V_a = self.add_weight(name='V_a',\n",
        "                                   shape=tf.TensorShape((input_shape[0][2], 1)),\n",
        "                                   initializer='uniform',\n",
        "                                   trainable=True)\n",
        "\n",
        "        super(AttentionLayer, self).build(input_shape)  # Be sure to call this at the end\n",
        "\n",
        "    def call(self, inputs, verbose=False):\n",
        "        \"\"\"\n",
        "        inputs: [encoder_output_sequence, decoder_output_sequence]\n",
        "        \"\"\"\n",
        "        assert type(inputs) == list\n",
        "        encoder_out_seq, decoder_out_seq = inputs\n",
        "        if verbose:\n",
        "            print('encoder_out_seq>', encoder_out_seq.shape)\n",
        "            print('decoder_out_seq>', decoder_out_seq.shape)\n",
        "\n",
        "        def energy_step(inputs, states):\n",
        "            \"\"\" Step function for computing energy for a single decoder state \"\"\"\n",
        "\n",
        "            assert_msg = \"States must be a list. However states {} is of type {}\".format(states, type(states))\n",
        "            assert isinstance(states, list) or isinstance(states, tuple), assert_msg\n",
        "\n",
        "            \"\"\" Some parameters required for shaping tensors\"\"\"\n",
        "            en_seq_len, en_hidden = encoder_out_seq.shape[1], encoder_out_seq.shape[2]\n",
        "            de_hidden = inputs.shape[-1]\n",
        "\n",
        "            \"\"\" Computing S.Wa where S=[s0, s1, ..., si]\"\"\"\n",
        "            # <= batch_size*en_seq_len, latent_dim\n",
        "            reshaped_enc_outputs = K.reshape(encoder_out_seq, (-1, en_hidden))\n",
        "            # <= batch_size*en_seq_len, latent_dim\n",
        "            W_a_dot_s = K.reshape(K.dot(reshaped_enc_outputs, self.W_a), (-1, en_seq_len, en_hidden))\n",
        "            if verbose:\n",
        "                print('wa.s>',W_a_dot_s.shape)\n",
        "\n",
        "            \"\"\" Computing hj.Ua \"\"\"\n",
        "            U_a_dot_h = K.expand_dims(K.dot(inputs, self.U_a), 1)  # <= batch_size, 1, latent_dim\n",
        "            if verbose:\n",
        "                print('Ua.h>',U_a_dot_h.shape)\n",
        "\n",
        "            \"\"\" tanh(S.Wa + hj.Ua) \"\"\"\n",
        "            # <= batch_size*en_seq_len, latent_dim\n",
        "            reshaped_Ws_plus_Uh = K.tanh(K.reshape(W_a_dot_s + U_a_dot_h, (-1, en_hidden)))\n",
        "            if verbose:\n",
        "                print('Ws+Uh>', reshaped_Ws_plus_Uh.shape)\n",
        "\n",
        "            \"\"\" softmax(va.tanh(S.Wa + hj.Ua)) \"\"\"\n",
        "            # <= batch_size, en_seq_len\n",
        "            e_i = K.reshape(K.dot(reshaped_Ws_plus_Uh, self.V_a), (-1, en_seq_len))\n",
        "            # <= batch_size, en_seq_len\n",
        "            e_i = K.softmax(e_i)\n",
        "\n",
        "            if verbose:\n",
        "                print('ei>', e_i.shape)\n",
        "\n",
        "            return e_i, [e_i]\n",
        "\n",
        "        def context_step(inputs, states):\n",
        "            \"\"\" Step function for computing ci using ei \"\"\"\n",
        "            # <= batch_size, hidden_size\n",
        "            c_i = K.sum(encoder_out_seq * K.expand_dims(inputs, -1), axis=1)\n",
        "            if verbose:\n",
        "                print('ci>', c_i.shape)\n",
        "            return c_i, [c_i]\n",
        "\n",
        "        def create_inital_state(inputs, hidden_size):\n",
        "            # We are not using initial states, but need to pass something to K.rnn funciton\n",
        "            fake_state = K.zeros_like(inputs)  # <= (batch_size, enc_seq_len, latent_dim\n",
        "            fake_state = K.sum(fake_state, axis=[1, 2])  # <= (batch_size)\n",
        "            fake_state = K.expand_dims(fake_state)  # <= (batch_size, 1)\n",
        "            fake_state = K.tile(fake_state, [1, hidden_size])  # <= (batch_size, latent_dim\n",
        "            return fake_state\n",
        "\n",
        "        fake_state_c = create_inital_state(encoder_out_seq, encoder_out_seq.shape[-1])\n",
        "        fake_state_e = create_inital_state(encoder_out_seq, encoder_out_seq.shape[1])  # <= (batch_size, enc_seq_len, latent_dim\n",
        "\n",
        "        \"\"\" Computing energy outputs \"\"\"\n",
        "        # e_outputs => (batch_size, de_seq_len, en_seq_len)\n",
        "        last_out, e_outputs, _ = K.rnn(\n",
        "            energy_step, decoder_out_seq, [fake_state_e],\n",
        "        )\n",
        "\n",
        "        \"\"\" Computing context vectors \"\"\"\n",
        "        last_out, c_outputs, _ = K.rnn(\n",
        "            context_step, e_outputs, [fake_state_c],\n",
        "        )\n",
        "\n",
        "        return c_outputs, e_outputs\n",
        "\n",
        "    def compute_output_shape(self, input_shape):\n",
        "        \"\"\" Outputs produced by the layer \"\"\"\n",
        "        return [\n",
        "            tf.TensorShape((input_shape[1][0], input_shape[1][1], input_shape[1][2])),\n",
        "            tf.TensorShape((input_shape[1][0], input_shape[1][1], input_shape[0][1]))\n",
        "        ]"
      ],
      "execution_count": null,
      "outputs": []
    },
    {
      "cell_type": "code",
      "metadata": {
        "id": "3S3S96Up9yHc",
        "colab_type": "code",
        "colab": {
          "base_uri": "https://localhost:8080/",
          "height": 34
        },
        "outputId": "55ad89f9-2a5d-4a2a-e4a6-c5b94fe1d714"
      },
      "source": [
        "import numpy as np  \n",
        "import pandas as pd \n",
        "import re           \n",
        "from bs4 import BeautifulSoup \n",
        "from keras.preprocessing.text import Tokenizer \n",
        "from keras.preprocessing.sequence import pad_sequences\n",
        "from nltk.corpus import stopwords   \n",
        "from tensorflow.keras.layers import Input, LSTM, Embedding, Dense, Concatenate, TimeDistributed, Bidirectional\n",
        "from tensorflow.keras.models import Model\n",
        "from tensorflow.keras.callbacks import EarlyStopping\n",
        "import matplotlib.pyplot as plt\n",
        "plt.style.use('seaborn-white') #just for the sake of better visibility"
      ],
      "execution_count": null,
      "outputs": [
        {
          "output_type": "stream",
          "text": [
            "Using TensorFlow backend.\n"
          ],
          "name": "stderr"
        }
      ]
    },
    {
      "cell_type": "code",
      "metadata": {
        "id": "vESNSOB--siH",
        "colab_type": "code",
        "colab": {
          "base_uri": "https://localhost:8080/",
          "height": 68
        },
        "outputId": "4c7bf874-4b22-4da9-c839-ca3762199f56"
      },
      "source": [
        "import nltk\n",
        "nltk.download('stopwords')"
      ],
      "execution_count": null,
      "outputs": [
        {
          "output_type": "stream",
          "text": [
            "[nltk_data] Downloading package stopwords to /root/nltk_data...\n",
            "[nltk_data]   Unzipping corpora/stopwords.zip.\n"
          ],
          "name": "stdout"
        },
        {
          "output_type": "execute_result",
          "data": {
            "text/plain": [
              "True"
            ]
          },
          "metadata": {
            "tags": []
          },
          "execution_count": 6
        }
      ]
    },
    {
      "cell_type": "code",
      "metadata": {
        "id": "wN3w72z-99th",
        "colab_type": "code",
        "colab": {}
      },
      "source": [
        "data=pd.read_csv(\"/content/drive/My Drive/MinorProject/Dataset/Reviews.csv\",nrows=60000)"
      ],
      "execution_count": null,
      "outputs": []
    },
    {
      "cell_type": "code",
      "metadata": {
        "id": "aUPykX-MIdC9",
        "colab_type": "code",
        "colab": {
          "base_uri": "https://localhost:8080/",
          "height": 34
        },
        "outputId": "b664261e-0f62-442a-c483-cc919a62779d"
      },
      "source": [
        "data.shape"
      ],
      "execution_count": null,
      "outputs": [
        {
          "output_type": "execute_result",
          "data": {
            "text/plain": [
              "(60000, 10)"
            ]
          },
          "metadata": {
            "tags": []
          },
          "execution_count": 8
        }
      ]
    },
    {
      "cell_type": "code",
      "metadata": {
        "id": "yDmY7WoMHUpU",
        "colab_type": "code",
        "colab": {
          "base_uri": "https://localhost:8080/",
          "height": 340
        },
        "outputId": "31fbae60-c5ea-4610-8ccd-b968e30ab394"
      },
      "source": [
        "data.head()"
      ],
      "execution_count": null,
      "outputs": [
        {
          "output_type": "execute_result",
          "data": {
            "text/html": [
              "<div>\n",
              "<style scoped>\n",
              "    .dataframe tbody tr th:only-of-type {\n",
              "        vertical-align: middle;\n",
              "    }\n",
              "\n",
              "    .dataframe tbody tr th {\n",
              "        vertical-align: top;\n",
              "    }\n",
              "\n",
              "    .dataframe thead th {\n",
              "        text-align: right;\n",
              "    }\n",
              "</style>\n",
              "<table border=\"1\" class=\"dataframe\">\n",
              "  <thead>\n",
              "    <tr style=\"text-align: right;\">\n",
              "      <th></th>\n",
              "      <th>Id</th>\n",
              "      <th>ProductId</th>\n",
              "      <th>UserId</th>\n",
              "      <th>ProfileName</th>\n",
              "      <th>HelpfulnessNumerator</th>\n",
              "      <th>HelpfulnessDenominator</th>\n",
              "      <th>Score</th>\n",
              "      <th>Time</th>\n",
              "      <th>Summary</th>\n",
              "      <th>Text</th>\n",
              "    </tr>\n",
              "  </thead>\n",
              "  <tbody>\n",
              "    <tr>\n",
              "      <th>0</th>\n",
              "      <td>1</td>\n",
              "      <td>B001E4KFG0</td>\n",
              "      <td>A3SGXH7AUHU8GW</td>\n",
              "      <td>delmartian</td>\n",
              "      <td>1</td>\n",
              "      <td>1</td>\n",
              "      <td>5</td>\n",
              "      <td>1303862400</td>\n",
              "      <td>Good Quality Dog Food</td>\n",
              "      <td>I have bought several of the Vitality canned d...</td>\n",
              "    </tr>\n",
              "    <tr>\n",
              "      <th>1</th>\n",
              "      <td>2</td>\n",
              "      <td>B00813GRG4</td>\n",
              "      <td>A1D87F6ZCVE5NK</td>\n",
              "      <td>dll pa</td>\n",
              "      <td>0</td>\n",
              "      <td>0</td>\n",
              "      <td>1</td>\n",
              "      <td>1346976000</td>\n",
              "      <td>Not as Advertised</td>\n",
              "      <td>Product arrived labeled as Jumbo Salted Peanut...</td>\n",
              "    </tr>\n",
              "    <tr>\n",
              "      <th>2</th>\n",
              "      <td>3</td>\n",
              "      <td>B000LQOCH0</td>\n",
              "      <td>ABXLMWJIXXAIN</td>\n",
              "      <td>Natalia Corres \"Natalia Corres\"</td>\n",
              "      <td>1</td>\n",
              "      <td>1</td>\n",
              "      <td>4</td>\n",
              "      <td>1219017600</td>\n",
              "      <td>\"Delight\" says it all</td>\n",
              "      <td>This is a confection that has been around a fe...</td>\n",
              "    </tr>\n",
              "    <tr>\n",
              "      <th>3</th>\n",
              "      <td>4</td>\n",
              "      <td>B000UA0QIQ</td>\n",
              "      <td>A395BORC6FGVXV</td>\n",
              "      <td>Karl</td>\n",
              "      <td>3</td>\n",
              "      <td>3</td>\n",
              "      <td>2</td>\n",
              "      <td>1307923200</td>\n",
              "      <td>Cough Medicine</td>\n",
              "      <td>If you are looking for the secret ingredient i...</td>\n",
              "    </tr>\n",
              "    <tr>\n",
              "      <th>4</th>\n",
              "      <td>5</td>\n",
              "      <td>B006K2ZZ7K</td>\n",
              "      <td>A1UQRSCLF8GW1T</td>\n",
              "      <td>Michael D. Bigham \"M. Wassir\"</td>\n",
              "      <td>0</td>\n",
              "      <td>0</td>\n",
              "      <td>5</td>\n",
              "      <td>1350777600</td>\n",
              "      <td>Great taffy</td>\n",
              "      <td>Great taffy at a great price.  There was a wid...</td>\n",
              "    </tr>\n",
              "  </tbody>\n",
              "</table>\n",
              "</div>"
            ],
            "text/plain": [
              "   Id  ...                                               Text\n",
              "0   1  ...  I have bought several of the Vitality canned d...\n",
              "1   2  ...  Product arrived labeled as Jumbo Salted Peanut...\n",
              "2   3  ...  This is a confection that has been around a fe...\n",
              "3   4  ...  If you are looking for the secret ingredient i...\n",
              "4   5  ...  Great taffy at a great price.  There was a wid...\n",
              "\n",
              "[5 rows x 10 columns]"
            ]
          },
          "metadata": {
            "tags": []
          },
          "execution_count": 9
        }
      ]
    },
    {
      "cell_type": "code",
      "metadata": {
        "id": "TpjdFYriIvss",
        "colab_type": "code",
        "colab": {
          "base_uri": "https://localhost:8080/",
          "height": 34
        },
        "outputId": "0210cb04-77ee-4828-9bbb-f1022a51098a"
      },
      "source": [
        "len(data['ProductId'].unique()) #No of unique products for which reviews are there."
      ],
      "execution_count": null,
      "outputs": [
        {
          "output_type": "execute_result",
          "data": {
            "text/plain": [
              "7608"
            ]
          },
          "metadata": {
            "tags": []
          },
          "execution_count": 10
        }
      ]
    },
    {
      "cell_type": "code",
      "metadata": {
        "id": "NyN_2KXYLdnE",
        "colab_type": "code",
        "colab": {
          "base_uri": "https://localhost:8080/",
          "height": 34
        },
        "outputId": "3edf7b07-013f-440f-fa45-b6684900e004"
      },
      "source": [
        "print('Duplicate rows : ',len(data)-len(data.drop_duplicates())) #checking number of duplicate rows"
      ],
      "execution_count": null,
      "outputs": [
        {
          "output_type": "stream",
          "text": [
            "Duplicate rows :  0\n"
          ],
          "name": "stdout"
        }
      ]
    },
    {
      "cell_type": "code",
      "metadata": {
        "id": "kjKyYnicHa6v",
        "colab_type": "code",
        "colab": {
          "base_uri": "https://localhost:8080/",
          "height": 306
        },
        "outputId": "21dfd1e6-32f2-4c2b-9d53-144a9dc563a0"
      },
      "source": [
        "data.info()"
      ],
      "execution_count": null,
      "outputs": [
        {
          "output_type": "stream",
          "text": [
            "<class 'pandas.core.frame.DataFrame'>\n",
            "RangeIndex: 60000 entries, 0 to 59999\n",
            "Data columns (total 10 columns):\n",
            " #   Column                  Non-Null Count  Dtype \n",
            "---  ------                  --------------  ----- \n",
            " 0   Id                      60000 non-null  int64 \n",
            " 1   ProductId               60000 non-null  object\n",
            " 2   UserId                  60000 non-null  object\n",
            " 3   ProfileName             59997 non-null  object\n",
            " 4   HelpfulnessNumerator    60000 non-null  int64 \n",
            " 5   HelpfulnessDenominator  60000 non-null  int64 \n",
            " 6   Score                   60000 non-null  int64 \n",
            " 7   Time                    60000 non-null  int64 \n",
            " 8   Summary                 59998 non-null  object\n",
            " 9   Text                    60000 non-null  object\n",
            "dtypes: int64(5), object(5)\n",
            "memory usage: 4.6+ MB\n"
          ],
          "name": "stdout"
        }
      ]
    },
    {
      "cell_type": "code",
      "metadata": {
        "id": "utqzA7JkxQVc",
        "colab_type": "code",
        "colab": {
          "base_uri": "https://localhost:8080/",
          "height": 204
        },
        "outputId": "d6ab0441-5b7b-4df6-ef37-f6a4ae3c389c"
      },
      "source": [
        "data=data[['Text','Summary']] #Since for our usecase we only need Text and Summary columns are useful & nothing else.\n",
        "data.head()"
      ],
      "execution_count": null,
      "outputs": [
        {
          "output_type": "execute_result",
          "data": {
            "text/html": [
              "<div>\n",
              "<style scoped>\n",
              "    .dataframe tbody tr th:only-of-type {\n",
              "        vertical-align: middle;\n",
              "    }\n",
              "\n",
              "    .dataframe tbody tr th {\n",
              "        vertical-align: top;\n",
              "    }\n",
              "\n",
              "    .dataframe thead th {\n",
              "        text-align: right;\n",
              "    }\n",
              "</style>\n",
              "<table border=\"1\" class=\"dataframe\">\n",
              "  <thead>\n",
              "    <tr style=\"text-align: right;\">\n",
              "      <th></th>\n",
              "      <th>Text</th>\n",
              "      <th>Summary</th>\n",
              "    </tr>\n",
              "  </thead>\n",
              "  <tbody>\n",
              "    <tr>\n",
              "      <th>0</th>\n",
              "      <td>I have bought several of the Vitality canned d...</td>\n",
              "      <td>Good Quality Dog Food</td>\n",
              "    </tr>\n",
              "    <tr>\n",
              "      <th>1</th>\n",
              "      <td>Product arrived labeled as Jumbo Salted Peanut...</td>\n",
              "      <td>Not as Advertised</td>\n",
              "    </tr>\n",
              "    <tr>\n",
              "      <th>2</th>\n",
              "      <td>This is a confection that has been around a fe...</td>\n",
              "      <td>\"Delight\" says it all</td>\n",
              "    </tr>\n",
              "    <tr>\n",
              "      <th>3</th>\n",
              "      <td>If you are looking for the secret ingredient i...</td>\n",
              "      <td>Cough Medicine</td>\n",
              "    </tr>\n",
              "    <tr>\n",
              "      <th>4</th>\n",
              "      <td>Great taffy at a great price.  There was a wid...</td>\n",
              "      <td>Great taffy</td>\n",
              "    </tr>\n",
              "  </tbody>\n",
              "</table>\n",
              "</div>"
            ],
            "text/plain": [
              "                                                Text                Summary\n",
              "0  I have bought several of the Vitality canned d...  Good Quality Dog Food\n",
              "1  Product arrived labeled as Jumbo Salted Peanut...      Not as Advertised\n",
              "2  This is a confection that has been around a fe...  \"Delight\" says it all\n",
              "3  If you are looking for the secret ingredient i...         Cough Medicine\n",
              "4  Great taffy at a great price.  There was a wid...            Great taffy"
            ]
          },
          "metadata": {
            "tags": []
          },
          "execution_count": 13
        }
      ]
    },
    {
      "cell_type": "code",
      "metadata": {
        "id": "Tcw3CtDjFVwp",
        "colab_type": "code",
        "colab": {
          "base_uri": "https://localhost:8080/",
          "height": 170
        },
        "outputId": "28ae05f1-a309-427c-c3b9-d1e6d0cf7869"
      },
      "source": [
        "data.info()"
      ],
      "execution_count": null,
      "outputs": [
        {
          "output_type": "stream",
          "text": [
            "<class 'pandas.core.frame.DataFrame'>\n",
            "RangeIndex: 60000 entries, 0 to 59999\n",
            "Data columns (total 2 columns):\n",
            " #   Column   Non-Null Count  Dtype \n",
            "---  ------   --------------  ----- \n",
            " 0   Text     60000 non-null  object\n",
            " 1   Summary  59998 non-null  object\n",
            "dtypes: object(2)\n",
            "memory usage: 937.6+ KB\n"
          ],
          "name": "stdout"
        }
      ]
    },
    {
      "cell_type": "code",
      "metadata": {
        "id": "3j-uH9vrMT-4",
        "colab_type": "code",
        "colab": {
          "base_uri": "https://localhost:8080/",
          "height": 51
        },
        "outputId": "70fedaf8-a96c-4595-866a-cb64097e54aa"
      },
      "source": [
        "print(\"Rows with NA values : \",len(data)-len(data.dropna()))\n",
        "data.dropna(axis=0,inplace=True)\n",
        "print('Total Rows After droping rows with NA values: ',len(data))"
      ],
      "execution_count": null,
      "outputs": [
        {
          "output_type": "stream",
          "text": [
            "Rows with NA values :  2\n",
            "Total Rows After droping rows with NA values:  59998\n"
          ],
          "name": "stdout"
        }
      ]
    },
    {
      "cell_type": "code",
      "metadata": {
        "id": "Bhq0ZOLA-Vzn",
        "colab_type": "code",
        "colab": {}
      },
      "source": [
        "contraction_mapping = { \n",
        "\"ain't\": \"am not\",\n",
        "\"aren't\": \"are not\",\n",
        "\"can't\": \"cannot\",\n",
        "\"can't've\": \"cannot have\",\n",
        "\"'cause\": \"because\",\n",
        "\"could've\": \"could have\",\n",
        "\"couldn't\": \"could not\",\n",
        "\"couldn't've\": \"could not have\",\n",
        "\"didn't\": \"did not\",\n",
        "\"doesn't\": \"does not\",\n",
        "\"don't\": \"do not\",\n",
        "\"hadn't\": \"had not\",\n",
        "\"hadn't've\": \"had not have\",\n",
        "\"hasn't\": \"has not\",\n",
        "\"haven't\": \"have not\",\n",
        "\"he'd\": \"he would\",\n",
        "\"he'd've\": \"he would have\",\n",
        "\"he'll\": \"he will\",\n",
        "\"he'll've\": \"he will have\",\n",
        "\"he's\": \"he has\",\n",
        "\"how'd\": \"how did\",\n",
        "\"how'd'y\": \"how do you\",\n",
        "\"how'll\": \"how will\",\n",
        "\"how's\": \"how has\",\n",
        "\"I'd\": \"I would\",\n",
        "\"I'd've\": \"I would have\",\n",
        "\"I'll\": \"I will\",\n",
        "\"I'll've\": \"I will have\",\n",
        "\"I'm\": \"I am\",\n",
        "\"I've\": \"I have\",\n",
        "\"isn't\": \"is not\",\n",
        "\"it'd\": \"it would\",\n",
        "\"it'd've\": \"it would have\",\n",
        "\"it'll\": \"it will\",\n",
        "\"it'll've\": \"it will have\",\n",
        "\"it's\": \"it has\",\n",
        "\"let's\": \"let us\",\n",
        "\"ma'am\": \"madam\",\n",
        "\"mayn't\": \"may not\",\n",
        "\"might've\": \"might have\",\n",
        "\"mightn't\": \"might not\",\n",
        "\"mightn't've\": \"might not have\",\n",
        "\"must've\": \"must have\",\n",
        "\"mustn't\": \"must not\",\n",
        "\"mustn't've\": \"must not have\",\n",
        "\"needn't\": \"need not\",\n",
        "\"needn't've\": \"need not have\",\n",
        "\"o'clock\": \"of the clock\",\n",
        "\"oughtn't\": \"ought not\",\n",
        "\"oughtn't've\": \"ought not have\",\n",
        "\"shan't\": \"shall not\",\n",
        "\"sha'n't\": \"shall not\",\n",
        "\"shan't've\": \"shall not have\",\n",
        "\"she'd\": \"she would\",\n",
        "\"she'd've\": \"she would have\",\n",
        "\"she'll\": \"she will\",\n",
        "\"she'll've\": \"she will have\",\n",
        "\"she's\": \"she is\",\n",
        "\"should've\": \"should have\",\n",
        "\"shouldn't\": \"should not\",\n",
        "\"shouldn't've\": \"should not have\",\n",
        "\"so've\": \"so have\",\n",
        "\"so's\": \"so is\",\n",
        "\"that'd\": \"that would\",\n",
        "\"that'd've\": \"that would have\",\n",
        "\"that's\": \"that is\",\n",
        "\"there'd\": \"there had\",\n",
        "\"there'd've\": \"there would have\",\n",
        "\"there's\": \"there is\",\n",
        "\"they'd\": \"they would\",\n",
        "\"they'd've\": \"they would have\",\n",
        "\"they'll\": \"they will\",\n",
        "\"they'll've\": \"they will have\",\n",
        "\"they're\": \"they are\",\n",
        "\"they've\": \"they have\",\n",
        "\"to've\": \"to have\",\n",
        "\"wasn't\": \"was not\",\n",
        "\"we'd\": \"we would\",\n",
        "\"we'd've\": \"we would have\",\n",
        "\"we'll\": \"we will\",\n",
        "\"we'll've\": \"we will have\",\n",
        "\"we're\": \"we are\",\n",
        "\"we've\": \"we have\",\n",
        "\"weren't\": \"were not\",\n",
        "\"what'll\": \"what will\",\n",
        "\"what'll've\": \"what will have\",\n",
        "\"what're\": \"what are\",\n",
        "\"what's\": \"what is\",\n",
        "\"what've\": \"what have\",\n",
        "\"when's\": \"when is\",\n",
        "\"when've\": \"when have\",\n",
        "\"where'd\": \"where did\",\n",
        "\"where's\": \"where is\",\n",
        "\"where've\": \"where have\",\n",
        "\"who'll\": \"who will\",\n",
        "\"who'll've\": \"who will have\",\n",
        "\"who's\": \"who has\",\n",
        "\"who've\": \"who have\",\n",
        "\"why's\": \"why has\",\n",
        "\"why've\": \"why have\",\n",
        "\"will've\": \"will have\",\n",
        "\"won't\": \"will not\",\n",
        "\"won't've\": \"will not have\",\n",
        "\"would've\": \"would have\",\n",
        "\"wouldn't\": \"would not\",\n",
        "\"wouldn't've\": \"would not have\",\n",
        "\"y'all\": \"you all\",\n",
        "\"y'all'd\": \"you all would\",\n",
        "\"y'all'd've\": \"you all would have\",\n",
        "\"y'all're\": \"you all are\",\n",
        "\"y'all've\": \"you all have\",\n",
        "\"you'd\": \"you had\",\n",
        "\"you'd've\": \"you would have\",\n",
        "\"you'll\": \"you will\",\n",
        "\"you'll've\": \"you will have\",\n",
        "\"you're\": \"you are\",\n",
        "\"you've\": \"you have\"\n",
        "}"
      ],
      "execution_count": null,
      "outputs": []
    },
    {
      "cell_type": "markdown",
      "metadata": {
        "id": "u_gGw4JvBZPK",
        "colab_type": "text"
      },
      "source": [
        "# Cleaning"
      ]
    },
    {
      "cell_type": "markdown",
      "metadata": {
        "id": "bB7JfDsKCUk-",
        "colab_type": "text"
      },
      "source": [
        "## Text"
      ]
    },
    {
      "cell_type": "code",
      "metadata": {
        "id": "gX1teyhD-fLf",
        "colab_type": "code",
        "colab": {}
      },
      "source": [
        "stop_words = set(stopwords.words('english')) \n",
        "def text_cleaner(text):\n",
        "    newString = text.lower() #lower all\n",
        "    newString = BeautifulSoup(newString, \"lxml\").text #remove hyperlinks\n",
        "    newString = re.sub(r'\\([^)]*\\)', '', newString) #replacing bracketed words like also known as(a.k.a) with also known as\n",
        "    newString = re.sub('\"','', newString) #removing quotation marks\n",
        "    newString = ' '.join([contraction_mapping[t] if t in contraction_mapping else t for t in newString.split(\" \")])    #expanding the contractions\n",
        "    newString = re.sub(r\"'s\\b\",\"\",newString) #remove blank spaces\n",
        "    newString = re.sub(\"[^a-zA-Z]\", \" \", newString) #remove all non alphabetic characters FOR the time being would not remove while using pointer generator networks\n",
        "    tokens = [w for w in newString.split() if not w in stop_words] #removing stopwords\n",
        "    long_words=[]\n",
        "    for i in tokens:\n",
        "        if len(i)>1:                  #removing short word with len equal to 1\n",
        "            long_words.append(i)   \n",
        "    return (\" \".join(long_words)).strip()\n",
        "\n",
        "cleaned_text = []\n",
        "for t in data['Text']:\n",
        "    cleaned_text.append(text_cleaner(t))"
      ],
      "execution_count": null,
      "outputs": []
    },
    {
      "cell_type": "markdown",
      "metadata": {
        "id": "zXeLxIM0CZTh",
        "colab_type": "text"
      },
      "source": [
        "## Summary"
      ]
    },
    {
      "cell_type": "code",
      "metadata": {
        "id": "rtCVlKrA-pk1",
        "colab_type": "code",
        "colab": {}
      },
      "source": [
        "def summary_cleaner(text):\n",
        "    newString = re.sub('\"','', text)#removing quotation marks\n",
        "    newString = ' '.join([contraction_mapping[t] if t in contraction_mapping else t for t in newString.split(\" \")])     #expanding the contractions\n",
        "    newString = re.sub(r\"'s\\b\",\"\",newString)  #remove blank spaces\n",
        "    newString = re.sub(\"[^a-zA-Z]\", \" \", newString)#remove all non alphabetic characters\n",
        "    newString = newString.lower() #lower everything\n",
        "    tokens=newString.split() #generating tokens here we didnot removed the stopwords because they seem right in summary\n",
        "    words=[]\n",
        "    for t in tokens:                                                 #removing short word\n",
        "          words.append(t)   \n",
        "    return (\" \".join(words)).strip()\n",
        "\n",
        "#Call the above function\n",
        "cleaned_summary = []\n",
        "for t in data['Summary']:\n",
        "    cleaned_summary.append(summary_cleaner(t))\n",
        "\n",
        "data['cleaned_text']=cleaned_text\n",
        "data['cleaned_summary']=cleaned_summary\n",
        "data['cleaned_summary'].replace('', np.nan, inplace=True)\n",
        "data.dropna(axis=0,inplace=True)"
      ],
      "execution_count": null,
      "outputs": []
    },
    {
      "cell_type": "code",
      "metadata": {
        "id": "SJi1x6f9mOvm",
        "colab_type": "code",
        "colab": {
          "base_uri": "https://localhost:8080/",
          "height": 410
        },
        "outputId": "cca49e68-ffe7-4e71-cc83-c235e575f754"
      },
      "source": [
        "data.head(10)"
      ],
      "execution_count": null,
      "outputs": [
        {
          "output_type": "execute_result",
          "data": {
            "text/html": [
              "<div>\n",
              "<style scoped>\n",
              "    .dataframe tbody tr th:only-of-type {\n",
              "        vertical-align: middle;\n",
              "    }\n",
              "\n",
              "    .dataframe tbody tr th {\n",
              "        vertical-align: top;\n",
              "    }\n",
              "\n",
              "    .dataframe thead th {\n",
              "        text-align: right;\n",
              "    }\n",
              "</style>\n",
              "<table border=\"1\" class=\"dataframe\">\n",
              "  <thead>\n",
              "    <tr style=\"text-align: right;\">\n",
              "      <th></th>\n",
              "      <th>Text</th>\n",
              "      <th>Summary</th>\n",
              "      <th>cleaned_text</th>\n",
              "      <th>cleaned_summary</th>\n",
              "    </tr>\n",
              "  </thead>\n",
              "  <tbody>\n",
              "    <tr>\n",
              "      <th>0</th>\n",
              "      <td>I have bought several of the Vitality canned d...</td>\n",
              "      <td>Good Quality Dog Food</td>\n",
              "      <td>bought several vitality canned dog food produc...</td>\n",
              "      <td>good quality dog food</td>\n",
              "    </tr>\n",
              "    <tr>\n",
              "      <th>1</th>\n",
              "      <td>Product arrived labeled as Jumbo Salted Peanut...</td>\n",
              "      <td>Not as Advertised</td>\n",
              "      <td>product arrived labeled jumbo salted peanuts p...</td>\n",
              "      <td>not as advertised</td>\n",
              "    </tr>\n",
              "    <tr>\n",
              "      <th>2</th>\n",
              "      <td>This is a confection that has been around a fe...</td>\n",
              "      <td>\"Delight\" says it all</td>\n",
              "      <td>confection around centuries light pillowy citr...</td>\n",
              "      <td>delight says it all</td>\n",
              "    </tr>\n",
              "    <tr>\n",
              "      <th>3</th>\n",
              "      <td>If you are looking for the secret ingredient i...</td>\n",
              "      <td>Cough Medicine</td>\n",
              "      <td>looking secret ingredient robitussin believe f...</td>\n",
              "      <td>cough medicine</td>\n",
              "    </tr>\n",
              "    <tr>\n",
              "      <th>4</th>\n",
              "      <td>Great taffy at a great price.  There was a wid...</td>\n",
              "      <td>Great taffy</td>\n",
              "      <td>great taffy great price wide assortment yummy ...</td>\n",
              "      <td>great taffy</td>\n",
              "    </tr>\n",
              "    <tr>\n",
              "      <th>5</th>\n",
              "      <td>I got a wild hair for taffy and ordered this f...</td>\n",
              "      <td>Nice Taffy</td>\n",
              "      <td>got wild hair taffy ordered five pound bag taf...</td>\n",
              "      <td>nice taffy</td>\n",
              "    </tr>\n",
              "    <tr>\n",
              "      <th>6</th>\n",
              "      <td>This saltwater taffy had great flavors and was...</td>\n",
              "      <td>Great!  Just as good as the expensive brands!</td>\n",
              "      <td>saltwater taffy great flavors soft chewy candy...</td>\n",
              "      <td>great just as good as the expensive brands</td>\n",
              "    </tr>\n",
              "    <tr>\n",
              "      <th>7</th>\n",
              "      <td>This taffy is so good.  It is very soft and ch...</td>\n",
              "      <td>Wonderful, tasty taffy</td>\n",
              "      <td>taffy good soft chewy flavors amazing would de...</td>\n",
              "      <td>wonderful tasty taffy</td>\n",
              "    </tr>\n",
              "    <tr>\n",
              "      <th>8</th>\n",
              "      <td>Right now I'm mostly just sprouting this so my...</td>\n",
              "      <td>Yay Barley</td>\n",
              "      <td>right mostly sprouting cats eat grass love rot...</td>\n",
              "      <td>yay barley</td>\n",
              "    </tr>\n",
              "    <tr>\n",
              "      <th>9</th>\n",
              "      <td>This is a very healthy dog food. Good for thei...</td>\n",
              "      <td>Healthy Dog Food</td>\n",
              "      <td>healthy dog food good digestion also good smal...</td>\n",
              "      <td>healthy dog food</td>\n",
              "    </tr>\n",
              "  </tbody>\n",
              "</table>\n",
              "</div>"
            ],
            "text/plain": [
              "                                                Text  ...                             cleaned_summary\n",
              "0  I have bought several of the Vitality canned d...  ...                       good quality dog food\n",
              "1  Product arrived labeled as Jumbo Salted Peanut...  ...                           not as advertised\n",
              "2  This is a confection that has been around a fe...  ...                         delight says it all\n",
              "3  If you are looking for the secret ingredient i...  ...                              cough medicine\n",
              "4  Great taffy at a great price.  There was a wid...  ...                                 great taffy\n",
              "5  I got a wild hair for taffy and ordered this f...  ...                                  nice taffy\n",
              "6  This saltwater taffy had great flavors and was...  ...  great just as good as the expensive brands\n",
              "7  This taffy is so good.  It is very soft and ch...  ...                       wonderful tasty taffy\n",
              "8  Right now I'm mostly just sprouting this so my...  ...                                  yay barley\n",
              "9  This is a very healthy dog food. Good for thei...  ...                            healthy dog food\n",
              "\n",
              "[10 rows x 4 columns]"
            ]
          },
          "metadata": {
            "tags": []
          },
          "execution_count": 19
        }
      ]
    },
    {
      "cell_type": "code",
      "metadata": {
        "id": "KySI51KaQW6L",
        "colab_type": "code",
        "colab": {}
      },
      "source": [
        "document = data['cleaned_text']\n",
        "summary = data['cleaned_summary']"
      ],
      "execution_count": null,
      "outputs": []
    },
    {
      "cell_type": "code",
      "metadata": {
        "id": "mCfEVNYFI6_e",
        "colab_type": "code",
        "colab": {}
      },
      "source": [
        "document_lengths = pd.Series([len(x.split()) for x in document])\n",
        "summary_lengths = pd.Series([len(x.split()) for x in summary])"
      ],
      "execution_count": null,
      "outputs": []
    },
    {
      "cell_type": "code",
      "metadata": {
        "id": "ffy6GeHKQiqu",
        "colab_type": "code",
        "colab": {
          "base_uri": "https://localhost:8080/",
          "height": 170
        },
        "outputId": "8d78ee5d-eb2d-48e7-b8b5-ff1d4f5a25ab"
      },
      "source": [
        "document_lengths.describe() #to find the mean length of text sentences"
      ],
      "execution_count": null,
      "outputs": [
        {
          "output_type": "execute_result",
          "data": {
            "text/plain": [
              "count    59981.000000\n",
              "mean        37.792768\n",
              "std         35.939577\n",
              "min          2.000000\n",
              "25%         16.000000\n",
              "50%         27.000000\n",
              "75%         46.000000\n",
              "max        863.000000\n",
              "dtype: float64"
            ]
          },
          "metadata": {
            "tags": []
          },
          "execution_count": 22
        }
      ]
    },
    {
      "cell_type": "code",
      "metadata": {
        "id": "KTEhov1tQnWT",
        "colab_type": "code",
        "colab": {
          "base_uri": "https://localhost:8080/",
          "height": 170
        },
        "outputId": "ec8f3708-3d38-4c56-ac95-8c6569cf36e2"
      },
      "source": [
        "summary_lengths.describe() #to find the mean length of summary sentences"
      ],
      "execution_count": null,
      "outputs": [
        {
          "output_type": "execute_result",
          "data": {
            "text/plain": [
              "count    59981.000000\n",
              "mean         4.120772\n",
              "std          2.598539\n",
              "min          1.000000\n",
              "25%          2.000000\n",
              "50%          4.000000\n",
              "75%          5.000000\n",
              "max         30.000000\n",
              "dtype: float64"
            ]
          },
          "metadata": {
            "tags": []
          },
          "execution_count": 23
        }
      ]
    },
    {
      "cell_type": "code",
      "metadata": {
        "id": "AebyxLRF_JC5",
        "colab_type": "code",
        "colab": {}
      },
      "source": [
        "#based on above stats of length of document and its summary (keep mean value along with possible variance)\n",
        "max_text_len=128\n",
        "max_summary_len=16"
      ],
      "execution_count": null,
      "outputs": []
    },
    {
      "cell_type": "code",
      "metadata": {
        "id": "7us1HjlA1EvN",
        "colab_type": "code",
        "colab": {}
      },
      "source": [
        "#Taking only the sentences whose summary length and text length are in our limits because that is only relevant\n",
        "cleaned_text =np.array(data['cleaned_text'])\n",
        "cleaned_summary=np.array(data['cleaned_summary'])\n",
        "\n",
        "short_text=[]\n",
        "short_summary=[]\n",
        "\n",
        "for i in range(len(cleaned_text)):\n",
        "    if(len(cleaned_summary[i].split())<=max_summary_len and len(cleaned_text[i].split())<=max_text_len):\n",
        "        short_text.append(cleaned_text[i])\n",
        "        short_summary.append(cleaned_summary[i])\n",
        "        \n",
        "df=pd.DataFrame({'text':short_text,'summary':short_summary})"
      ],
      "execution_count": null,
      "outputs": []
    },
    {
      "cell_type": "code",
      "metadata": {
        "id": "Bv9nNYTSqJTP",
        "colab_type": "code",
        "colab": {
          "base_uri": "https://localhost:8080/",
          "height": 204
        },
        "outputId": "0053bac2-e436-4fd4-cc9d-2027131576b3"
      },
      "source": [
        "df.head()"
      ],
      "execution_count": null,
      "outputs": [
        {
          "output_type": "execute_result",
          "data": {
            "text/html": [
              "<div>\n",
              "<style scoped>\n",
              "    .dataframe tbody tr th:only-of-type {\n",
              "        vertical-align: middle;\n",
              "    }\n",
              "\n",
              "    .dataframe tbody tr th {\n",
              "        vertical-align: top;\n",
              "    }\n",
              "\n",
              "    .dataframe thead th {\n",
              "        text-align: right;\n",
              "    }\n",
              "</style>\n",
              "<table border=\"1\" class=\"dataframe\">\n",
              "  <thead>\n",
              "    <tr style=\"text-align: right;\">\n",
              "      <th></th>\n",
              "      <th>text</th>\n",
              "      <th>summary</th>\n",
              "    </tr>\n",
              "  </thead>\n",
              "  <tbody>\n",
              "    <tr>\n",
              "      <th>0</th>\n",
              "      <td>bought several vitality canned dog food produc...</td>\n",
              "      <td>good quality dog food</td>\n",
              "    </tr>\n",
              "    <tr>\n",
              "      <th>1</th>\n",
              "      <td>product arrived labeled jumbo salted peanuts p...</td>\n",
              "      <td>not as advertised</td>\n",
              "    </tr>\n",
              "    <tr>\n",
              "      <th>2</th>\n",
              "      <td>confection around centuries light pillowy citr...</td>\n",
              "      <td>delight says it all</td>\n",
              "    </tr>\n",
              "    <tr>\n",
              "      <th>3</th>\n",
              "      <td>looking secret ingredient robitussin believe f...</td>\n",
              "      <td>cough medicine</td>\n",
              "    </tr>\n",
              "    <tr>\n",
              "      <th>4</th>\n",
              "      <td>great taffy great price wide assortment yummy ...</td>\n",
              "      <td>great taffy</td>\n",
              "    </tr>\n",
              "  </tbody>\n",
              "</table>\n",
              "</div>"
            ],
            "text/plain": [
              "                                                text                summary\n",
              "0  bought several vitality canned dog food produc...  good quality dog food\n",
              "1  product arrived labeled jumbo salted peanuts p...      not as advertised\n",
              "2  confection around centuries light pillowy citr...    delight says it all\n",
              "3  looking secret ingredient robitussin believe f...         cough medicine\n",
              "4  great taffy great price wide assortment yummy ...            great taffy"
            ]
          },
          "metadata": {
            "tags": []
          },
          "execution_count": 26
        }
      ]
    },
    {
      "cell_type": "code",
      "metadata": {
        "id": "EJg2iOMQqMxM",
        "colab_type": "code",
        "colab": {
          "base_uri": "https://localhost:8080/",
          "height": 170
        },
        "outputId": "9390b7f2-86c6-4d53-bc1c-07b77821293e"
      },
      "source": [
        "df.info()"
      ],
      "execution_count": null,
      "outputs": [
        {
          "output_type": "stream",
          "text": [
            "<class 'pandas.core.frame.DataFrame'>\n",
            "RangeIndex: 58306 entries, 0 to 58305\n",
            "Data columns (total 2 columns):\n",
            " #   Column   Non-Null Count  Dtype \n",
            "---  ------   --------------  ----- \n",
            " 0   text     58306 non-null  object\n",
            " 1   summary  58306 non-null  object\n",
            "dtypes: object(2)\n",
            "memory usage: 911.2+ KB\n"
          ],
          "name": "stdout"
        }
      ]
    },
    {
      "cell_type": "code",
      "metadata": {
        "id": "wOMiVO681WsX",
        "colab_type": "code",
        "colab": {}
      },
      "source": [
        "df['summary'] = df['summary'].apply(lambda x : '<start> '+ x + ' <end>') #appending Start of Sentences and End of sentence tokens"
      ],
      "execution_count": null,
      "outputs": []
    },
    {
      "cell_type": "code",
      "metadata": {
        "id": "YRjShWHVqdDx",
        "colab_type": "code",
        "colab": {
          "base_uri": "https://localhost:8080/",
          "height": 359
        },
        "outputId": "635f92dd-7e21-4930-d849-b50b4195b055"
      },
      "source": [
        "df.head(10)"
      ],
      "execution_count": null,
      "outputs": [
        {
          "output_type": "execute_result",
          "data": {
            "text/html": [
              "<div>\n",
              "<style scoped>\n",
              "    .dataframe tbody tr th:only-of-type {\n",
              "        vertical-align: middle;\n",
              "    }\n",
              "\n",
              "    .dataframe tbody tr th {\n",
              "        vertical-align: top;\n",
              "    }\n",
              "\n",
              "    .dataframe thead th {\n",
              "        text-align: right;\n",
              "    }\n",
              "</style>\n",
              "<table border=\"1\" class=\"dataframe\">\n",
              "  <thead>\n",
              "    <tr style=\"text-align: right;\">\n",
              "      <th></th>\n",
              "      <th>text</th>\n",
              "      <th>summary</th>\n",
              "    </tr>\n",
              "  </thead>\n",
              "  <tbody>\n",
              "    <tr>\n",
              "      <th>0</th>\n",
              "      <td>bought several vitality canned dog food produc...</td>\n",
              "      <td>&lt;start&gt; good quality dog food &lt;end&gt;</td>\n",
              "    </tr>\n",
              "    <tr>\n",
              "      <th>1</th>\n",
              "      <td>product arrived labeled jumbo salted peanuts p...</td>\n",
              "      <td>&lt;start&gt; not as advertised &lt;end&gt;</td>\n",
              "    </tr>\n",
              "    <tr>\n",
              "      <th>2</th>\n",
              "      <td>confection around centuries light pillowy citr...</td>\n",
              "      <td>&lt;start&gt; delight says it all &lt;end&gt;</td>\n",
              "    </tr>\n",
              "    <tr>\n",
              "      <th>3</th>\n",
              "      <td>looking secret ingredient robitussin believe f...</td>\n",
              "      <td>&lt;start&gt; cough medicine &lt;end&gt;</td>\n",
              "    </tr>\n",
              "    <tr>\n",
              "      <th>4</th>\n",
              "      <td>great taffy great price wide assortment yummy ...</td>\n",
              "      <td>&lt;start&gt; great taffy &lt;end&gt;</td>\n",
              "    </tr>\n",
              "    <tr>\n",
              "      <th>5</th>\n",
              "      <td>got wild hair taffy ordered five pound bag taf...</td>\n",
              "      <td>&lt;start&gt; nice taffy &lt;end&gt;</td>\n",
              "    </tr>\n",
              "    <tr>\n",
              "      <th>6</th>\n",
              "      <td>saltwater taffy great flavors soft chewy candy...</td>\n",
              "      <td>&lt;start&gt; great just as good as the expensive br...</td>\n",
              "    </tr>\n",
              "    <tr>\n",
              "      <th>7</th>\n",
              "      <td>taffy good soft chewy flavors amazing would de...</td>\n",
              "      <td>&lt;start&gt; wonderful tasty taffy &lt;end&gt;</td>\n",
              "    </tr>\n",
              "    <tr>\n",
              "      <th>8</th>\n",
              "      <td>right mostly sprouting cats eat grass love rot...</td>\n",
              "      <td>&lt;start&gt; yay barley &lt;end&gt;</td>\n",
              "    </tr>\n",
              "    <tr>\n",
              "      <th>9</th>\n",
              "      <td>healthy dog food good digestion also good smal...</td>\n",
              "      <td>&lt;start&gt; healthy dog food &lt;end&gt;</td>\n",
              "    </tr>\n",
              "  </tbody>\n",
              "</table>\n",
              "</div>"
            ],
            "text/plain": [
              "                                                text                                            summary\n",
              "0  bought several vitality canned dog food produc...                <start> good quality dog food <end>\n",
              "1  product arrived labeled jumbo salted peanuts p...                    <start> not as advertised <end>\n",
              "2  confection around centuries light pillowy citr...                  <start> delight says it all <end>\n",
              "3  looking secret ingredient robitussin believe f...                       <start> cough medicine <end>\n",
              "4  great taffy great price wide assortment yummy ...                          <start> great taffy <end>\n",
              "5  got wild hair taffy ordered five pound bag taf...                           <start> nice taffy <end>\n",
              "6  saltwater taffy great flavors soft chewy candy...  <start> great just as good as the expensive br...\n",
              "7  taffy good soft chewy flavors amazing would de...                <start> wonderful tasty taffy <end>\n",
              "8  right mostly sprouting cats eat grass love rot...                           <start> yay barley <end>\n",
              "9  healthy dog food good digestion also good smal...                     <start> healthy dog food <end>"
            ]
          },
          "metadata": {
            "tags": []
          },
          "execution_count": 29
        }
      ]
    },
    {
      "cell_type": "code",
      "metadata": {
        "id": "udcZOWEq--cH",
        "colab_type": "code",
        "colab": {
          "base_uri": "https://localhost:8080/",
          "height": 377
        },
        "outputId": "7df0e0f9-2761-4d8b-9725-69418b83339d"
      },
      "source": [
        "#Finally taking a lool at preprocessed Reviews and their summaries\n",
        "for i in range(10,15):\n",
        "    print(\"Review:\",df['text'][i])\n",
        "    print(\"Summary:\",df['summary'][i])\n",
        "    print(\"\\n\")"
      ],
      "execution_count": null,
      "outputs": [
        {
          "output_type": "stream",
          "text": [
            "Review: know cactus tequila unique combination ingredients flavour hot sauce makes one kind picked bottle trip brought back home us totally blown away realized simply could find anywhere city bummed magic internet case sauce ecstatic love hot sauce mean really love hot sauce want sauce tastelessly burns throat grab bottle tequila picante gourmet de inclan realize taste never want use sauce thank personal incredible service\n",
            "Summary: <start> the best hot sauce in the world <end>\n",
            "\n",
            "\n",
            "Review: one boys needed lose weight put food floor chubby guy protein rich product food higher skinny boy jump higher food sits going stale really go food chubby boy losing ounce week\n",
            "Summary: <start> my cats love this diet food better than their regular food <end>\n",
            "\n",
            "\n",
            "Review: cats happily eating felidae platinum two years got new bag shape food different tried new food first put bowls bowls sit full kitties touch food noticed similar reviews related formula changes past unfortunately need find new food cats eat\n",
            "Summary: <start> my cats are not fans of the new food <end>\n",
            "\n",
            "\n",
            "Review: good flavor came securely packed fresh delicious love twizzlers\n",
            "Summary: <start> fresh and greasy <end>\n",
            "\n",
            "\n",
            "Review: strawberry twizzlers guilty pleasure yummy six pounds around son\n",
            "Summary: <start> strawberry twizzlers yummy <end>\n",
            "\n",
            "\n"
          ],
          "name": "stdout"
        }
      ]
    },
    {
      "cell_type": "code",
      "metadata": {
        "id": "6UnXjGxw1e2Z",
        "colab_type": "code",
        "colab": {
          "base_uri": "https://localhost:8080/",
          "height": 173
        },
        "outputId": "c0ccacd2-ec63-4299-e4c9-243c782e5005"
      },
      "source": [
        "np.array(df['text'])"
      ],
      "execution_count": null,
      "outputs": [
        {
          "output_type": "execute_result",
          "data": {
            "text/plain": [
              "array(['bought several vitality canned dog food products found good quality product looks like stew processed meat smells better labrador finicky appreciates product better',\n",
              "       'product arrived labeled jumbo salted peanuts peanuts actually small sized unsalted sure error vendor intended represent product jumbo',\n",
              "       'confection around centuries light pillowy citrus gelatin nuts case filberts cut tiny squares liberally coated powdered sugar tiny mouthful heaven chewy flavorful highly recommend yummy treat familiar story lewis lion witch wardrobe treat seduces edmund selling brother sisters witch',\n",
              "       ...,\n",
              "       'vegetable sour soup good knorr bors magic soup seasoning thank homemade sour soup romania',\n",
              "       'enjoy puffed whole grains one best eat millet nutritious one breakfast grains alkaline instead acidic like toast slightly oven best results breakfast mix bowl sweeter flaked cereal balance sweet taste mild taste different texture',\n",
              "       'bought item arrowhead mills puffed millet unavailable first think nature path tasted good arrowhead figured owing different composition bags two companies use likely got older box point developed preference nature path millet much better job filtering seed hulls arrowhead hulls pesky little buggers get caught teeth virtually absent nature path arrowhead hand always gives heaping helping miss arrowhead bags though perfect bagging cat litter clumps'],\n",
              "      dtype=object)"
            ]
          },
          "metadata": {
            "tags": []
          },
          "execution_count": 31
        }
      ]
    },
    {
      "cell_type": "code",
      "metadata": {
        "id": "QbxSXxue1r6W",
        "colab_type": "code",
        "colab": {}
      },
      "source": [
        "#Spliting into training and validation sets\n",
        "from sklearn.model_selection import train_test_split\n",
        "x_tr,x_val,y_tr,y_val=train_test_split(np.array(df['text']),np.array(df['summary']),test_size=0.2,random_state=42,shuffle=True)"
      ],
      "execution_count": null,
      "outputs": []
    },
    {
      "cell_type": "markdown",
      "metadata": {
        "id": "kSaFfTq0BmQN",
        "colab_type": "text"
      },
      "source": [
        "# Tokenization and Conversion to Sequences"
      ]
    },
    {
      "cell_type": "markdown",
      "metadata": {
        "id": "NC5mEFX9B8d6",
        "colab_type": "text"
      },
      "source": [
        "## Text Vocab"
      ]
    },
    {
      "cell_type": "code",
      "metadata": {
        "id": "OfNfwtcpsJw-",
        "colab_type": "code",
        "colab": {}
      },
      "source": [
        "#prepare a tokenizer for reviews on training data\n",
        "x_tokenizer = Tokenizer(filters='!\"#$%&()*+,-./:;<=>?@[\\\\]^_`{|}~\\t\\n',oov_token='<UNK>')\n",
        "x_tokenizer.fit_on_texts(list(x_tr))"
      ],
      "execution_count": null,
      "outputs": []
    },
    {
      "cell_type": "code",
      "metadata": {
        "id": "uFdzx-tCsOJG",
        "colab_type": "code",
        "colab": {
          "base_uri": "https://localhost:8080/",
          "height": 85
        },
        "outputId": "72673e96-2e13-47cf-e1e7-ca0d58305c7c"
      },
      "source": [
        "thresh=4\n",
        "cnt=0\n",
        "tot_cnt=0\n",
        "freq=0\n",
        "tot_freq=0\n",
        "\n",
        "for key,value in x_tokenizer.word_counts.items():\n",
        "    tot_cnt=tot_cnt+1\n",
        "    tot_freq=tot_freq+value\n",
        "    if(value<thresh):\n",
        "        cnt=cnt+1\n",
        "        freq=freq+value\n",
        "print(f'total words : {tot_cnt}')\n",
        "print(f'rare words : {cnt}')   \n",
        "print(\"% of rare words in vocabulary:\",(cnt/tot_cnt)*100)\n",
        "print(\"Total Coverage of rare words:\",(freq/tot_freq)*100)"
      ],
      "execution_count": null,
      "outputs": [
        {
          "output_type": "stream",
          "text": [
            "total words : 35044\n",
            "rare words : 21857\n",
            "% of rare words in vocabulary: 62.37016322337633\n",
            "Total Coverage of rare words: 1.9736921610119633\n"
          ],
          "name": "stdout"
        }
      ]
    },
    {
      "cell_type": "code",
      "metadata": {
        "id": "R1EZ6_fv_UQo",
        "colab_type": "code",
        "colab": {}
      },
      "source": [
        "#prepare a tokenizer for reviews on training data neglecting rare words as their coverage over total document is very less\n",
        "x_tokenizer = Tokenizer(num_words=tot_cnt-cnt,filters='!\"#$%&()*+,-./:;<=>?@[\\\\]^_`{|}~\\t\\n',oov_token='<UNK>') \n",
        "x_tokenizer.fit_on_texts(list(x_tr))\n",
        "\n",
        "#convert text sequences into integer sequences\n",
        "x_tr_seq    =   x_tokenizer.texts_to_sequences(x_tr) \n",
        "x_val_seq   =   x_tokenizer.texts_to_sequences(x_val)\n",
        "\n",
        "#padding zero upto maximum length\n",
        "x_tr    =   pad_sequences(x_tr_seq,  maxlen=max_text_len, padding='post')\n",
        "x_val   =   pad_sequences(x_val_seq, maxlen=max_text_len, padding='post')\n",
        "\n",
        "#size of vocabulary ( +1 for padding token)\n",
        "x_voc   =  x_tokenizer.num_words + 1"
      ],
      "execution_count": null,
      "outputs": []
    },
    {
      "cell_type": "code",
      "metadata": {
        "id": "wdONjTFL06SF",
        "colab_type": "code",
        "colab": {
          "base_uri": "https://localhost:8080/",
          "height": 34
        },
        "outputId": "cc7d694f-a2d8-49f5-a8cf-d5f7f9765895"
      },
      "source": [
        "x_voc"
      ],
      "execution_count": null,
      "outputs": [
        {
          "output_type": "execute_result",
          "data": {
            "text/plain": [
              "13188"
            ]
          },
          "metadata": {
            "tags": []
          },
          "execution_count": 37
        }
      ]
    },
    {
      "cell_type": "code",
      "metadata": {
        "id": "izRwu13ZN_2y",
        "colab_type": "code",
        "colab": {
          "base_uri": "https://localhost:8080/",
          "height": 34
        },
        "outputId": "91257b83-516f-4301-b158-124c653476b5"
      },
      "source": [
        "x_tr.shape , type(x_tr) , x_val.shape , type(x_val) , x_voc"
      ],
      "execution_count": null,
      "outputs": [
        {
          "output_type": "execute_result",
          "data": {
            "text/plain": [
              "((46644, 128), numpy.ndarray, (11662, 128), numpy.ndarray, 13188)"
            ]
          },
          "metadata": {
            "tags": []
          },
          "execution_count": 38
        }
      ]
    },
    {
      "cell_type": "markdown",
      "metadata": {
        "id": "R-CwKU12CFhC",
        "colab_type": "text"
      },
      "source": [
        "## Summary Vocab"
      ]
    },
    {
      "cell_type": "code",
      "metadata": {
        "id": "l8DbO4tXskOi",
        "colab_type": "code",
        "colab": {}
      },
      "source": [
        "#prepare a tokenizer for reviews on training data\n",
        "y_tokenizer = Tokenizer(filters='!\"#$%&()*+,-./:;=?@[\\\\]^_`{|}~\\t\\n',oov_token='<UNK>')   \n",
        "y_tokenizer.fit_on_texts(list(y_tr))"
      ],
      "execution_count": null,
      "outputs": []
    },
    {
      "cell_type": "code",
      "metadata": {
        "id": "s7wSeOjhspOv",
        "colab_type": "code",
        "colab": {
          "base_uri": "https://localhost:8080/",
          "height": 85
        },
        "outputId": "007e1701-fa6f-4569-9dde-9a1c72a14c68"
      },
      "source": [
        "thresh=2 \n",
        "cnt=0\n",
        "tot_cnt=0\n",
        "freq=0\n",
        "tot_freq=0\n",
        "\n",
        "for key,value in y_tokenizer.word_counts.items():\n",
        "    tot_cnt=tot_cnt+1\n",
        "    tot_freq=tot_freq+value\n",
        "    if(value<thresh):\n",
        "        cnt=cnt+1\n",
        "        freq=freq+value\n",
        "print(f'total words : {tot_cnt}')\n",
        "print(f'rare words : {cnt}')   \n",
        "print(\"% of rare words in vocabulary:\",(cnt/tot_cnt)*100)\n",
        "print(\"Total Coverage of rare words:\",(freq/tot_freq)*100)"
      ],
      "execution_count": null,
      "outputs": [
        {
          "output_type": "stream",
          "text": [
            "total words : 10132\n",
            "rare words : 4667\n",
            "% of rare words in vocabulary: 46.061981839715756\n",
            "Total Coverage of rare words: 1.659159506127194\n"
          ],
          "name": "stdout"
        }
      ]
    },
    {
      "cell_type": "code",
      "metadata": {
        "id": "lXfIdw10_YgQ",
        "colab_type": "code",
        "colab": {}
      },
      "source": [
        "#prepare a tokenizer for reviews on training data\n",
        "y_tokenizer = Tokenizer(num_words=tot_cnt-cnt,filters='!\"#$%&()*+,-./:;=?@[\\\\]^_`{|}~\\t\\n',oov_token='<UNK>') \n",
        "y_tokenizer.fit_on_texts(list(y_tr))\n",
        "\n",
        "#convert text sequences into integer sequences\n",
        "y_tr_seq    =   y_tokenizer.texts_to_sequences(y_tr) \n",
        "y_val_seq   =   y_tokenizer.texts_to_sequences(y_val) \n",
        "\n",
        "#padding zero upto maximum length\n",
        "y_tr    =   pad_sequences(y_tr_seq, maxlen=max_summary_len, padding='post')\n",
        "y_val   =   pad_sequences(y_val_seq, maxlen=max_summary_len, padding='post')\n",
        "\n",
        "#size of vocabulary\n",
        "y_voc  =   y_tokenizer.num_words +1"
      ],
      "execution_count": null,
      "outputs": []
    },
    {
      "cell_type": "code",
      "metadata": {
        "id": "ypdDr9_t09_x",
        "colab_type": "code",
        "colab": {
          "base_uri": "https://localhost:8080/",
          "height": 34
        },
        "outputId": "91e3526e-854e-4625-fa51-8d1e1c1c9c20"
      },
      "source": [
        "y_voc"
      ],
      "execution_count": null,
      "outputs": [
        {
          "output_type": "execute_result",
          "data": {
            "text/plain": [
              "5466"
            ]
          },
          "metadata": {
            "tags": []
          },
          "execution_count": 42
        }
      ]
    },
    {
      "cell_type": "code",
      "metadata": {
        "id": "gQBlSgmrO8H8",
        "colab_type": "code",
        "colab": {
          "base_uri": "https://localhost:8080/",
          "height": 34
        },
        "outputId": "2e04273d-9214-4b42-de1d-17f416d859a7"
      },
      "source": [
        "y_tr.shape , type(y_tr) , y_val.shape , type(y_val) , y_voc"
      ],
      "execution_count": null,
      "outputs": [
        {
          "output_type": "execute_result",
          "data": {
            "text/plain": [
              "((46644, 16), numpy.ndarray, (11662, 16), numpy.ndarray, 5466)"
            ]
          },
          "metadata": {
            "tags": []
          },
          "execution_count": 43
        }
      ]
    },
    {
      "cell_type": "code",
      "metadata": {
        "id": "7o4YsbdEEqzV",
        "colab_type": "code",
        "colab": {
          "base_uri": "https://localhost:8080/",
          "height": 51
        },
        "outputId": "83ee9957-94fa-49ac-97c4-3b8984ec14d1"
      },
      "source": [
        "y_tr[0]"
      ],
      "execution_count": null,
      "outputs": [
        {
          "output_type": "execute_result",
          "data": {
            "text/plain": [
              "array([  2,  12, 106,   8, 151, 156,  98,  12, 501,  97,   3,   0,   0,\n",
              "         0,   0,   0], dtype=int32)"
            ]
          },
          "metadata": {
            "tags": []
          },
          "execution_count": 44
        }
      ]
    },
    {
      "cell_type": "code",
      "metadata": {
        "id": "frUDIFRyvYYq",
        "colab_type": "code",
        "colab": {
          "base_uri": "https://localhost:8080/",
          "height": 34
        },
        "outputId": "c963500a-da96-497e-bd16-eab3d298bcc6"
      },
      "source": [
        "y_tokenizer.sequences_to_texts([y_tr[0]])"
      ],
      "execution_count": null,
      "outputs": [
        {
          "output_type": "execute_result",
          "data": {
            "text/plain": [
              "['<start> it has not coconut water if it contains sugar <end> <UNK> <UNK> <UNK> <UNK> <UNK>']"
            ]
          },
          "metadata": {
            "tags": []
          },
          "execution_count": 45
        }
      ]
    },
    {
      "cell_type": "code",
      "metadata": {
        "id": "gDuZD3_ts4yP",
        "colab_type": "code",
        "colab": {
          "base_uri": "https://localhost:8080/",
          "height": 34
        },
        "outputId": "9e817747-894d-4721-d68a-a1108813cf33"
      },
      "source": [
        "y_tokenizer.word_counts['<start>'],len(y_tr)  "
      ],
      "execution_count": null,
      "outputs": [
        {
          "output_type": "execute_result",
          "data": {
            "text/plain": [
              "(46644, 46644)"
            ]
          },
          "metadata": {
            "tags": []
          },
          "execution_count": 46
        }
      ]
    },
    {
      "cell_type": "code",
      "metadata": {
        "id": "VDYL2pQPs9G-",
        "colab_type": "code",
        "colab": {}
      },
      "source": [
        "#removing sentences (text+summary obviously) containing just the start and end tokens from training data\n",
        "ind=[]\n",
        "for i in range(len(y_tr)):\n",
        "    cnt=0\n",
        "    for j in y_tr[i]:\n",
        "        if j!=0:\n",
        "            cnt=cnt+1\n",
        "    if(cnt==2):\n",
        "        ind.append(i)\n",
        "\n",
        "y_tr=np.delete(y_tr,ind, axis=0)\n",
        "x_tr=np.delete(x_tr,ind, axis=0)"
      ],
      "execution_count": null,
      "outputs": []
    },
    {
      "cell_type": "code",
      "metadata": {
        "id": "9mV3beeetAWu",
        "colab_type": "code",
        "colab": {}
      },
      "source": [
        "#removing sentences (text+summary obviously) containing just the start and end tokens from validation data\n",
        "ind=[]\n",
        "for i in range(len(y_val)):\n",
        "    cnt=0\n",
        "    for j in y_val[i]:\n",
        "        if j!=0:\n",
        "            cnt=cnt+1\n",
        "    if(cnt==2):\n",
        "        ind.append(i)\n",
        "\n",
        "y_val=np.delete(y_val,ind, axis=0)\n",
        "x_val=np.delete(x_val,ind, axis=0)"
      ],
      "execution_count": null,
      "outputs": []
    },
    {
      "cell_type": "code",
      "metadata": {
        "id": "iuPxp83xv90P",
        "colab_type": "code",
        "colab": {
          "base_uri": "https://localhost:8080/",
          "height": 34
        },
        "outputId": "951c602b-e5b0-4628-cf50-d3000a5ffdf6"
      },
      "source": [
        "x_tr.shape,y_tr.shape"
      ],
      "execution_count": null,
      "outputs": [
        {
          "output_type": "execute_result",
          "data": {
            "text/plain": [
              "((46644, 128), (46644, 16))"
            ]
          },
          "metadata": {
            "tags": []
          },
          "execution_count": 49
        }
      ]
    },
    {
      "cell_type": "code",
      "metadata": {
        "id": "YQ8b3HLXwD11",
        "colab_type": "code",
        "colab": {
          "base_uri": "https://localhost:8080/",
          "height": 34
        },
        "outputId": "b970ef96-119d-4836-e4fb-bcf1b2fdf288"
      },
      "source": [
        "x_val.shape,y_val.shape"
      ],
      "execution_count": null,
      "outputs": [
        {
          "output_type": "execute_result",
          "data": {
            "text/plain": [
              "((11662, 128), (11662, 16))"
            ]
          },
          "metadata": {
            "tags": []
          },
          "execution_count": 50
        }
      ]
    },
    {
      "cell_type": "markdown",
      "metadata": {
        "id": "PMRg69LTzjbb",
        "colab_type": "text"
      },
      "source": [
        "# Model (Encoder-Decoder Architecture)"
      ]
    },
    {
      "cell_type": "markdown",
      "metadata": {
        "id": "g3oXQY88CnyO",
        "colab_type": "text"
      },
      "source": [
        "\n",
        "## Training Phase"
      ]
    },
    {
      "cell_type": "code",
      "metadata": {
        "id": "elRfVi0c_dOe",
        "colab_type": "code",
        "colab": {
          "base_uri": "https://localhost:8080/",
          "height": 1710
        },
        "outputId": "761856d2-80f7-4a3c-923d-7dbd00298f18"
      },
      "source": [
        "from keras import backend as K \n",
        "K.clear_session()\n",
        "latent_dim = 300\n",
        "embedding_dim= 768\n",
        "\n",
        "# Encoder\n",
        "encoder_inputs = Input(shape=(max_text_len,))\n",
        "\n",
        "#embedding layer\n",
        "enc_emb =  Embedding(x_voc, embedding_dim,trainable=True)(encoder_inputs)\n",
        "\n",
        "#encoder lstm 1\n",
        "encoder_lstm1 = LSTM(latent_dim,return_sequences=True,return_state=True,dropout=0.4,recurrent_dropout=0.4)\n",
        "encoder_output1, state_h1, state_c1 = encoder_lstm1(enc_emb)\n",
        "\n",
        "#encoder lstm 2\n",
        "encoder_lstm2 = LSTM(latent_dim,return_sequences=True,return_state=True,dropout=0.4,recurrent_dropout=0.4)\n",
        "encoder_output2, state_h2, state_c2 = encoder_lstm2(encoder_output1)\n",
        "\n",
        "#encoder lstm 3\n",
        "encoder_lstm3=LSTM(latent_dim, return_state=True, return_sequences=True,dropout=0.4,recurrent_dropout=0.4)\n",
        "encoder_outputs, state_h, state_c= encoder_lstm3(encoder_output2)\n",
        "\n",
        "# Set up the decoder, using `encoder_states` as initial state.\n",
        "decoder_inputs = Input(shape=(None,))\n",
        "\n",
        "#embedding layer\n",
        "dec_emb_layer = Embedding(y_voc, embedding_dim,trainable=True)\n",
        "dec_emb = dec_emb_layer(decoder_inputs)\n",
        "\n",
        "decoder_lstm = LSTM(latent_dim, return_sequences=True, return_state=True,dropout=0.4,recurrent_dropout=0.2)\n",
        "decoder_outputs,decoder_fwd_state, decoder_back_state = decoder_lstm(dec_emb,initial_state=[state_h, state_c])\n",
        "\n",
        "# Attention layer\n",
        "attn_layer = AttentionLayer(name='attention_layer')\n",
        "attn_out, attn_states = attn_layer([encoder_outputs, decoder_outputs])\n",
        "\n",
        "# Concat attention input and decoder LSTM output\n",
        "decoder_concat_input = Concatenate(axis=-1, name='concat_layer')([decoder_outputs, attn_out])\n",
        "\n",
        "#dense layer\n",
        "decoder_dense =  TimeDistributed(Dense(y_voc, activation='softmax'))\n",
        "decoder_outputs = decoder_dense(decoder_concat_input)\n",
        "\n",
        "# Define the model \n",
        "model = Model([encoder_inputs, decoder_inputs], decoder_outputs)\n",
        "\n",
        "model.summary() \n",
        "from tensorflow.keras.utils import plot_model\n",
        "plot_model(model, to_file='/content/drive/My Drive/MinorProject/modelPlot.png', show_shapes=True, show_layer_names=True)"
      ],
      "execution_count": null,
      "outputs": [
        {
          "output_type": "stream",
          "text": [
            "WARNING:tensorflow:From /tensorflow-1.15.2/python3.6/tensorflow_core/python/keras/initializers.py:119: calling RandomUniform.__init__ (from tensorflow.python.ops.init_ops) with dtype is deprecated and will be removed in a future version.\n",
            "Instructions for updating:\n",
            "Call initializer instance with the dtype argument instead of passing it to the constructor\n",
            "WARNING:tensorflow:From /tensorflow-1.15.2/python3.6/tensorflow_core/python/ops/resource_variable_ops.py:1630: calling BaseResourceVariable.__init__ (from tensorflow.python.ops.resource_variable_ops) with constraint is deprecated and will be removed in a future version.\n",
            "Instructions for updating:\n",
            "If using Keras pass *_constraint arguments to layers.\n",
            "WARNING:tensorflow:Entity <bound method AttentionLayer.call of <__main__.AttentionLayer object at 0x7f865110aef0>> could not be transformed and will be executed as-is. Please report this to the AutoGraph team. When filing the bug, set the verbosity to 10 (on Linux, `export AUTOGRAPH_VERBOSITY=10`) and attach the full output. Cause: module 'gast' has no attribute 'Num'\n",
            "WARNING: Entity <bound method AttentionLayer.call of <__main__.AttentionLayer object at 0x7f865110aef0>> could not be transformed and will be executed as-is. Please report this to the AutoGraph team. When filing the bug, set the verbosity to 10 (on Linux, `export AUTOGRAPH_VERBOSITY=10`) and attach the full output. Cause: module 'gast' has no attribute 'Num'\n",
            "Model: \"model\"\n",
            "__________________________________________________________________________________________________\n",
            "Layer (type)                    Output Shape         Param #     Connected to                     \n",
            "==================================================================================================\n",
            "input_1 (InputLayer)            [(None, 128)]        0                                            \n",
            "__________________________________________________________________________________________________\n",
            "embedding (Embedding)           (None, 128, 768)     10128384    input_1[0][0]                    \n",
            "__________________________________________________________________________________________________\n",
            "lstm (LSTM)                     [(None, 128, 300), ( 1282800     embedding[0][0]                  \n",
            "__________________________________________________________________________________________________\n",
            "input_2 (InputLayer)            [(None, None)]       0                                            \n",
            "__________________________________________________________________________________________________\n",
            "lstm_1 (LSTM)                   [(None, 128, 300), ( 721200      lstm[0][0]                       \n",
            "__________________________________________________________________________________________________\n",
            "embedding_1 (Embedding)         (None, None, 768)    4197888     input_2[0][0]                    \n",
            "__________________________________________________________________________________________________\n",
            "lstm_2 (LSTM)                   [(None, 128, 300), ( 721200      lstm_1[0][0]                     \n",
            "__________________________________________________________________________________________________\n",
            "lstm_3 (LSTM)                   [(None, None, 300),  1282800     embedding_1[0][0]                \n",
            "                                                                 lstm_2[0][1]                     \n",
            "                                                                 lstm_2[0][2]                     \n",
            "__________________________________________________________________________________________________\n",
            "attention_layer (AttentionLayer ((None, None, 300),  180300      lstm_2[0][0]                     \n",
            "                                                                 lstm_3[0][0]                     \n",
            "__________________________________________________________________________________________________\n",
            "concat_layer (Concatenate)      (None, None, 600)    0           lstm_3[0][0]                     \n",
            "                                                                 attention_layer[0][0]            \n",
            "__________________________________________________________________________________________________\n",
            "time_distributed (TimeDistribut (None, None, 5466)   3285066     concat_layer[0][0]               \n",
            "==================================================================================================\n",
            "Total params: 21,799,638\n",
            "Trainable params: 21,799,638\n",
            "Non-trainable params: 0\n",
            "__________________________________________________________________________________________________\n"
          ],
          "name": "stdout"
        },
        {
          "output_type": "execute_result",
          "data": {
            "image/png": "[encoded data removed]",
            "text/plain": [
              "<IPython.core.display.Image object>"
            ]
          },
          "metadata": {
            "tags": []
          },
          "execution_count": 51
        }
      ]
    },
    {
      "cell_type": "code",
      "metadata": {
        "id": "d9SBCJc2_w_1",
        "colab_type": "code",
        "colab": {}
      },
      "source": [
        "model.compile(optimizer='rmsprop', loss='sparse_categorical_crossentropy',metrics=['accuracy'])"
      ],
      "execution_count": null,
      "outputs": []
    },
    {
      "cell_type": "code",
      "metadata": {
        "id": "l59rE2h3ApTR",
        "colab_type": "code",
        "colab": {}
      },
      "source": [
        "es = EarlyStopping(monitor='val_loss', mode='min', patience=2,verbose=1)"
      ],
      "execution_count": null,
      "outputs": []
    },
    {
      "cell_type": "code",
      "metadata": {
        "id": "U-Yn0tX8Asni",
        "colab_type": "code",
        "colab": {
          "base_uri": "https://localhost:8080/",
          "height": 445
        },
        "outputId": "defcb275-41cd-4c33-babe-285de05a8983"
      },
      "source": [
        "history=model.fit([x_tr,y_tr[:,:-1]], y_tr.reshape(y_tr.shape[0],y_tr.shape[1], 1)[:,1:] ,epochs=10,callbacks=[es],batch_size=64, validation_data=([x_val,y_val[:,:-1]], y_val.reshape(y_val.shape[0],y_val.shape[1], 1)[:,1:]))"
      ],
      "execution_count": null,
      "outputs": [
        {
          "output_type": "stream",
          "text": [
            "WARNING:tensorflow:From /tensorflow-1.15.2/python3.6/tensorflow_core/python/ops/math_grad.py:1424: where (from tensorflow.python.ops.array_ops) is deprecated and will be removed in a future version.\n",
            "Instructions for updating:\n",
            "Use tf.where in 2.0, which has the same broadcast rule as np.where\n",
            "Train on 46644 samples, validate on 11662 samples\n",
            "Epoch 1/10\n",
            "46644/46644 [==============================] - 501s 11ms/sample - loss: 1.7412 - acc: 0.7444 - val_loss: 1.5396 - val_acc: 0.7580\n",
            "Epoch 2/10\n",
            "46644/46644 [==============================] - 505s 11ms/sample - loss: 1.5101 - acc: 0.7637 - val_loss: 1.4450 - val_acc: 0.7675\n",
            "Epoch 3/10\n",
            "46644/46644 [==============================] - 502s 11ms/sample - loss: 1.4344 - acc: 0.7701 - val_loss: 1.4050 - val_acc: 0.7715\n",
            "Epoch 4/10\n",
            "46644/46644 [==============================] - 504s 11ms/sample - loss: 1.3863 - acc: 0.7751 - val_loss: 1.3799 - val_acc: 0.7744\n",
            "Epoch 5/10\n",
            "46644/46644 [==============================] - 505s 11ms/sample - loss: 1.3465 - acc: 0.7789 - val_loss: 1.3619 - val_acc: 0.7755\n",
            "Epoch 6/10\n",
            "46644/46644 [==============================] - 508s 11ms/sample - loss: 1.3133 - acc: 0.7822 - val_loss: 1.3480 - val_acc: 0.7769\n",
            "Epoch 7/10\n",
            "46644/46644 [==============================] - 504s 11ms/sample - loss: 1.2851 - acc: 0.7852 - val_loss: 1.3402 - val_acc: 0.7787\n",
            "Epoch 8/10\n",
            "46644/46644 [==============================] - 503s 11ms/sample - loss: 1.2622 - acc: 0.7880 - val_loss: 1.3377 - val_acc: 0.7792\n",
            "Epoch 9/10\n",
            "46644/46644 [==============================] - 473s 10ms/sample - loss: 1.2416 - acc: 0.7906 - val_loss: 1.3389 - val_acc: 0.7792\n",
            "Epoch 10/10\n",
            "46644/46644 [==============================] - 464s 10ms/sample - loss: 1.2232 - acc: 0.7928 - val_loss: 1.3351 - val_acc: 0.7796\n"
          ],
          "name": "stdout"
        }
      ]
    },
    {
      "cell_type": "code",
      "metadata": {
        "id": "CVMtAhNyBMn2",
        "colab_type": "code",
        "colab": {
          "base_uri": "https://localhost:8080/",
          "height": 262
        },
        "outputId": "1997371d-9f49-4188-f151-99c60d60f711"
      },
      "source": [
        "from matplotlib import pyplot as plt\n",
        "plt.plot(history.history['loss'], label='train') \n",
        "plt.plot(history.history['val_loss'], label='val') \n",
        "plt.legend()\n",
        "plt.show()"
      ],
      "execution_count": null,
      "outputs": [
        {
          "output_type": "display_data",
          "data": {
            "image/png": "[encoded data removed]",
            "text/plain": [
              "<Figure size 432x288 with 1 Axes>"
            ]
          },
          "metadata": {
            "tags": []
          }
        }
      ]
    },
    {
      "cell_type": "code",
      "metadata": {
        "id": "OoQ2uOojBwLH",
        "colab_type": "code",
        "colab": {}
      },
      "source": [
        "reverse_target_word_index=y_tokenizer.index_word\n",
        "reverse_source_word_index=x_tokenizer.index_word\n",
        "target_word_index=y_tokenizer.word_index"
      ],
      "execution_count": null,
      "outputs": []
    },
    {
      "cell_type": "code",
      "metadata": {
        "id": "wci2Qi_4C_Sp",
        "colab_type": "code",
        "colab": {
          "base_uri": "https://localhost:8080/",
          "height": 34
        },
        "outputId": "3333db50-2d39-48df-829d-e6920db1be2f"
      },
      "source": [
        "len(reverse_target_word_index)"
      ],
      "execution_count": null,
      "outputs": [
        {
          "output_type": "execute_result",
          "data": {
            "text/plain": [
              "10133"
            ]
          },
          "metadata": {
            "tags": []
          },
          "execution_count": 58
        }
      ]
    },
    {
      "cell_type": "code",
      "metadata": {
        "id": "ELrowgVP1m8i",
        "colab_type": "code",
        "colab": {
          "base_uri": "https://localhost:8080/",
          "height": 34
        },
        "outputId": "b07eaf9d-63e3-47c9-c0a8-ee0329f01ac7"
      },
      "source": [
        "len(reverse_source_word_index) "
      ],
      "execution_count": null,
      "outputs": [
        {
          "output_type": "execute_result",
          "data": {
            "text/plain": [
              "35045"
            ]
          },
          "metadata": {
            "tags": []
          },
          "execution_count": 59
        }
      ]
    },
    {
      "cell_type": "markdown",
      "metadata": {
        "id": "LcE6BZsTCxbJ",
        "colab_type": "text"
      },
      "source": [
        "## Inference Phase"
      ]
    },
    {
      "cell_type": "markdown",
      "metadata": {
        "id": "doBtZrAnC-bz",
        "colab_type": "text"
      },
      "source": [
        "### Encoder and Decoder Model"
      ]
    },
    {
      "cell_type": "code",
      "metadata": {
        "id": "F4ZklwNuB7mJ",
        "colab_type": "code",
        "colab": {
          "base_uri": "https://localhost:8080/",
          "height": 587
        },
        "outputId": "70a3fa6a-686b-456e-a90b-6c1972e9a2a2"
      },
      "source": [
        "# Encode the input sequence to get the feature vector\n",
        "encoder_model = Model(inputs=encoder_inputs,outputs=[encoder_outputs, state_h, state_c])\n",
        "\n",
        "# Decoder setup\n",
        "# Below tensors will hold the states of the previous time step\n",
        "decoder_state_input_h = Input(shape=(latent_dim,))\n",
        "decoder_state_input_c = Input(shape=(latent_dim,))\n",
        "decoder_hidden_state_input = Input(shape=(max_text_len,latent_dim))\n",
        "\n",
        "# Get the embeddings of the decoder sequence\n",
        "dec_emb2= dec_emb_layer(decoder_inputs) \n",
        "# To predict the next word in the sequence, set the initial states to the states from the previous time step\n",
        "decoder_outputs2, state_h2, state_c2 = decoder_lstm(dec_emb2, initial_state=[decoder_state_input_h, decoder_state_input_c])\n",
        "\n",
        "#attention inference\n",
        "attn_out_inf, attn_states_inf = attn_layer([decoder_hidden_state_input, decoder_outputs2])\n",
        "decoder_inf_concat = Concatenate(axis=-1, name='concat')([decoder_outputs2, attn_out_inf])\n",
        "\n",
        "# A dense softmax layer to generate prob dist. over the target vocabulary\n",
        "decoder_outputs2 = decoder_dense(decoder_inf_concat) \n",
        "\n",
        "# Final decoder model\n",
        "decoder_model = Model(\n",
        "    [decoder_inputs] + [decoder_hidden_state_input,decoder_state_input_h, decoder_state_input_c],\n",
        "    [decoder_outputs2] + [state_h2, state_c2])\n",
        "\n",
        "\n",
        "from tensorflow.keras.utils import plot_model\n",
        "plot_model(encoder_model, to_file='/content/drive/My Drive/MinorProject/Inf_Enc_modelPlot.png', show_shapes=True, show_layer_names=True)"
      ],
      "execution_count": null,
      "outputs": [
        {
          "output_type": "stream",
          "text": [
            "WARNING:tensorflow:Entity <bound method AttentionLayer.call of <__main__.AttentionLayer object at 0x7f865110aef0>> could not be transformed and will be executed as-is. Please report this to the AutoGraph team. When filing the bug, set the verbosity to 10 (on Linux, `export AUTOGRAPH_VERBOSITY=10`) and attach the full output. Cause: module 'gast' has no attribute 'Num'\n",
            "WARNING: Entity <bound method AttentionLayer.call of <__main__.AttentionLayer object at 0x7f865110aef0>> could not be transformed and will be executed as-is. Please report this to the AutoGraph team. When filing the bug, set the verbosity to 10 (on Linux, `export AUTOGRAPH_VERBOSITY=10`) and attach the full output. Cause: module 'gast' has no attribute 'Num'\n"
          ],
          "name": "stdout"
        },
        {
          "output_type": "execute_result",
          "data": {
            "image/png": "[encoded data removed]",
            "text/plain": [
              "<IPython.core.display.Image object>"
            ]
          },
          "metadata": {
            "tags": []
          },
          "execution_count": 60
        }
      ]
    },
    {
      "cell_type": "code",
      "metadata": {
        "id": "aao6hxmWJdRE",
        "colab_type": "code",
        "colab": {
          "base_uri": "https://localhost:8080/",
          "height": 644
        },
        "outputId": "2f0c980b-c04a-4e89-fd8c-486a04e065cb"
      },
      "source": [
        "plot_model(decoder_model, to_file='/content/drive/My Drive/MinorProject/Inf_Dec_modelPlot.png', show_shapes=True, show_layer_names=True)"
      ],
      "execution_count": null,
      "outputs": [
        {
          "output_type": "execute_result",
          "data": {
            "image/png": "[encoded data removed]",
            "text/plain": [
              "<IPython.core.display.Image object>"
            ]
          },
          "metadata": {
            "tags": []
          },
          "execution_count": 61
        }
      ]
    },
    {
      "cell_type": "markdown",
      "metadata": {
        "id": "ysqanU-4DEux",
        "colab_type": "text"
      },
      "source": [
        "## Prediction Using Encoder and Decoder Inference Models"
      ]
    },
    {
      "cell_type": "code",
      "metadata": {
        "id": "yoz6p6QBCErb",
        "colab_type": "code",
        "colab": {}
      },
      "source": [
        "def decode_sequence(input_seq):\n",
        "    # Encode the input as state vectors.\n",
        "    e_out, e_h, e_c = encoder_model.predict(input_seq)\n",
        "    \n",
        "    # Generate empty target sequence of length 1.\n",
        "    target_seq = np.zeros((1,1))\n",
        "    \n",
        "    # Populate the first word of target sequence with the start word.\n",
        "    target_seq[0, 0] = target_word_index['<start>']\n",
        "\n",
        "    stop_condition = False\n",
        "    decoded_sentence = ''\n",
        "    while not stop_condition:\n",
        "      \n",
        "        output_tokens, h, c = decoder_model.predict([target_seq] + [e_out, e_h, e_c])\n",
        "\n",
        "        # Sample a token\n",
        "        sampled_token_index = np.argmax(output_tokens[0, -1, :])\n",
        "        sampled_token = reverse_target_word_index[sampled_token_index]\n",
        "        \n",
        "        if(sampled_token!='<end>'):\n",
        "            decoded_sentence += ' '+sampled_token\n",
        "\n",
        "        # Exit condition: either hit max length or find stop word.\n",
        "        if (sampled_token == '<end>'  or len(decoded_sentence.split()) >= (max_summary_len-1)):\n",
        "            stop_condition = True\n",
        "\n",
        "        # Update the target sequence (of length 1).\n",
        "        target_seq = np.zeros((1,1))\n",
        "        target_seq[0, 0] = sampled_token_index\n",
        "\n",
        "        # Update internal states\n",
        "        e_h, e_c = h, c\n",
        "\n",
        "    return decoded_sentence"
      ],
      "execution_count": null,
      "outputs": []
    },
    {
      "cell_type": "markdown",
      "metadata": {
        "id": "Luabn3o7DQTL",
        "colab_type": "text"
      },
      "source": [
        "# Sequence to Summary and Text"
      ]
    },
    {
      "cell_type": "code",
      "metadata": {
        "id": "vZZDm9BeCKGn",
        "colab_type": "code",
        "colab": {}
      },
      "source": [
        "def seq2summary(input_seq):\n",
        "    newString=''\n",
        "    for i in input_seq:\n",
        "        if((i!=0 and i!=target_word_index['<start>']) and i!=target_word_index['<end>']):\n",
        "            newString=newString+reverse_target_word_index[i]+' '\n",
        "    return newString\n",
        "\n",
        "def seq2text(input_seq):\n",
        "    newString=''\n",
        "    for i in input_seq:\n",
        "        if(i!=0):\n",
        "            newString=newString+reverse_source_word_index[i]+' '\n",
        "    return newString"
      ],
      "execution_count": null,
      "outputs": []
    },
    {
      "cell_type": "code",
      "metadata": {
        "id": "kJgSbxc242-e",
        "colab_type": "code",
        "colab": {
          "base_uri": "https://localhost:8080/",
          "height": 35
        },
        "outputId": "1f810827-2e8a-46ca-a5d9-23704ed9d709"
      },
      "source": [
        "seq2summary(y_val[0])"
      ],
      "execution_count": null,
      "outputs": [
        {
          "output_type": "execute_result",
          "data": {
            "application/vnd.google.colaboratory.intrinsic+json": {
              "type": "string"
            },
            "text/plain": [
              "'delicious low carb gluten free snack '"
            ]
          },
          "metadata": {
            "tags": []
          },
          "execution_count": 64
        }
      ]
    },
    {
      "cell_type": "code",
      "metadata": {
        "id": "GltACFvSCREO",
        "colab_type": "code",
        "colab": {
          "base_uri": "https://localhost:8080/",
          "height": 8537
        },
        "outputId": "fc265952-72af-4ec4-f08e-00cb9091f901"
      },
      "source": [
        "for i in range(500,600):\n",
        "    print(\"Review:\",seq2text(x_tr[i]))\n",
        "    print(\"Original summary:\",seq2summary(y_tr[i]))\n",
        "    print(\"Predicted summary:\",decode_sequence(x_tr[i].reshape(1,max_text_len)))\n",
        "    print(\"\\n\")"
      ],
      "execution_count": null,
      "outputs": [
        {
          "output_type": "stream",
          "text": [
            "Review: dog favorite treat sweet potatoes good friends terrific compliment duck breast \n",
            "Original summary: favorite dog treat \n",
            "Predicted summary:  my dog loves them\n",
            "\n",
            "\n",
            "Review: like flavored water actually coffee know mars flavia used great switch made <UNK> promised quality coffee honestly quite different none aroma enjoy coffee stuff brewed buy coffee grocery store rank better <UNK> junk waste money maybe bring back flavia coffees venture try real shame machine sitting office serves purpose except maybe lend <UNK> look office decor well guess still makes hot water \n",
            "Original summary: bring back flavia \n",
            "Predicted summary:  good coffee but not a good value\n",
            "\n",
            "\n",
            "Review: let start saying sweet potato fan however daughter husband since always looking healthier snacks looked like good option grams fat oz snack bag much better regular chips remember correctly even healthier regular potato popchips personally thought chips ok daughter husband love averaged reviews end stars first bit chip found intensely sweet quickly tasted salt formed nice balance though eating several find sweet salty overall really light greasy fan sweet potatoes probably like chips sweet potatoes thing probably <UNK> \n",
            "Original summary: mixed reviews from my family \n",
            "Predicted summary:  great taste but too much flavor\n",
            "\n",
            "\n",
            "Review: looking holiday sprinkles bulk lucked find purchased brand williams sonoma always small containers paid amount bulk package happy \n",
            "Original summary: just what i was looking for \n",
            "Predicted summary:  great price\n",
            "\n",
            "\n",
            "Review: pink little candies pack alot pink punch taste buds true taste pink grapefruit one favorite bulk candies hit everybody never seen tasted show better order also ups delivery man approved \n",
            "Original summary: slightly bitter but sweet <UNK> \n",
            "Predicted summary:  delicious\n",
            "\n",
            "\n",
            "Review: horrible smell formula <UNK> mixed directed son refused get anywhere near formula thought <UNK> tried taste nearly lost lunch seemed like great product recieved save money find something else got product labeled gluten free celiacs enfamil totally gluten free well son happy drink \n",
            "Original summary: horrible smell and taste yes i tried it too \n",
            "Predicted summary:  awful\n",
            "\n",
            "\n",
            "Review: last night fried pre packaged simply potatoes little vegetable oil duck fat amazing wont believe wonderful rich flavor give ordinary foods \n",
            "Original summary: tastes so good it hurts \n",
            "Predicted summary:  the best\n",
            "\n",
            "\n",
            "Review: best candy ever eaten always request butterscotch squares nothing else whenever asked would like event holiday might go buy box partner today maybe box \n",
            "Original summary: amazing \n",
            "Predicted summary:  best gift ever\n",
            "\n",
            "\n",
            "Review: picked two bags coffee good price friday sale happy decided try flavor rich dark smoky undertone bitterness way like coffee enjoy good amount cream coffee need blend stand cream coffee definitely even enjoy coffee black coffee leave bitter aftertaste extremely smooth would rate notch darker typical french roast coffee quite dark traditional espresso roast perfect way use aero coffee press brew coffee sure coffee would yield delicious cup brewing methods try cup like <UNK> aeropress coffee espresso maker \n",
            "Original summary: smooth rich dark \n",
            "Predicted summary:  good coffee but not a good value\n",
            "\n",
            "\n",
            "Review: love bag shrimp pound stir fry veges little onion chopped hot tasty \n",
            "Original summary: shrimp stir fry \n",
            "Predicted summary:  great product\n",
            "\n",
            "\n",
            "Review: stuff awesome use time sorts con <UNK> word anyway like pb cannot handle grams fat per serving stuff price amazon bucks <UNK> pay bucks vendors enjoy \n",
            "Original summary: great product terrible price \n",
            "Predicted summary:  great product\n",
            "\n",
            "\n",
            "Review: used <UNK> get homemade dulce de leche <UNK> <UNK> alas said <UNK> moved away next best thing involve hanging kitchen hours milk <UNK> \n",
            "Original summary: almost as good as homemade \n",
            "Predicted summary:  <UNK> <UNK> <UNK> <UNK>\n",
            "\n",
            "\n",
            "Review: buy pet store web rip sorry \n",
            "Original summary: the best \n",
            "Predicted summary:  beware of product\n",
            "\n",
            "\n",
            "Review: doggies loves take long figure love would recommend toy fun \n",
            "Original summary: love it \n",
            "Predicted summary:  my favorite\n",
            "\n",
            "\n",
            "Review: care color wrong flavor tastes almost watered maybe birch beer lite gonna try different brand pretty high hopes pa state first exposed birch beer cannot recommend brand chance someone reads reviews sing loud praises find one taste \n",
            "Original summary: weak very weak \n",
            "Predicted summary:  not bad but not bad\n",
            "\n",
            "\n",
            "Review: reading listing thought would similar old french bottle brand longer made needed make <UNK> gin fizz strong even close <UNK> french brand \n",
            "Original summary: not like the old french brand of orange flower water \n",
            "Predicted summary:  not bad but not great\n",
            "\n",
            "\n",
            "Review: british food often poorly regarded comparison cuisine european <UNK> france italy germany spain yet areas britain truly leads world would without sandwich example another area british culinary pre <UNK> steamed pudding amongst spotted dick king pudding fan deeply saddened several rather <UNK> reviewers find name mildly amusing doubt would <UNK> pathetic attempts <UNK> bothered taste first take word nothing tastes better mouthful dick especially comes load hot custard \n",
            "Original summary: what so funny \n",
            "Predicted summary:  <UNK>\n",
            "\n",
            "\n",
            "Review: rich velvety smooth <UNK> want goat <UNK> milk cheese expensive sooo worth \n",
            "Original summary: heavenly \n",
            "Predicted summary:  great\n",
            "\n",
            "\n",
            "Review: dissapointed fondant decided try first time mistake claim fondant rolled thinner brands use less decorate true even rolling tends tear finally got cake cover hard smooth around cake sticky fondant smoother <UNK> smoothly never buy brand going stick wilton \n",
            "Original summary: very dissapointing \n",
            "Predicted summary:  <UNK>\n",
            "\n",
            "\n",
            "Review: wow many salt vinegar snacks disappoint ever satisfied herr everyone else seems pretty weak steps blue diamond almonds take salt vinegar received shipment cannot leave things alone going get another order later year give christmas presents \n",
            "Original summary: another five star review \n",
            "Predicted summary:  best salt ever\n",
            "\n",
            "\n",
            "Review: treat year old <UNK> mix bought bone loves nylabone <UNK> aware one actually edible bought often give treats like really seemed love much fact entire thing nearly gone within minutes purchased largest one one first end since dog lbs bad feeling hours later confirmed dog started gagging <UNK> ate pm got sick around pm slept night although woke times still licking mouth gagging next morning know bone really rich used would recommend unless product dog already familiar experience made dog ill purchase product definitely make sure watch dog eating fast consider taking away devour entire thing minutes like \n",
            "Original summary: not our best idea \n",
            "Predicted summary:  not for my dog\n",
            "\n",
            "\n",
            "Review: item shipped unsealed plastic bag within brown cardboard shipping sleeve arrived product loose falling cardboard effort made seal plastic bag shipping sleeve unbelievable product foul tasting horrible lingering aftertaste could coating disappointed purchase would never buy especially vendor stay away \n",
            "Original summary: awful shipping standards harsh taste \n",
            "Predicted summary:  awful\n",
            "\n",
            "\n",
            "Review: ordered regular revv knowing gimmick pleased coffee work <UNK> figured revv pulse would plus try wow cup really delivers taste yes give boost cant fake <UNK> work night couple cups revv pulse alert awake whole shift revv revv pulse strong coffees looking something light isnt bold bitter enjoy stands great full glass ice wasnt able taste anything strange type herbal tastes happy revv revv pulse purchases side note bought revv pulse amazon green mountain keurig com sold moment cheaper almost sites \n",
            "Original summary: love love love revv pulse \n",
            "Predicted summary:  great product\n",
            "\n",
            "\n",
            "Review: wanted simple <UNK> designs fondant smile dots eyes inch figure colors come pens little black come tinted slightly purple none markers could make solid line without lot scratching pressure completely dried strokes \n",
            "Original summary: not worth it \n",
            "Predicted summary:  <UNK> <UNK> <UNK> <UNK> <UNK>\n",
            "\n",
            "\n",
            "Review: overall good creamy green tint first bit thinking need salt ate feeling <UNK> organic salt free suprised yummy really would suggest soup anyone eat true might lot chicken tiny pieces good liked like \n",
            "Original summary: just ate it \n",
            "Predicted summary:  good but not great\n",
            "\n",
            "\n",
            "Review: stopped buying grocery store cat food several experiences happened nearly <UNK> learned contained learned additives food effect animals organs learned recall foods china killing pets nationwide worldwide learned national recall lists pet foods kinds foods products published online everyday week made switch organics ingredients labels make smile instead <UNK> foods expensive love pets buying peace mind continued health \n",
            "Original summary: a great healthy food my cats love it \n",
            "Predicted summary:  my cat loves it\n",
            "\n",
            "\n",
            "Review: tried first time week favorite coffee hint flavor full bodied taste jamaica crazy love afternoon pick wake immediate smile face seriously awesome highly recommended \n",
            "Original summary: awesome taste \n",
            "Predicted summary:  best coffee i have ever tasted\n",
            "\n",
            "\n",
            "Review: absolutely best tasting coffee ever drank cannot find locally thankfully amazon saved \n",
            "Original summary: why cannot i find this locally \n",
            "Predicted summary:  best coffee ever\n",
            "\n",
            "\n",
            "Review: great deal nuts whole family loves nuts nuts nuts arrived fresh tasty great snack packed lunch \n",
            "Original summary: deez nutz \n",
            "Predicted summary:  great snack\n",
            "\n",
            "\n",
            "Review: boxes candy sticks broken arrival email told new boxes would shipped never came emailed monday wedding saturday assured would new ones wedding candy buffet new box arrived monday wedding box broken customer service nice trying help however price paid thought could better \n",
            "Original summary: bad purchase \n",
            "Predicted summary:  great product but\n",
            "\n",
            "\n",
            "Review: look ingredients made black tea google black tea fluoride see black tea loaded fluoride made oldest part tea plant contains highest level fluoride tea fluoride healthy anyone want healthy natural tea get one made white tea leaves white tea leaves still beneficial antioxidant properties much much much less fluoride either black green teas \n",
            "Original summary: just a word of warning for those that love this tea \n",
            "Predicted summary:  good tea\n",
            "\n",
            "\n",
            "Review: really good stuff looking healthy alternative white sugar read agave nectar <UNK> really healthy even though never tried coconut sugar intrigued tasted pleasantly surprised tastes like mild brown sugar importantly feel sugar spike eating put organic coffee cooking seems work fine like company uses profits support economy small farmers indonesia good <UNK> great taste recommended \n",
            "Original summary: best sugar alternative \n",
            "Predicted summary:  great taste\n",
            "\n",
            "\n",
            "Review: table scraps canidae brand feed <UNK> lab done excellent healthy shinny coat people routinely comment nice coat looks even ask feed sent bag brother noticed dog coat healthier looking week two highly recommend product \n",
            "Original summary: best dog food \n",
            "Predicted summary:  great dog food\n",
            "\n",
            "\n",
            "Review: bonsai came perfectly packaged perfect condition shipped florida way maine package came card lou bonsai <UNK> phone number called received great information helpful hints lou would highly recommend anyone looking purchasing bonsai tree anyone disappointed size tree first please note baby bonsai trees fun would could raise tree watch grow think exciting able watch tree becomes stronger beautiful first bonsai tree lou great phone helpful even refer places buy supplies bonsai instead <UNK> buy products tell passionate take word let \n",
            "Original summary: perfect \n",
            "Predicted summary:  excellent product\n",
            "\n",
            "\n",
            "Review: switch kiwi berry ounce cans <UNK> carbonated beverages soda want bad parts soda drink flavor light fruit sweet drink healthy choice contains vitamin caffeine refreshing year old daughter loved extremely fussy trying stop drinking soda drink \n",
            "Original summary: rated by children given thumbs up \n",
            "Predicted summary:  refreshing\n",
            "\n",
            "\n",
            "Review: get delivered every month works less bone dog loves perfect size \n",
            "Original summary: great bones and good price \n",
            "Predicted summary:  great dog food\n",
            "\n",
            "\n",
            "Review: stuff great brown sugar flavor best easy make since make microwave quickly even kids great quick easy healthy yummy breakfast satisfied product \n",
            "Original summary: very yummy oatmeal \n",
            "Predicted summary:  great taste\n",
            "\n",
            "\n",
            "Review: yr old lab basenji mix favorite food mix together dried food making single last week special treat however shipping cheaper go local pet store \n",
            "Original summary: cheaper at local store \n",
            "Predicted summary:  great product\n",
            "\n",
            "\n",
            "Review: prepared flavor product however took little time enjoy every drop \n",
            "Original summary: yum \n",
            "Predicted summary:  good but not great\n",
            "\n",
            "\n",
            "Review: looking way bulk purchase sugar free kool aid fit bill trying cut back soda family excellent way cheaper store always available second set fast good first oh sugar free part cannot tell difference great product \n",
            "Original summary: great <UNK> and fast shipping great product \n",
            "Predicted summary:  great product\n",
            "\n",
            "\n",
            "Review: nice chips right size serve sandwich watch calories \n",
            "Original summary: just the right size package great chips \n",
            "Predicted summary:  great chips\n",
            "\n",
            "\n",
            "Review: nothing spectacular hard candy tried first must removed individual sometimes annoying packaging sugar free good thing really knows term really means using sorbitol time <UNK> matters eager existence must confess sold long time name crystal light associate name safe people trying avoid sugar even though challenged several times perhaps people trouble makers best obviously informed subject ever yes little taste tiny <UNK> requires consume knows fruit end seem taste like eating mint <UNK> moment goes mouth know exactly getting still serves purpose person bought morsels consumes without <UNK> makes content trying limited ways keep person consuming large quantities sugar help time price feeding dreams <UNK> <UNK> <UNK> seemed appropriate received sure get consumed stars risk <UNK> read many loving reviews product \n",
            "Original summary: <UNK> do <UNK> \n",
            "Predicted summary:  <UNK>\n",
            "\n",
            "\n",
            "Review: figured going great compared premium matcha come pic package cup stuff suggesting drinking grade bitter grassy nastiness kept mix smoothies since probably hyper healthy legitimate matcha \n",
            "Original summary: the bitter truth \n",
            "Predicted summary:  great product\n",
            "\n",
            "\n",
            "Review: quick note let people know excellent tasting low calorie chip love ordering individual sized bags year plus weight watcher still maintaining weight loss thanks products like taste like diet food enjoy cravings one slight problem husband loves order \n",
            "Original summary: great substitute for my favorite potato chip \n",
            "Predicted summary:  great for a great price\n",
            "\n",
            "\n",
            "Review: amazing yummy vegan veggie head go without even meat lovers enjoy thai peanut flavor makes good protein source add things like soup \n",
            "Original summary: i love these \n",
            "Predicted summary:  best ever\n",
            "\n",
            "\n",
            "Review: dog loves vet yorkie likes eat unhealthy things <UNK> away healthy ones lone exception greenies \n",
            "Original summary: great green snack \n",
            "Predicted summary:  greenies\n",
            "\n",
            "\n",
            "Review: really good quality tea much superior twinings tea <UNK> plastic lined paper bag much superior tins keep excess air important tea <UNK> tins look nice hold much air reseal like plastic zip seal \n",
            "Original summary: great \n",
            "Predicted summary:  great tea\n",
            "\n",
            "\n",
            "Review: eating delightful cereal several years kids always feel better gluten free foods unlike popular junky cereals version slightly chocolately cereal light sugary special treat kids also like supporting <UNK> products pricing come nearly mainstream cereals good \n",
            "Original summary: <UNK> crisps rock \n",
            "Predicted summary:  great cereal\n",
            "\n",
            "\n",
            "Review: first started using cavenders teens living midwest first started cooking experimented making fried rice parents bought container cavenders tossed rice fell love using ever since going forty years wife use wide variety dishes simple casseroles complex fish meat dishes still love fried rice tried glad \n",
            "Original summary: still the best after nearly <UNK> years \n",
            "Predicted summary:  best rice ever\n",
            "\n",
            "\n",
            "Review: best sugar free coffee syrups planet want great <UNK> pack mix works also work italian sodas favorites chocolate hazlenut get others coffee station look like barista dream \n",
            "Original summary: best sugar free coffee syrups on the planet \n",
            "Predicted summary:  great taste\n",
            "\n",
            "\n",
            "Review: find many snack foods salty taste perfect ordering amazon fresh crunchy next best thing <UNK> bread \n",
            "Original summary: great flavor and so fresh \n",
            "Predicted summary:  great snack\n",
            "\n",
            "\n",
            "Review: although big fan international delight flavorful creamers must admit unhappy condition package arrived received box least singles containers spilled box needless say creamer carton damaged soaked also noticed opening creamers use single serving large number tiny solidified cream pieces made wonder whether still fresh since still drinkable would give item little average score \n",
            "Original summary: <UNK> french vanilla singles review \n",
            "Predicted summary:  not bad but not great\n",
            "\n",
            "\n",
            "Review: use extract powder cooking plain fage greek yogurt every morning fabulous use stevia clear coffee tabs purse drinks eating away home called company several occasions gotten great info use products baking especially goods rise also company uses purified water extract sweetness part plant opposed companies use chemicals \n",
            "Original summary: sweetleaf rocks \n",
            "Predicted summary:  great product\n",
            "\n",
            "\n",
            "Review: good large single serving thing parties need restaurant service etc great \n",
            "Original summary: large black tea bags \n",
            "Predicted summary:  great price\n",
            "\n",
            "\n",
            "Review: pouch kitchens india curry paste chicken curry sale amazon lb boneless chicken thighs costco cooked jasmine rice one fabulous <UNK> entree people made minutes thing cook pouches lbs chicken <UNK> <UNK> rice freezer lunches curry connoisseur curry tastes spicy fragrant definitely box \n",
            "Original summary: delicious and very economical \n",
            "Predicted summary:  best chili ever\n",
            "\n",
            "\n",
            "Review: pamela dough produces excellent tasty cookie gluten free product kind sensitive digestive system \n",
            "Original summary: pamela chunk cookie dough \n",
            "Predicted summary:  great gluten free cookies\n",
            "\n",
            "\n",
            "Review: chili lime chips calories grams fat per bag cal snacks tiny portions chips normal sized serving favorite pop chip flavor definetly lot taste strong flavor grows first tried would said stars really like pop chip fans talked rate stars end pretty bad taste well matter taste \n",
            "Original summary: lots of flavor not a lot of bad stuff \n",
            "Predicted summary:  not bad but not great\n",
            "\n",
            "\n",
            "Review: pg tips drinker years recently converted wife <UNK> hot tea tea rich full flavored blend enjoy without milk drink several large cups tea throughout day best value found bought recurring delivery plan may change interval barely days half way first box \n",
            "Original summary: excellent tea excellent price \n",
            "Predicted summary:  my favorite tea\n",
            "\n",
            "\n",
            "Review: great hot sauce wish available grocery stores purchase recommend gringo bandito \n",
            "Original summary: needs to be in stores \n",
            "Predicted summary:  great sauce\n",
            "\n",
            "\n",
            "Review: gf diet months used new product old quality company excellent results still use variety box goes long way little expensive worth \n",
            "Original summary: bisquick good \n",
            "Predicted summary:  great product\n",
            "\n",
            "\n",
            "Review: everyone great drastically changed diet months ago trouble finding alternative treat changed found raw revolution products go snack like cal version care apple cinnamon variety remind <UNK> apple loaf like products use agave nectar sweetener pure food ingrediants actually read <UNK> panel \n",
            "Original summary: awesome healthy treat \n",
            "Predicted summary:  my dog loves these\n",
            "\n",
            "\n",
            "Review: ordered thought would freeze dried strawberries could use cereal snacking somewhat dehydrated strawberries super sweetened use baking instead aware plain dried strawberries \n",
            "Original summary: not really dried strawberries \n",
            "Predicted summary:  good but not great\n",
            "\n",
            "\n",
            "Review: love tea hands favorite ingredients clean low calorie especially compared teas real deal basically like making home yummy light refreshing could drink day gallon \n",
            "Original summary: best tea on earth \n",
            "Predicted summary:  great tea\n",
            "\n",
            "\n",
            "Review: great price powdered goat milk local health food store buy one cans three cans best price found use goat milk children process weaning long want much healthier formula well soy dairy based chemicals added vitamins try mimic breastmilk goat milk similar breastmilk dairy much easier humans digest cow milk find great alternative babies adjust cannot tolerate dairy warm bottles month old heat water stove pour glass bottle scoop goat milk shake favorite drink \n",
            "Original summary: great product great price \n",
            "Predicted summary:  great product\n",
            "\n",
            "\n",
            "Review: tastes like non diet soda caffeine aspartame like diet cherry soda also available shoprite <UNK> trader joe try <UNK> like \n",
            "Original summary: no funky aftertaste \n",
            "Predicted summary:  refreshing and refreshing\n",
            "\n",
            "\n",
            "Review: far great way order favorite coffee become really hard find local stores amazon even cheaper previously paid arrived quickly waiting day next shipment \n",
            "Original summary: great coffee great price \n",
            "Predicted summary:  great coffee\n",
            "\n",
            "\n",
            "Review: first harney sons paris tea <UNK> resort oregon may rainy cold sick stuffy looked forward tea morning amazing aroma flavor incredibly soothing ordered online shortly getting home favorite tea ever ran sachets saved tin little secret occasionally open tin take whiff smells good \n",
            "Original summary: paris tea is my favorite \n",
            "Predicted summary:  best tea ever\n",
            "\n",
            "\n",
            "Review: quite good advertised chocolate flavor chemical taste coconut seems bit \n",
            "Original summary: ordinary \n",
            "Predicted summary:  not bad\n",
            "\n",
            "\n",
            "Review: disappointed happy hips product made china going pet food store carry products made usa would still feeding product dog really concerned finding new product due bichon allergies lamb sits cabinet cries treat think may need make lamb jerkey dehydrator work worth regulations china knows swept floors put product know packaging misleading misleading ingredents china scary take much granted usa dp \n",
            "Original summary: made in china \n",
            "Predicted summary:  made in china\n",
            "\n",
            "\n",
            "Review: length <UNK> nervous toy first really warmed quickly enjoyed gnawing however worked well us treat dispenser consider <UNK> quite clever puppy <UNK> tug jug couple days began bringing thing dropping feet dispense treats \n",
            "Original summary: love the idea but not as great in practice for us \n",
            "Predicted summary:  my dog loves it\n",
            "\n",
            "\n",
            "Review: dried bing cherries absolutely delicious used wild rice toasted pecans side dish plan use roast pork tenderloin soon excellent quality price \n",
            "Original summary: dried cherries are delicious \n",
            "Predicted summary:  delicious\n",
            "\n",
            "\n",
            "Review: used drink tea child longer find stores unlike cinnamon teas tried usually blended spices fruity flavors one cinnamon tea perfect \n",
            "Original summary: love this tea \n",
            "Predicted summary:  great tea\n",
            "\n",
            "\n",
            "Review: absolutely love nantucket blend bold yet weak either flavor great splash creamer door \n",
            "Original summary: yummmy \n",
            "Predicted summary:  great coffee\n",
            "\n",
            "\n",
            "Review: <UNK> jeans butter toffee coffee great taste smell aroma coffee brews starts enjoyable experience sit back relax enjoy cup \n",
            "Original summary: great taste \n",
            "Predicted summary:  great taste\n",
            "\n",
            "\n",
            "Review: almond farmer always interested see new flavors come emerald <UNK> diamond walnuts description indicates flavor substitute chocolate covered nuts may already merely cocoa baked onto give nut nice earthy flavor roasted proper crunchiness sweet looking dessert type snack disappointed flavor slightly savory cocoa come hand much might expect good thing would nice classy addition party gathering \n",
            "Original summary: unique product \n",
            "Predicted summary:  not a good snack\n",
            "\n",
            "\n",
            "Review: product extremely sweet taste berry flavor overwhelming senses get used berry flavor becomes calm taste buds less striking want sweet rare treat fit bill could drink every day though \n",
            "Original summary: super sweet \n",
            "Predicted summary:  refreshing\n",
            "\n",
            "\n",
            "Review: title says got offer price even better cashews good may little salty people liked \n",
            "Original summary: good buy good product good price \n",
            "Predicted summary:  good price good product\n",
            "\n",
            "\n",
            "Review: got markers occasionally decorate something boys lunches far done hard boiled eggs thrilled opened lunches tip fairly firm writes easily \n",
            "Original summary: fun \n",
            "Predicted summary:  great product\n",
            "\n",
            "\n",
            "Review: ordered coffee never tried pleasantly surprised great aroma nice taste would recommend coffee anyone \n",
            "Original summary: great coffee \n",
            "Predicted summary:  great coffee\n",
            "\n",
            "\n",
            "Review: love good quality tea always buy full leaf type enjoy zen favorite \n",
            "Original summary: tazo zen full leaf tea \n",
            "Predicted summary:  great tea\n",
            "\n",
            "\n",
            "Review: product allows make really big <UNK> providing spiced nuts gatherings fact gold spreads easily allows use little show people amazed edible gold \n",
            "Original summary: gold dust is awesome \n",
            "Predicted summary:  great product\n",
            "\n",
            "\n",
            "Review: used <UNK> control small <UNK> tomatoes potatos follow directions spraying frequently control safe way treat certain insects would definitely buy product \n",
            "Original summary: <UNK> works if you follow the directions \n",
            "Predicted summary:  not bad but not bad\n",
            "\n",
            "\n",
            "Review: sure expect wolfgang puck coffees pleased sorrento good medium roast bit darker roast mediums keurig land bitter little something chocolatey flavor complaint coffee like keurig cups say extra bold brew pretty weak larger mug typically brew oz size guys bumped oz size brew larger cups comes weak one feels cups usually make weak coffee think really weak tempted brew em two time coffee plain <UNK> less coffee cup brews weaker \n",
            "Original summary: interesting flavor brew small cup \n",
            "Predicted summary:  not a good flavor but not a good flavor\n",
            "\n",
            "\n",
            "Review: great seasoning exploding flavor right amount heat use everything eggs fried squash meats compliments garlic onion powder problem shiping much product ordering much would like \n",
            "Original summary: tis tasty \n",
            "Predicted summary:  great taste\n",
            "\n",
            "\n",
            "Review: kikkoman instant <UNK> miso soup value pack oz awesome \n",
            "Original summary: <UNK> miso soup \n",
            "Predicted summary:  good stuff\n",
            "\n",
            "\n",
            "Review: great service delivery really good product constantly looking good hazelnut coffee far best along green mountain \n",
            "Original summary: thanks \n",
            "Predicted summary:  great coffee\n",
            "\n",
            "\n",
            "Review: price <UNK> <UNK> <UNK> <UNK> <UNK> wish reviewers criticize products would direct us better product people seem want negative really negative like info tone well comment better option \n",
            "Original summary: best available imho \n",
            "Predicted summary:  great product\n",
            "\n",
            "\n",
            "Review: years maybe many <UNK> fact could get callard bowser licorice toffees somehow amazon recommendation <UNK> knew pointed disappointed slight green tint good licorice candies lack bite much anise remember cartoon dog got biscuit would <UNK> make noises ecstasy jump straight air float know dog felt side cannot find local retailer smaller quantities available going eat many fast \n",
            "Original summary: a suitable substitute for callard bowser \n",
            "Predicted summary:  the best licorice ever\n",
            "\n",
            "\n",
            "Review: year old loves goat milk getting way expensive buying fresh store big help picky fact loves impressive \n",
            "Original summary: good deal \n",
            "Predicted summary:  great for my dog\n",
            "\n",
            "\n",
            "Review: able find wasabi peas area turned internet surprised amazon link came glad peas best nicely coated hot bad thing \n",
            "Original summary: the best wasabi peas \n",
            "Predicted summary:  the best\n",
            "\n",
            "\n",
            "Review: always loved shake bake pork kid reason many many years sure today formulation compares every bit good remembered instructions called inch chops cooked minutes seem long enough pleasantly surprised find get done way still juicy wonderful think people cook pork trying careful end ruining coating crunchy perfectly seasoned regular dinner table reintroduced package said enough coat chops really enough \n",
            "Original summary: an old favorite <UNK> a new favorite \n",
            "Predicted summary:  good stuff\n",
            "\n",
            "\n",
            "Review: product helped friend able eat going college finding things eat hard send supply every month make food get sick \n",
            "Original summary: good for celiacs \n",
            "Predicted summary:  great product\n",
            "\n",
            "\n",
            "Review: come expect good products newman <UNK> product exception list ingredients exception palm oil good fact contain wheat corn absolutely excellent two things avoid completely puppy large ish squares two attached easy break apart choose hard dense lb golden retriever puppy good thing major chewer small dog elderly dog one might much chewer might bit much cannot attest taste go far taste puppy seemed really like lot actually took several minutes get one square <UNK> chewer going let take enjoying great deal course said dogs pretty much eat anything fits mouths seemed particular enjoyment happy occasional treat \n",
            "Original summary: <UNK> a good product and thumbs up from the pupster \n",
            "Predicted summary:  great for a great product\n",
            "\n",
            "\n",
            "Review: husband love hot chocolate auto shipment every month going change every month \n",
            "Original summary: love it \n",
            "Predicted summary:  great hot chocolate\n",
            "\n",
            "\n",
            "Review: tastes like sweetened lemonade heated heavily doused ginger sweetness tartness lemon portion ginger strong makes whole mouth throat tingle really impressed hot drink much rather drink herbal lemon tea ginger tea could even finish cup one else family would try either combination muddy tan color smell turned positive note powder completely quickly dissolved hot water \n",
            "Original summary: unique flavor \n",
            "Predicted summary:  ginger lemon beverage with a ginger lemon beverage\n",
            "\n",
            "\n",
            "Review: favorite tea longer find local store happy amazon carries several cups day colder weather \n",
            "Original summary: my favorite tea \n",
            "Predicted summary:  great tea\n",
            "\n",
            "\n",
            "Review: hard find product searched local stores luck able locate though would try regular hershey cocoa flop flavor like dark pleased find product amazon price amazing shipping quick packaged containers well \n",
            "Original summary: can t beat it for the price \n",
            "Predicted summary:  great product\n",
            "\n",
            "\n",
            "Review: use powdered peanut butter smoothies easy way use purpose messy clean saw hungry girl use decided give try \n",
            "Original summary: easy to use \n",
            "Predicted summary:  great product\n",
            "\n",
            "\n",
            "Review: excellent beans fresh tasty work well capresso espresso machine purchasing past year great product \n",
            "Original summary: great beans \n",
            "Predicted summary:  great price\n",
            "\n",
            "\n",
            "Review: great stuff dog would touch first tries took worked real well dog treat additive food rather complete meal \n",
            "Original summary: took a couple fo days to decide he liked it \n",
            "Predicted summary:  my dog loves it\n",
            "\n",
            "\n"
          ],
          "name": "stdout"
        }
      ]
    },
    {
      "cell_type": "code",
      "metadata": {
        "id": "Q82YOrVICVbO",
        "colab_type": "code",
        "colab": {}
      },
      "source": [
        ""
      ],
      "execution_count": null,
      "outputs": []
    }
  ]
}