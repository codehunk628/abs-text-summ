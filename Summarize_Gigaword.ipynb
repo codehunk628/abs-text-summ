{
  "nbformat": 4,
  "nbformat_minor": 0,
  "metadata": {
    "colab": {
      "name": "Summarize_2.ipynb",
      "provenance": [],
      "collapsed_sections": [],
      "mount_file_id": "1-FEtmEGJkyuCjMSdxBndi9t0XmsRIm4F",
      "authorship_tag": "ABX9TyNgUe13EXyCsI9a5aoF1s1m"
    },
    "kernelspec": {
      "name": "python3",
      "display_name": "Python 3"
    },
    "accelerator": "GPU"
  },
  "cells": [
    {
      "cell_type": "markdown",
      "metadata": {
        "id": "GL6OwniP9eqh",
        "colab_type": "text"
      },
      "source": [
        "# Attention Class\n",
        "taken from https://github.com/thushv89/attention_keras/blob/master/layers/attention.py"
      ]
    },
    {
      "cell_type": "code",
      "metadata": {
        "id": "U-yiJMZNh_6m",
        "colab_type": "code",
        "colab": {
          "base_uri": "https://localhost:8080/",
          "height": 34
        },
        "outputId": "74c59fa3-dcd8-4783-c504-12f070490bfb"
      },
      "source": [
        "%tensorflow_version 1.x"
      ],
      "execution_count": null,
      "outputs": [
        {
          "output_type": "stream",
          "text": [
            "TensorFlow 1.x selected.\n"
          ],
          "name": "stdout"
        }
      ]
    },
    {
      "cell_type": "markdown",
      "metadata": {
        "id": "fRvmC2wlw-uw",
        "colab_type": "text"
      },
      "source": [
        "# Preprocessing And Exploration"
      ]
    },
    {
      "cell_type": "code",
      "metadata": {
        "id": "_pk83HRaPUHl",
        "colab_type": "code",
        "colab": {
          "base_uri": "https://localhost:8080/",
          "height": 326
        },
        "outputId": "2a655478-cefb-4351-9292-6cb313409833"
      },
      "source": [
        "!pip install pyarrow==0.16.0\n",
        "!pip install nlp\n",
        "import nlp\n",
        "dataset = nlp.load_dataset('gigaword')"
      ],
      "execution_count": null,
      "outputs": [
        {
          "output_type": "stream",
          "text": [
            "Requirement already satisfied: pyarrow==0.16.0 in /usr/local/lib/python3.6/dist-packages (0.16.0)\n",
            "Requirement already satisfied: numpy>=1.14 in /usr/local/lib/python3.6/dist-packages (from pyarrow==0.16.0) (1.18.5)\n",
            "Requirement already satisfied: six>=1.0.0 in /usr/local/lib/python3.6/dist-packages (from pyarrow==0.16.0) (1.15.0)\n",
            "Requirement already satisfied: nlp in /usr/local/lib/python3.6/dist-packages (0.3.0)\n",
            "Requirement already satisfied: pyarrow>=0.16.0 in /usr/local/lib/python3.6/dist-packages (from nlp) (0.16.0)\n",
            "Requirement already satisfied: requests>=2.19.0 in /usr/local/lib/python3.6/dist-packages (from nlp) (2.23.0)\n",
            "Requirement already satisfied: tqdm>=4.27 in /usr/local/lib/python3.6/dist-packages (from nlp) (4.41.1)\n",
            "Requirement already satisfied: dataclasses; python_version < \"3.7\" in /usr/local/lib/python3.6/dist-packages (from nlp) (0.7)\n",
            "Requirement already satisfied: numpy in /usr/local/lib/python3.6/dist-packages (from nlp) (1.18.5)\n",
            "Requirement already satisfied: filelock in /usr/local/lib/python3.6/dist-packages (from nlp) (3.0.12)\n",
            "Requirement already satisfied: dill in /usr/local/lib/python3.6/dist-packages (from nlp) (0.3.2)\n",
            "Requirement already satisfied: six>=1.0.0 in /usr/local/lib/python3.6/dist-packages (from pyarrow>=0.16.0->nlp) (1.15.0)\n",
            "Requirement already satisfied: certifi>=2017.4.17 in /usr/local/lib/python3.6/dist-packages (from requests>=2.19.0->nlp) (2020.6.20)\n",
            "Requirement already satisfied: idna<3,>=2.5 in /usr/local/lib/python3.6/dist-packages (from requests>=2.19.0->nlp) (2.10)\n",
            "Requirement already satisfied: chardet<4,>=3.0.2 in /usr/local/lib/python3.6/dist-packages (from requests>=2.19.0->nlp) (3.0.4)\n",
            "Requirement already satisfied: urllib3!=1.25.0,!=1.25.1,<1.26,>=1.21.1 in /usr/local/lib/python3.6/dist-packages (from requests>=2.19.0->nlp) (1.24.3)\n"
          ],
          "name": "stdout"
        },
        {
          "output_type": "stream",
          "text": [
            "Using custom data configuration default\n"
          ],
          "name": "stderr"
        }
      ]
    },
    {
      "cell_type": "code",
      "metadata": {
        "id": "GzQPo7QX99H2",
        "colab_type": "code",
        "colab": {}
      },
      "source": [
        "import warnings\n",
        "warnings.filterwarnings(\"ignore\")"
      ],
      "execution_count": null,
      "outputs": []
    },
    {
      "cell_type": "code",
      "metadata": {
        "id": "_cRWr8Yg3dvK",
        "colab_type": "code",
        "colab": {
          "base_uri": "https://localhost:8080/",
          "height": 34
        },
        "outputId": "e622c7a6-9689-4d48-cb3b-8d65df437595"
      },
      "source": [
        "import tensorflow\n",
        "print(tensorflow.__version__)"
      ],
      "execution_count": null,
      "outputs": [
        {
          "output_type": "stream",
          "text": [
            "1.15.2\n"
          ],
          "name": "stdout"
        }
      ]
    },
    {
      "cell_type": "code",
      "metadata": {
        "id": "ICH1lHfr70te",
        "colab_type": "code",
        "colab": {}
      },
      "source": [
        "import tensorflow as tf\n",
        "import os\n",
        "from tensorflow.python.keras.layers import Layer\n",
        "from tensorflow.python.keras import backend as K\n",
        "\n",
        "\n",
        "class AttentionLayer(Layer):\n",
        "    \"\"\"\n",
        "    This class implements Bahdanau attention (https://arxiv.org/pdf/1409.0473.pdf).\n",
        "    There are three sets of weights introduced W_a, U_a, and V_a\n",
        "     \"\"\"\n",
        "\n",
        "    def __init__(self, **kwargs):\n",
        "        super(AttentionLayer, self).__init__(**kwargs)\n",
        "\n",
        "    def build(self, input_shape):\n",
        "        assert isinstance(input_shape, list)\n",
        "        # Create a trainable weight variable for this layer.\n",
        "\n",
        "        self.W_a = self.add_weight(name='W_a',\n",
        "                                   shape=tf.TensorShape((input_shape[0][2], input_shape[0][2])),\n",
        "                                   initializer='uniform',\n",
        "                                   trainable=True)\n",
        "        self.U_a = self.add_weight(name='U_a',\n",
        "                                   shape=tf.TensorShape((input_shape[1][2], input_shape[0][2])),\n",
        "                                   initializer='uniform',\n",
        "                                   trainable=True)\n",
        "        self.V_a = self.add_weight(name='V_a',\n",
        "                                   shape=tf.TensorShape((input_shape[0][2], 1)),\n",
        "                                   initializer='uniform',\n",
        "                                   trainable=True)\n",
        "\n",
        "        super(AttentionLayer, self).build(input_shape)  # Be sure to call this at the end\n",
        "\n",
        "    def call(self, inputs, verbose=False):\n",
        "        \"\"\"\n",
        "        inputs: [encoder_output_sequence, decoder_output_sequence]\n",
        "        \"\"\"\n",
        "        assert type(inputs) == list\n",
        "        encoder_out_seq, decoder_out_seq = inputs\n",
        "        if verbose:\n",
        "            print('encoder_out_seq>', encoder_out_seq.shape)\n",
        "            print('decoder_out_seq>', decoder_out_seq.shape)\n",
        "\n",
        "        def energy_step(inputs, states):\n",
        "            \"\"\" Step function for computing energy for a single decoder state \"\"\"\n",
        "\n",
        "            assert_msg = \"States must be a list. However states {} is of type {}\".format(states, type(states))\n",
        "            assert isinstance(states, list) or isinstance(states, tuple), assert_msg\n",
        "\n",
        "            \"\"\" Some parameters required for shaping tensors\"\"\"\n",
        "            en_seq_len, en_hidden = encoder_out_seq.shape[1], encoder_out_seq.shape[2]\n",
        "            de_hidden = inputs.shape[-1]\n",
        "\n",
        "            \"\"\" Computing S.Wa where S=[s0, s1, ..., si]\"\"\"\n",
        "            # <= batch_size*en_seq_len, latent_dim\n",
        "            reshaped_enc_outputs = K.reshape(encoder_out_seq, (-1, en_hidden))\n",
        "            # <= batch_size*en_seq_len, latent_dim\n",
        "            W_a_dot_s = K.reshape(K.dot(reshaped_enc_outputs, self.W_a), (-1, en_seq_len, en_hidden))\n",
        "            if verbose:\n",
        "                print('wa.s>',W_a_dot_s.shape)\n",
        "\n",
        "            \"\"\" Computing hj.Ua \"\"\"\n",
        "            U_a_dot_h = K.expand_dims(K.dot(inputs, self.U_a), 1)  # <= batch_size, 1, latent_dim\n",
        "            if verbose:\n",
        "                print('Ua.h>',U_a_dot_h.shape)\n",
        "\n",
        "            \"\"\" tanh(S.Wa + hj.Ua) \"\"\"\n",
        "            # <= batch_size*en_seq_len, latent_dim\n",
        "            reshaped_Ws_plus_Uh = K.tanh(K.reshape(W_a_dot_s + U_a_dot_h, (-1, en_hidden)))\n",
        "            if verbose:\n",
        "                print('Ws+Uh>', reshaped_Ws_plus_Uh.shape)\n",
        "\n",
        "            \"\"\" softmax(va.tanh(S.Wa + hj.Ua)) \"\"\"\n",
        "            # <= batch_size, en_seq_len\n",
        "            e_i = K.reshape(K.dot(reshaped_Ws_plus_Uh, self.V_a), (-1, en_seq_len))\n",
        "            # <= batch_size, en_seq_len\n",
        "            e_i = K.softmax(e_i)\n",
        "\n",
        "            if verbose:\n",
        "                print('ei>', e_i.shape)\n",
        "\n",
        "            return e_i, [e_i]\n",
        "\n",
        "        def context_step(inputs, states):\n",
        "            \"\"\" Step function for computing ci using ei \"\"\"\n",
        "            # <= batch_size, hidden_size\n",
        "            c_i = K.sum(encoder_out_seq * K.expand_dims(inputs, -1), axis=1)\n",
        "            if verbose:\n",
        "                print('ci>', c_i.shape)\n",
        "            return c_i, [c_i]\n",
        "\n",
        "        def create_inital_state(inputs, hidden_size):\n",
        "            # We are not using initial states, but need to pass something to K.rnn funciton\n",
        "            fake_state = K.zeros_like(inputs)  # <= (batch_size, enc_seq_len, latent_dim\n",
        "            fake_state = K.sum(fake_state, axis=[1, 2])  # <= (batch_size)\n",
        "            fake_state = K.expand_dims(fake_state)  # <= (batch_size, 1)\n",
        "            fake_state = K.tile(fake_state, [1, hidden_size])  # <= (batch_size, latent_dim\n",
        "            return fake_state\n",
        "\n",
        "        fake_state_c = create_inital_state(encoder_out_seq, encoder_out_seq.shape[-1])\n",
        "        fake_state_e = create_inital_state(encoder_out_seq, encoder_out_seq.shape[1])  # <= (batch_size, enc_seq_len, latent_dim\n",
        "\n",
        "        \"\"\" Computing energy outputs \"\"\"\n",
        "        # e_outputs => (batch_size, de_seq_len, en_seq_len)\n",
        "        last_out, e_outputs, _ = K.rnn(\n",
        "            energy_step, decoder_out_seq, [fake_state_e],\n",
        "        )\n",
        "\n",
        "        \"\"\" Computing context vectors \"\"\"\n",
        "        last_out, c_outputs, _ = K.rnn(\n",
        "            context_step, e_outputs, [fake_state_c],\n",
        "        )\n",
        "\n",
        "        return c_outputs, e_outputs\n",
        "\n",
        "    def compute_output_shape(self, input_shape):\n",
        "        \"\"\" Outputs produced by the layer \"\"\"\n",
        "        return [\n",
        "            tf.TensorShape((input_shape[1][0], input_shape[1][1], input_shape[1][2])),\n",
        "            tf.TensorShape((input_shape[1][0], input_shape[1][1], input_shape[0][1]))\n",
        "        ]"
      ],
      "execution_count": null,
      "outputs": []
    },
    {
      "cell_type": "code",
      "metadata": {
        "id": "3S3S96Up9yHc",
        "colab_type": "code",
        "colab": {
          "base_uri": "https://localhost:8080/",
          "height": 34
        },
        "outputId": "9208a211-94ec-433f-8f10-ebd79938ed53"
      },
      "source": [
        "import numpy as np  \n",
        "import pandas as pd \n",
        "import re           \n",
        "from bs4 import BeautifulSoup \n",
        "from keras.preprocessing.text import Tokenizer \n",
        "from keras.preprocessing.sequence import pad_sequences\n",
        "from nltk.corpus import stopwords   \n",
        "from tensorflow.keras.layers import Input, LSTM, Embedding, Dense, Concatenate, TimeDistributed, Bidirectional\n",
        "from tensorflow.keras.models import Model\n",
        "from tensorflow.keras.callbacks import EarlyStopping\n",
        "import matplotlib.pyplot as plt\n",
        "plt.style.use('seaborn-white') #just for the sake of better visibility"
      ],
      "execution_count": null,
      "outputs": [
        {
          "output_type": "stream",
          "text": [
            "Using TensorFlow backend.\n"
          ],
          "name": "stderr"
        }
      ]
    },
    {
      "cell_type": "code",
      "metadata": {
        "id": "vESNSOB--siH",
        "colab_type": "code",
        "colab": {
          "base_uri": "https://localhost:8080/",
          "height": 51
        },
        "outputId": "b00d1cdc-35c5-4f77-cc5c-451f6e2ee6f3"
      },
      "source": [
        "import nltk\n",
        "nltk.download('stopwords')\n",
        "stop_words = set(stopwords.words('english'))"
      ],
      "execution_count": null,
      "outputs": [
        {
          "output_type": "stream",
          "text": [
            "[nltk_data] Downloading package stopwords to /root/nltk_data...\n",
            "[nltk_data]   Package stopwords is already up-to-date!\n"
          ],
          "name": "stdout"
        }
      ]
    },
    {
      "cell_type": "code",
      "metadata": {
        "id": "twXqn3xLeiCe",
        "colab_type": "code",
        "colab": {
          "base_uri": "https://localhost:8080/",
          "height": 68
        },
        "outputId": "9386a28b-d1b1-415b-d3c5-a05bab5e430d"
      },
      "source": [
        "dataset"
      ],
      "execution_count": null,
      "outputs": [
        {
          "output_type": "execute_result",
          "data": {
            "text/plain": [
              "{'test': Dataset(schema: {'document': 'string', 'summary': 'string'}, num_rows: 1951),\n",
              " 'train': Dataset(schema: {'document': 'string', 'summary': 'string'}, num_rows: 3803957),\n",
              " 'validation': Dataset(schema: {'document': 'string', 'summary': 'string'}, num_rows: 189651)}"
            ]
          },
          "metadata": {
            "tags": []
          },
          "execution_count": 8
        }
      ]
    },
    {
      "cell_type": "code",
      "metadata": {
        "id": "LjwWE34rQWlH",
        "colab_type": "code",
        "colab": {}
      },
      "source": [
        "train_data = dataset['train'][:70000]"
      ],
      "execution_count": null,
      "outputs": []
    },
    {
      "cell_type": "code",
      "metadata": {
        "id": "xmiU13GIQ2ca",
        "colab_type": "code",
        "colab": {}
      },
      "source": [
        "data = pd.DataFrame(columns=['Text'])"
      ],
      "execution_count": null,
      "outputs": []
    },
    {
      "cell_type": "code",
      "metadata": {
        "id": "wv-f7XQhAYu9",
        "colab_type": "code",
        "colab": {}
      },
      "source": [
        "data['Text'] = train_data['document']\n",
        "data['Summary'] = train_data['summary']"
      ],
      "execution_count": null,
      "outputs": []
    },
    {
      "cell_type": "code",
      "metadata": {
        "id": "Abgju1X6AmJa",
        "colab_type": "code",
        "colab": {
          "base_uri": "https://localhost:8080/",
          "height": 359
        },
        "outputId": "052ee486-f7c3-4db7-e7a3-34073f37e8a2"
      },
      "source": [
        "data.head(10)"
      ],
      "execution_count": null,
      "outputs": [
        {
          "output_type": "execute_result",
          "data": {
            "text/html": [
              "<div>\n",
              "<style scoped>\n",
              "    .dataframe tbody tr th:only-of-type {\n",
              "        vertical-align: middle;\n",
              "    }\n",
              "\n",
              "    .dataframe tbody tr th {\n",
              "        vertical-align: top;\n",
              "    }\n",
              "\n",
              "    .dataframe thead th {\n",
              "        text-align: right;\n",
              "    }\n",
              "</style>\n",
              "<table border=\"1\" class=\"dataframe\">\n",
              "  <thead>\n",
              "    <tr style=\"text-align: right;\">\n",
              "      <th></th>\n",
              "      <th>Text</th>\n",
              "      <th>Summary</th>\n",
              "    </tr>\n",
              "  </thead>\n",
              "  <tbody>\n",
              "    <tr>\n",
              "      <th>0</th>\n",
              "      <td>australia 's current account deficit shrunk by...</td>\n",
              "      <td>australian current account deficit narrows sha...</td>\n",
              "    </tr>\n",
              "    <tr>\n",
              "      <th>1</th>\n",
              "      <td>at least two people were killed in a suspected...</td>\n",
              "      <td>at least two dead in southern philippines blast</td>\n",
              "    </tr>\n",
              "    <tr>\n",
              "      <th>2</th>\n",
              "      <td>australian shares closed down #.# percent mond...</td>\n",
              "      <td>australian stocks close down #.# percent</td>\n",
              "    </tr>\n",
              "    <tr>\n",
              "      <th>3</th>\n",
              "      <td>south korea 's nuclear envoy kim sook urged no...</td>\n",
              "      <td>envoy urges north korea to restart nuclear dis...</td>\n",
              "    </tr>\n",
              "    <tr>\n",
              "      <th>4</th>\n",
              "      <td>south korea on monday announced sweeping tax r...</td>\n",
              "      <td>skorea announces tax cuts to stimulate economy</td>\n",
              "    </tr>\n",
              "    <tr>\n",
              "      <th>5</th>\n",
              "      <td>taiwan share prices closed down #.## percent m...</td>\n",
              "      <td>taiwan shares close down #.## percent</td>\n",
              "    </tr>\n",
              "    <tr>\n",
              "      <th>6</th>\n",
              "      <td>australian shares closed down #.# percent mond...</td>\n",
              "      <td>australian stocks close down #.# percent</td>\n",
              "    </tr>\n",
              "    <tr>\n",
              "      <th>7</th>\n",
              "      <td>spanish property group colonial , struggling u...</td>\n",
              "      <td>spain 's colonial posts #.## billion euro loss</td>\n",
              "    </tr>\n",
              "    <tr>\n",
              "      <th>8</th>\n",
              "      <td>libyan leader moamer kadhafi monday promised w...</td>\n",
              "      <td>kadhafi promises wide political economic reforms</td>\n",
              "    </tr>\n",
              "    <tr>\n",
              "      <th>9</th>\n",
              "      <td>the united nations ' humanitarian chief john h...</td>\n",
              "      <td>un 's top aid official arrives in drought-hit ...</td>\n",
              "    </tr>\n",
              "  </tbody>\n",
              "</table>\n",
              "</div>"
            ],
            "text/plain": [
              "                                                Text                                            Summary\n",
              "0  australia 's current account deficit shrunk by...  australian current account deficit narrows sha...\n",
              "1  at least two people were killed in a suspected...    at least two dead in southern philippines blast\n",
              "2  australian shares closed down #.# percent mond...           australian stocks close down #.# percent\n",
              "3  south korea 's nuclear envoy kim sook urged no...  envoy urges north korea to restart nuclear dis...\n",
              "4  south korea on monday announced sweeping tax r...     skorea announces tax cuts to stimulate economy\n",
              "5  taiwan share prices closed down #.## percent m...              taiwan shares close down #.## percent\n",
              "6  australian shares closed down #.# percent mond...           australian stocks close down #.# percent\n",
              "7  spanish property group colonial , struggling u...     spain 's colonial posts #.## billion euro loss\n",
              "8  libyan leader moamer kadhafi monday promised w...   kadhafi promises wide political economic reforms\n",
              "9  the united nations ' humanitarian chief john h...  un 's top aid official arrives in drought-hit ..."
            ]
          },
          "metadata": {
            "tags": []
          },
          "execution_count": 12
        }
      ]
    },
    {
      "cell_type": "code",
      "metadata": {
        "id": "1ppSu9ywBeUC",
        "colab_type": "code",
        "colab": {
          "base_uri": "https://localhost:8080/",
          "height": 170
        },
        "outputId": "db0d1833-3605-4a8d-e316-99d4006e15a1"
      },
      "source": [
        "data.info()"
      ],
      "execution_count": null,
      "outputs": [
        {
          "output_type": "stream",
          "text": [
            "<class 'pandas.core.frame.DataFrame'>\n",
            "RangeIndex: 70000 entries, 0 to 69999\n",
            "Data columns (total 2 columns):\n",
            " #   Column   Non-Null Count  Dtype \n",
            "---  ------   --------------  ----- \n",
            " 0   Text     70000 non-null  object\n",
            " 1   Summary  70000 non-null  object\n",
            "dtypes: object(2)\n",
            "memory usage: 1.1+ MB\n"
          ],
          "name": "stdout"
        }
      ]
    },
    {
      "cell_type": "code",
      "metadata": {
        "id": "QUhDxnbdBGxI",
        "colab_type": "code",
        "colab": {
          "base_uri": "https://localhost:8080/",
          "height": 34
        },
        "outputId": "b17bb8af-fdc3-4ee5-9d81-8f8cc101aa78"
      },
      "source": [
        "print('Duplicate rows : ',len(data)-len(data.drop_duplicates())) #checking number of duplicate rows"
      ],
      "execution_count": null,
      "outputs": [
        {
          "output_type": "stream",
          "text": [
            "Duplicate rows :  2777\n"
          ],
          "name": "stdout"
        }
      ]
    },
    {
      "cell_type": "code",
      "metadata": {
        "id": "xbmxzdiwCnsX",
        "colab_type": "code",
        "colab": {}
      },
      "source": [
        "data.drop_duplicates(inplace=True)"
      ],
      "execution_count": null,
      "outputs": []
    },
    {
      "cell_type": "code",
      "metadata": {
        "id": "Cvy_11AeCMIt",
        "colab_type": "code",
        "colab": {
          "base_uri": "https://localhost:8080/",
          "height": 51
        },
        "outputId": "44003f9b-d1a0-4162-8586-5085d34b781f"
      },
      "source": [
        "print(\"Rows with NA values : \",len(data)-len(data.dropna()))\n",
        "data.dropna(axis=0,inplace=True)\n",
        "print('Total Rows After droping rows with NA values: ',len(data))"
      ],
      "execution_count": null,
      "outputs": [
        {
          "output_type": "stream",
          "text": [
            "Rows with NA values :  0\n",
            "Total Rows After droping rows with NA values:  67223\n"
          ],
          "name": "stdout"
        }
      ]
    },
    {
      "cell_type": "code",
      "metadata": {
        "id": "szKXe7ugSypq",
        "colab_type": "code",
        "colab": {
          "base_uri": "https://localhost:8080/",
          "height": 204
        },
        "outputId": "423c21bf-e039-4c3c-afd0-ef6588c61f81"
      },
      "source": [
        "data.head()"
      ],
      "execution_count": null,
      "outputs": [
        {
          "output_type": "execute_result",
          "data": {
            "text/html": [
              "<div>\n",
              "<style scoped>\n",
              "    .dataframe tbody tr th:only-of-type {\n",
              "        vertical-align: middle;\n",
              "    }\n",
              "\n",
              "    .dataframe tbody tr th {\n",
              "        vertical-align: top;\n",
              "    }\n",
              "\n",
              "    .dataframe thead th {\n",
              "        text-align: right;\n",
              "    }\n",
              "</style>\n",
              "<table border=\"1\" class=\"dataframe\">\n",
              "  <thead>\n",
              "    <tr style=\"text-align: right;\">\n",
              "      <th></th>\n",
              "      <th>Text</th>\n",
              "      <th>Summary</th>\n",
              "    </tr>\n",
              "  </thead>\n",
              "  <tbody>\n",
              "    <tr>\n",
              "      <th>0</th>\n",
              "      <td>australia 's current account deficit shrunk by...</td>\n",
              "      <td>australian current account deficit narrows sha...</td>\n",
              "    </tr>\n",
              "    <tr>\n",
              "      <th>1</th>\n",
              "      <td>at least two people were killed in a suspected...</td>\n",
              "      <td>at least two dead in southern philippines blast</td>\n",
              "    </tr>\n",
              "    <tr>\n",
              "      <th>2</th>\n",
              "      <td>australian shares closed down #.# percent mond...</td>\n",
              "      <td>australian stocks close down #.# percent</td>\n",
              "    </tr>\n",
              "    <tr>\n",
              "      <th>3</th>\n",
              "      <td>south korea 's nuclear envoy kim sook urged no...</td>\n",
              "      <td>envoy urges north korea to restart nuclear dis...</td>\n",
              "    </tr>\n",
              "    <tr>\n",
              "      <th>4</th>\n",
              "      <td>south korea on monday announced sweeping tax r...</td>\n",
              "      <td>skorea announces tax cuts to stimulate economy</td>\n",
              "    </tr>\n",
              "  </tbody>\n",
              "</table>\n",
              "</div>"
            ],
            "text/plain": [
              "                                                Text                                            Summary\n",
              "0  australia 's current account deficit shrunk by...  australian current account deficit narrows sha...\n",
              "1  at least two people were killed in a suspected...    at least two dead in southern philippines blast\n",
              "2  australian shares closed down #.# percent mond...           australian stocks close down #.# percent\n",
              "3  south korea 's nuclear envoy kim sook urged no...  envoy urges north korea to restart nuclear dis...\n",
              "4  south korea on monday announced sweeping tax r...     skorea announces tax cuts to stimulate economy"
            ]
          },
          "metadata": {
            "tags": []
          },
          "execution_count": 17
        }
      ]
    },
    {
      "cell_type": "code",
      "metadata": {
        "id": "wsgTcoq7DKMB",
        "colab_type": "code",
        "colab": {}
      },
      "source": [
        "contraction_mapping = { \n",
        "\"ain't\": \"am not\",\n",
        "\"aren't\": \"are not\",\n",
        "\"can't\": \"cannot\",\n",
        "\"can't've\": \"cannot have\",\n",
        "\"'cause\": \"because\",\n",
        "\"could've\": \"could have\",\n",
        "\"couldn't\": \"could not\",\n",
        "\"couldn't've\": \"could not have\",\n",
        "\"didn't\": \"did not\",\n",
        "\"doesn't\": \"does not\",\n",
        "\"don't\": \"do not\",\n",
        "\"hadn't\": \"had not\",\n",
        "\"hadn't've\": \"had not have\",\n",
        "\"hasn't\": \"has not\",\n",
        "\"haven't\": \"have not\",\n",
        "\"he'd\": \"he would\",\n",
        "\"he'd've\": \"he would have\",\n",
        "\"he'll\": \"he will\",\n",
        "\"he'll've\": \"he will have\",\n",
        "\"he's\": \"he has\",\n",
        "\"how'd\": \"how did\",\n",
        "\"how'd'y\": \"how do you\",\n",
        "\"how'll\": \"how will\",\n",
        "\"how's\": \"how has\",\n",
        "\"I'd\": \"I would\",\n",
        "\"I'd've\": \"I would have\",\n",
        "\"I'll\": \"I will\",\n",
        "\"I'll've\": \"I will have\",\n",
        "\"I'm\": \"I am\",\n",
        "\"I've\": \"I have\",\n",
        "\"isn't\": \"is not\",\n",
        "\"it'd\": \"it would\",\n",
        "\"it'd've\": \"it would have\",\n",
        "\"it'll\": \"it will\",\n",
        "\"it'll've\": \"it will have\",\n",
        "\"it's\": \"it has\",\n",
        "\"let's\": \"let us\",\n",
        "\"ma'am\": \"madam\",\n",
        "\"mayn't\": \"may not\",\n",
        "\"might've\": \"might have\",\n",
        "\"mightn't\": \"might not\",\n",
        "\"mightn't've\": \"might not have\",\n",
        "\"must've\": \"must have\",\n",
        "\"mustn't\": \"must not\",\n",
        "\"mustn't've\": \"must not have\",\n",
        "\"needn't\": \"need not\",\n",
        "\"needn't've\": \"need not have\",\n",
        "\"o'clock\": \"of the clock\",\n",
        "\"oughtn't\": \"ought not\",\n",
        "\"oughtn't've\": \"ought not have\",\n",
        "\"shan't\": \"shall not\",\n",
        "\"sha'n't\": \"shall not\",\n",
        "\"shan't've\": \"shall not have\",\n",
        "\"she'd\": \"she would\",\n",
        "\"she'd've\": \"she would have\",\n",
        "\"she'll\": \"she will\",\n",
        "\"she'll've\": \"she will have\",\n",
        "\"she's\": \"she is\",\n",
        "\"should've\": \"should have\",\n",
        "\"shouldn't\": \"should not\",\n",
        "\"shouldn't've\": \"should not have\",\n",
        "\"so've\": \"so have\",\n",
        "\"so's\": \"so is\",\n",
        "\"that'd\": \"that would\",\n",
        "\"that'd've\": \"that would have\",\n",
        "\"that's\": \"that is\",\n",
        "\"there'd\": \"there had\",\n",
        "\"there'd've\": \"there would have\",\n",
        "\"there's\": \"there is\",\n",
        "\"they'd\": \"they would\",\n",
        "\"they'd've\": \"they would have\",\n",
        "\"they'll\": \"they will\",\n",
        "\"they'll've\": \"they will have\",\n",
        "\"they're\": \"they are\",\n",
        "\"they've\": \"they have\",\n",
        "\"to've\": \"to have\",\n",
        "\"wasn't\": \"was not\",\n",
        "\"we'd\": \"we would\",\n",
        "\"we'd've\": \"we would have\",\n",
        "\"we'll\": \"we will\",\n",
        "\"we'll've\": \"we will have\",\n",
        "\"we're\": \"we are\",\n",
        "\"we've\": \"we have\",\n",
        "\"weren't\": \"were not\",\n",
        "\"what'll\": \"what will\",\n",
        "\"what'll've\": \"what will have\",\n",
        "\"what're\": \"what are\",\n",
        "\"what's\": \"what is\",\n",
        "\"what've\": \"what have\",\n",
        "\"when's\": \"when is\",\n",
        "\"when've\": \"when have\",\n",
        "\"where'd\": \"where did\",\n",
        "\"where's\": \"where is\",\n",
        "\"where've\": \"where have\",\n",
        "\"who'll\": \"who will\",\n",
        "\"who'll've\": \"who will have\",\n",
        "\"who's\": \"who has\",\n",
        "\"who've\": \"who have\",\n",
        "\"why's\": \"why has\",\n",
        "\"why've\": \"why have\",\n",
        "\"will've\": \"will have\",\n",
        "\"won't\": \"will not\",\n",
        "\"won't've\": \"will not have\",\n",
        "\"would've\": \"would have\",\n",
        "\"wouldn't\": \"would not\",\n",
        "\"wouldn't've\": \"would not have\",\n",
        "\"y'all\": \"you all\",\n",
        "\"y'all'd\": \"you all would\",\n",
        "\"y'all'd've\": \"you all would have\",\n",
        "\"y'all're\": \"you all are\",\n",
        "\"y'all've\": \"you all have\",\n",
        "\"you'd\": \"you had\",\n",
        "\"you'd've\": \"you would have\",\n",
        "\"you'll\": \"you will\",\n",
        "\"you'll've\": \"you will have\",\n",
        "\"you're\": \"you are\",\n",
        "\"you've\": \"you have\"\n",
        "}"
      ],
      "execution_count": null,
      "outputs": []
    },
    {
      "cell_type": "code",
      "metadata": {
        "id": "bhE9-dcfDOcm",
        "colab_type": "code",
        "colab": {}
      },
      "source": [
        "stop_words = set(stopwords.words('english')) \n",
        "def text_cleaner(text):\n",
        "    newString = text.lower() #lower all\n",
        "    newString = BeautifulSoup(newString, \"lxml\").text #remove hyperlinks\n",
        "    newString = re.sub(r'\\([^)]*\\)', '', newString) #replacing bracketed words like also known as(a.k.a) with also known as\n",
        "    newString = re.sub('\"','', newString) #removing quotation marks\n",
        "    newString = ' '.join([contraction_mapping[t] if t in contraction_mapping else t for t in newString.split(\" \")])    #expanding the contractions\n",
        "    newString = re.sub(r\"'s\\b\",\"\",newString) #remove blank spaces\n",
        "    newString = re.sub(\"[^a-zA-Z]\", \" \", newString) #remove all non alphabetic characters FOR the time being would not remove while using pointer generator networks\n",
        "    tokens = [w for w in newString.split() if not w in stop_words] #removing stopwords\n",
        "    long_words=[]\n",
        "    for i in tokens:\n",
        "        if len(i)>1:                  #removing short word with len equal to 1\n",
        "            long_words.append(i)   \n",
        "    return (\" \".join(long_words)).strip()\n",
        "\n",
        "cleaned_text = []\n",
        "for t in data['Text']:\n",
        "    cleaned_text.append(text_cleaner(t))"
      ],
      "execution_count": null,
      "outputs": []
    },
    {
      "cell_type": "code",
      "metadata": {
        "id": "Nv9VwJaODg_s",
        "colab_type": "code",
        "colab": {}
      },
      "source": [
        "def summary_cleaner(text):\n",
        "    newString = re.sub('\"','', text)#removing quotation marks\n",
        "    newString = ' '.join([contraction_mapping[t] if t in contraction_mapping else t for t in newString.split(\" \")])     #expanding the contractions\n",
        "    newString = re.sub(r\"'s\\b\",\"\",newString)  #remove blank spaces\n",
        "    newString = re.sub(\"[^a-zA-Z]\", \" \", newString)#remove all non alphabetic characters\n",
        "    newString = newString.lower() #lower everything\n",
        "    tokens=newString.split() #generating tokens here we didnot removed the stopwords because they seem right in summary\n",
        "    words=[]\n",
        "    for t in tokens:                                                 #removing short word\n",
        "          words.append(t)   \n",
        "    return (\" \".join(words)).strip()\n",
        "\n",
        "#Call the above function\n",
        "cleaned_summary = []\n",
        "for t in data['Summary']:\n",
        "    cleaned_summary.append(summary_cleaner(t))\n",
        "\n",
        "data['cleaned_text']=cleaned_text\n",
        "data['cleaned_summary']=cleaned_summary\n",
        "data['cleaned_summary'].replace('', np.nan, inplace=True)\n",
        "data.dropna(axis=0,inplace=True)"
      ],
      "execution_count": null,
      "outputs": []
    },
    {
      "cell_type": "code",
      "metadata": {
        "id": "qfWxAb80Dmw0",
        "colab_type": "code",
        "colab": {
          "base_uri": "https://localhost:8080/",
          "height": 512
        },
        "outputId": "c3baed44-7b51-465a-8f9c-f8a76e10afef"
      },
      "source": [
        "data.head(10)"
      ],
      "execution_count": null,
      "outputs": [
        {
          "output_type": "execute_result",
          "data": {
            "text/html": [
              "<div>\n",
              "<style scoped>\n",
              "    .dataframe tbody tr th:only-of-type {\n",
              "        vertical-align: middle;\n",
              "    }\n",
              "\n",
              "    .dataframe tbody tr th {\n",
              "        vertical-align: top;\n",
              "    }\n",
              "\n",
              "    .dataframe thead th {\n",
              "        text-align: right;\n",
              "    }\n",
              "</style>\n",
              "<table border=\"1\" class=\"dataframe\">\n",
              "  <thead>\n",
              "    <tr style=\"text-align: right;\">\n",
              "      <th></th>\n",
              "      <th>Text</th>\n",
              "      <th>Summary</th>\n",
              "      <th>cleaned_text</th>\n",
              "      <th>cleaned_summary</th>\n",
              "    </tr>\n",
              "  </thead>\n",
              "  <tbody>\n",
              "    <tr>\n",
              "      <th>0</th>\n",
              "      <td>australia 's current account deficit shrunk by...</td>\n",
              "      <td>australian current account deficit narrows sha...</td>\n",
              "      <td>australia current account deficit shrunk recor...</td>\n",
              "      <td>australian current account deficit narrows sha...</td>\n",
              "    </tr>\n",
              "    <tr>\n",
              "      <th>1</th>\n",
              "      <td>at least two people were killed in a suspected...</td>\n",
              "      <td>at least two dead in southern philippines blast</td>\n",
              "      <td>least two people killed suspected bomb attack ...</td>\n",
              "      <td>at least two dead in southern philippines blast</td>\n",
              "    </tr>\n",
              "    <tr>\n",
              "      <th>2</th>\n",
              "      <td>australian shares closed down #.# percent mond...</td>\n",
              "      <td>australian stocks close down #.# percent</td>\n",
              "      <td>australian shares closed percent monday follow...</td>\n",
              "      <td>australian stocks close down percent</td>\n",
              "    </tr>\n",
              "    <tr>\n",
              "      <th>3</th>\n",
              "      <td>south korea 's nuclear envoy kim sook urged no...</td>\n",
              "      <td>envoy urges north korea to restart nuclear dis...</td>\n",
              "      <td>south korea nuclear envoy kim sook urged north...</td>\n",
              "      <td>envoy urges north korea to restart nuclear dis...</td>\n",
              "    </tr>\n",
              "    <tr>\n",
              "      <th>4</th>\n",
              "      <td>south korea on monday announced sweeping tax r...</td>\n",
              "      <td>skorea announces tax cuts to stimulate economy</td>\n",
              "      <td>south korea monday announced sweeping tax refo...</td>\n",
              "      <td>skorea announces tax cuts to stimulate economy</td>\n",
              "    </tr>\n",
              "    <tr>\n",
              "      <th>5</th>\n",
              "      <td>taiwan share prices closed down #.## percent m...</td>\n",
              "      <td>taiwan shares close down #.## percent</td>\n",
              "      <td>taiwan share prices closed percent monday wall...</td>\n",
              "      <td>taiwan shares close down percent</td>\n",
              "    </tr>\n",
              "    <tr>\n",
              "      <th>7</th>\n",
              "      <td>spanish property group colonial , struggling u...</td>\n",
              "      <td>spain 's colonial posts #.## billion euro loss</td>\n",
              "      <td>spanish property group colonial struggling hug...</td>\n",
              "      <td>spain colonial posts billion euro loss</td>\n",
              "    </tr>\n",
              "    <tr>\n",
              "      <th>8</th>\n",
              "      <td>libyan leader moamer kadhafi monday promised w...</td>\n",
              "      <td>kadhafi promises wide political economic reforms</td>\n",
              "      <td>libyan leader moamer kadhafi monday promised w...</td>\n",
              "      <td>kadhafi promises wide political economic reforms</td>\n",
              "    </tr>\n",
              "    <tr>\n",
              "      <th>9</th>\n",
              "      <td>the united nations ' humanitarian chief john h...</td>\n",
              "      <td>un 's top aid official arrives in drought-hit ...</td>\n",
              "      <td>united nations humanitarian chief john holmes ...</td>\n",
              "      <td>un top aid official arrives in drought hit eth...</td>\n",
              "    </tr>\n",
              "    <tr>\n",
              "      <th>10</th>\n",
              "      <td>new zealand share prices closed #.## percent h...</td>\n",
              "      <td>new zealand stocks close #.## percent higher</td>\n",
              "      <td>new zealand share prices closed percent higher...</td>\n",
              "      <td>new zealand stocks close percent higher</td>\n",
              "    </tr>\n",
              "  </tbody>\n",
              "</table>\n",
              "</div>"
            ],
            "text/plain": [
              "                                                 Text  ...                                    cleaned_summary\n",
              "0   australia 's current account deficit shrunk by...  ...  australian current account deficit narrows sha...\n",
              "1   at least two people were killed in a suspected...  ...    at least two dead in southern philippines blast\n",
              "2   australian shares closed down #.# percent mond...  ...               australian stocks close down percent\n",
              "3   south korea 's nuclear envoy kim sook urged no...  ...  envoy urges north korea to restart nuclear dis...\n",
              "4   south korea on monday announced sweeping tax r...  ...     skorea announces tax cuts to stimulate economy\n",
              "5   taiwan share prices closed down #.## percent m...  ...                   taiwan shares close down percent\n",
              "7   spanish property group colonial , struggling u...  ...             spain colonial posts billion euro loss\n",
              "8   libyan leader moamer kadhafi monday promised w...  ...   kadhafi promises wide political economic reforms\n",
              "9   the united nations ' humanitarian chief john h...  ...  un top aid official arrives in drought hit eth...\n",
              "10  new zealand share prices closed #.## percent h...  ...            new zealand stocks close percent higher\n",
              "\n",
              "[10 rows x 4 columns]"
            ]
          },
          "metadata": {
            "tags": []
          },
          "execution_count": 21
        }
      ]
    },
    {
      "cell_type": "code",
      "metadata": {
        "id": "pLcnt80JUh7H",
        "colab_type": "code",
        "colab": {
          "base_uri": "https://localhost:8080/",
          "height": 51
        },
        "outputId": "f4f1aee1-531e-4e7f-8c6f-0b785dc2c7c6"
      },
      "source": [
        "f = lambda x : len(x.split(\" \"))\n",
        "print('Max Document length in corpus : ',max(data['cleaned_text'].apply(f).to_list()))\n",
        "print('Max Summary length in corpus : ',max(data['cleaned_summary'].apply(f).to_list()))"
      ],
      "execution_count": null,
      "outputs": [
        {
          "output_type": "stream",
          "text": [
            "Max Document length in corpus :  49\n",
            "Max Summary length in corpus :  27\n"
          ],
          "name": "stdout"
        }
      ]
    },
    {
      "cell_type": "code",
      "metadata": {
        "id": "26gMKXckDt5C",
        "colab_type": "code",
        "colab": {}
      },
      "source": [
        "document = data['cleaned_text']\n",
        "summary = data['cleaned_summary']"
      ],
      "execution_count": null,
      "outputs": []
    },
    {
      "cell_type": "code",
      "metadata": {
        "id": "-VcApodxD_d8",
        "colab_type": "code",
        "colab": {
          "base_uri": "https://localhost:8080/",
          "height": 51
        },
        "outputId": "ac682632-b4cb-4aae-ba92-edf170701e3d"
      },
      "source": [
        "document[5],summary[5]"
      ],
      "execution_count": null,
      "outputs": [
        {
          "output_type": "execute_result",
          "data": {
            "text/plain": [
              "('taiwan share prices closed percent monday wall street weakness lacklustre interim earnings electronics manufacturing giant hon hai dealers said',\n",
              " 'taiwan shares close down percent')"
            ]
          },
          "metadata": {
            "tags": []
          },
          "execution_count": 24
        }
      ]
    },
    {
      "cell_type": "code",
      "metadata": {
        "id": "4u_LY_acDwog",
        "colab_type": "code",
        "colab": {}
      },
      "source": [
        "document_lengths = pd.Series([len(x.split(\" \")) for x in document])\n",
        "summary_lengths = pd.Series([len(x.split(\" \")) for x in summary])"
      ],
      "execution_count": null,
      "outputs": []
    },
    {
      "cell_type": "code",
      "metadata": {
        "id": "w4qdj-yrD1Ts",
        "colab_type": "code",
        "colab": {
          "base_uri": "https://localhost:8080/",
          "height": 170
        },
        "outputId": "a425ea35-d459-44f9-e252-b9aeab0a81f0"
      },
      "source": [
        "document_lengths.describe() #to find the mean length of text sentences"
      ],
      "execution_count": null,
      "outputs": [
        {
          "output_type": "execute_result",
          "data": {
            "text/plain": [
              "count    67223.000000\n",
              "mean        19.222126\n",
              "std          3.759461\n",
              "min          3.000000\n",
              "25%         17.000000\n",
              "50%         19.000000\n",
              "75%         22.000000\n",
              "max         49.000000\n",
              "dtype: float64"
            ]
          },
          "metadata": {
            "tags": []
          },
          "execution_count": 26
        }
      ]
    },
    {
      "cell_type": "code",
      "metadata": {
        "id": "46YVtWiLEcIx",
        "colab_type": "code",
        "colab": {
          "base_uri": "https://localhost:8080/",
          "height": 170
        },
        "outputId": "ffa73ac5-6bf9-421c-c389-f00395ab74f6"
      },
      "source": [
        "summary_lengths.describe() #to find the mean length of summary sentences"
      ],
      "execution_count": null,
      "outputs": [
        {
          "output_type": "execute_result",
          "data": {
            "text/plain": [
              "count    67223.000000\n",
              "mean         8.059667\n",
              "std          1.984205\n",
              "min          3.000000\n",
              "25%          7.000000\n",
              "50%          8.000000\n",
              "75%          9.000000\n",
              "max         27.000000\n",
              "dtype: float64"
            ]
          },
          "metadata": {
            "tags": []
          },
          "execution_count": 27
        }
      ]
    },
    {
      "cell_type": "code",
      "metadata": {
        "id": "AebyxLRF_JC5",
        "colab_type": "code",
        "colab": {}
      },
      "source": [
        "#based on above stats of length of document and its summary (keep mean value along with possible variance)\n",
        "max_text_len=64\n",
        "max_summary_len=32"
      ],
      "execution_count": null,
      "outputs": []
    },
    {
      "cell_type": "code",
      "metadata": {
        "id": "QbxSXxue1r6W",
        "colab_type": "code",
        "colab": {}
      },
      "source": [
        "#Taking only the sentences whose summary length and text length are in our limits because that is only relevant\n",
        "cleaned_text =np.array(data['cleaned_text'])\n",
        "cleaned_summary=np.array(data['cleaned_summary'])\n",
        "\n",
        "short_text=[]\n",
        "short_summary=[]\n",
        "\n",
        "for i in range(len(cleaned_text)):\n",
        "    if(len(cleaned_summary[i].split())<=max_summary_len and len(cleaned_text[i].split())<=max_text_len):\n",
        "        short_text.append(cleaned_text[i])\n",
        "        short_summary.append(cleaned_summary[i])\n",
        "        \n",
        "df=pd.DataFrame({'text':short_text,'summary':short_summary})"
      ],
      "execution_count": null,
      "outputs": []
    },
    {
      "cell_type": "code",
      "metadata": {
        "id": "4IV-C4DmGPvC",
        "colab_type": "code",
        "colab": {
          "base_uri": "https://localhost:8080/",
          "height": 204
        },
        "outputId": "e598644d-d04f-463c-a153-1e1f03acdcfa"
      },
      "source": [
        "df.head()"
      ],
      "execution_count": null,
      "outputs": [
        {
          "output_type": "execute_result",
          "data": {
            "text/html": [
              "<div>\n",
              "<style scoped>\n",
              "    .dataframe tbody tr th:only-of-type {\n",
              "        vertical-align: middle;\n",
              "    }\n",
              "\n",
              "    .dataframe tbody tr th {\n",
              "        vertical-align: top;\n",
              "    }\n",
              "\n",
              "    .dataframe thead th {\n",
              "        text-align: right;\n",
              "    }\n",
              "</style>\n",
              "<table border=\"1\" class=\"dataframe\">\n",
              "  <thead>\n",
              "    <tr style=\"text-align: right;\">\n",
              "      <th></th>\n",
              "      <th>text</th>\n",
              "      <th>summary</th>\n",
              "    </tr>\n",
              "  </thead>\n",
              "  <tbody>\n",
              "    <tr>\n",
              "      <th>0</th>\n",
              "      <td>australia current account deficit shrunk recor...</td>\n",
              "      <td>australian current account deficit narrows sha...</td>\n",
              "    </tr>\n",
              "    <tr>\n",
              "      <th>1</th>\n",
              "      <td>least two people killed suspected bomb attack ...</td>\n",
              "      <td>at least two dead in southern philippines blast</td>\n",
              "    </tr>\n",
              "    <tr>\n",
              "      <th>2</th>\n",
              "      <td>australian shares closed percent monday follow...</td>\n",
              "      <td>australian stocks close down percent</td>\n",
              "    </tr>\n",
              "    <tr>\n",
              "      <th>3</th>\n",
              "      <td>south korea nuclear envoy kim sook urged north...</td>\n",
              "      <td>envoy urges north korea to restart nuclear dis...</td>\n",
              "    </tr>\n",
              "    <tr>\n",
              "      <th>4</th>\n",
              "      <td>south korea monday announced sweeping tax refo...</td>\n",
              "      <td>skorea announces tax cuts to stimulate economy</td>\n",
              "    </tr>\n",
              "  </tbody>\n",
              "</table>\n",
              "</div>"
            ],
            "text/plain": [
              "                                                text                                            summary\n",
              "0  australia current account deficit shrunk recor...  australian current account deficit narrows sha...\n",
              "1  least two people killed suspected bomb attack ...    at least two dead in southern philippines blast\n",
              "2  australian shares closed percent monday follow...               australian stocks close down percent\n",
              "3  south korea nuclear envoy kim sook urged north...  envoy urges north korea to restart nuclear dis...\n",
              "4  south korea monday announced sweeping tax refo...     skorea announces tax cuts to stimulate economy"
            ]
          },
          "metadata": {
            "tags": []
          },
          "execution_count": 30
        }
      ]
    },
    {
      "cell_type": "code",
      "metadata": {
        "id": "1NnfcPhFGVHc",
        "colab_type": "code",
        "colab": {
          "base_uri": "https://localhost:8080/",
          "height": 170
        },
        "outputId": "2f1b2f53-066f-4aae-f93a-67d3feaf4ece"
      },
      "source": [
        "df.info()"
      ],
      "execution_count": null,
      "outputs": [
        {
          "output_type": "stream",
          "text": [
            "<class 'pandas.core.frame.DataFrame'>\n",
            "RangeIndex: 67223 entries, 0 to 67222\n",
            "Data columns (total 2 columns):\n",
            " #   Column   Non-Null Count  Dtype \n",
            "---  ------   --------------  ----- \n",
            " 0   text     67223 non-null  object\n",
            " 1   summary  67223 non-null  object\n",
            "dtypes: object(2)\n",
            "memory usage: 1.0+ MB\n"
          ],
          "name": "stdout"
        }
      ]
    },
    {
      "cell_type": "code",
      "metadata": {
        "id": "6HJ20jBlGVFO",
        "colab_type": "code",
        "colab": {}
      },
      "source": [
        "df['summary'] = df['summary'].apply(lambda x : '<start> '+ x + ' <end>') #appending Start of Sentences and End of sentence tokens"
      ],
      "execution_count": null,
      "outputs": []
    },
    {
      "cell_type": "code",
      "metadata": {
        "id": "AdB3GFeJGVCz",
        "colab_type": "code",
        "colab": {
          "base_uri": "https://localhost:8080/",
          "height": 359
        },
        "outputId": "fa071090-95dc-4d79-fd98-a7f74d6595a9"
      },
      "source": [
        "df.head(10)"
      ],
      "execution_count": null,
      "outputs": [
        {
          "output_type": "execute_result",
          "data": {
            "text/html": [
              "<div>\n",
              "<style scoped>\n",
              "    .dataframe tbody tr th:only-of-type {\n",
              "        vertical-align: middle;\n",
              "    }\n",
              "\n",
              "    .dataframe tbody tr th {\n",
              "        vertical-align: top;\n",
              "    }\n",
              "\n",
              "    .dataframe thead th {\n",
              "        text-align: right;\n",
              "    }\n",
              "</style>\n",
              "<table border=\"1\" class=\"dataframe\">\n",
              "  <thead>\n",
              "    <tr style=\"text-align: right;\">\n",
              "      <th></th>\n",
              "      <th>text</th>\n",
              "      <th>summary</th>\n",
              "    </tr>\n",
              "  </thead>\n",
              "  <tbody>\n",
              "    <tr>\n",
              "      <th>0</th>\n",
              "      <td>australia current account deficit shrunk recor...</td>\n",
              "      <td>&lt;start&gt; australian current account deficit nar...</td>\n",
              "    </tr>\n",
              "    <tr>\n",
              "      <th>1</th>\n",
              "      <td>least two people killed suspected bomb attack ...</td>\n",
              "      <td>&lt;start&gt; at least two dead in southern philippi...</td>\n",
              "    </tr>\n",
              "    <tr>\n",
              "      <th>2</th>\n",
              "      <td>australian shares closed percent monday follow...</td>\n",
              "      <td>&lt;start&gt; australian stocks close down percent &lt;...</td>\n",
              "    </tr>\n",
              "    <tr>\n",
              "      <th>3</th>\n",
              "      <td>south korea nuclear envoy kim sook urged north...</td>\n",
              "      <td>&lt;start&gt; envoy urges north korea to restart nuc...</td>\n",
              "    </tr>\n",
              "    <tr>\n",
              "      <th>4</th>\n",
              "      <td>south korea monday announced sweeping tax refo...</td>\n",
              "      <td>&lt;start&gt; skorea announces tax cuts to stimulate...</td>\n",
              "    </tr>\n",
              "    <tr>\n",
              "      <th>5</th>\n",
              "      <td>taiwan share prices closed percent monday wall...</td>\n",
              "      <td>&lt;start&gt; taiwan shares close down percent &lt;end&gt;</td>\n",
              "    </tr>\n",
              "    <tr>\n",
              "      <th>6</th>\n",
              "      <td>spanish property group colonial struggling hug...</td>\n",
              "      <td>&lt;start&gt; spain colonial posts billion euro loss...</td>\n",
              "    </tr>\n",
              "    <tr>\n",
              "      <th>7</th>\n",
              "      <td>libyan leader moamer kadhafi monday promised w...</td>\n",
              "      <td>&lt;start&gt; kadhafi promises wide political econom...</td>\n",
              "    </tr>\n",
              "    <tr>\n",
              "      <th>8</th>\n",
              "      <td>united nations humanitarian chief john holmes ...</td>\n",
              "      <td>&lt;start&gt; un top aid official arrives in drought...</td>\n",
              "    </tr>\n",
              "    <tr>\n",
              "      <th>9</th>\n",
              "      <td>new zealand share prices closed percent higher...</td>\n",
              "      <td>&lt;start&gt; new zealand stocks close percent highe...</td>\n",
              "    </tr>\n",
              "  </tbody>\n",
              "</table>\n",
              "</div>"
            ],
            "text/plain": [
              "                                                text                                            summary\n",
              "0  australia current account deficit shrunk recor...  <start> australian current account deficit nar...\n",
              "1  least two people killed suspected bomb attack ...  <start> at least two dead in southern philippi...\n",
              "2  australian shares closed percent monday follow...  <start> australian stocks close down percent <...\n",
              "3  south korea nuclear envoy kim sook urged north...  <start> envoy urges north korea to restart nuc...\n",
              "4  south korea monday announced sweeping tax refo...  <start> skorea announces tax cuts to stimulate...\n",
              "5  taiwan share prices closed percent monday wall...     <start> taiwan shares close down percent <end>\n",
              "6  spanish property group colonial struggling hug...  <start> spain colonial posts billion euro loss...\n",
              "7  libyan leader moamer kadhafi monday promised w...  <start> kadhafi promises wide political econom...\n",
              "8  united nations humanitarian chief john holmes ...  <start> un top aid official arrives in drought...\n",
              "9  new zealand share prices closed percent higher...  <start> new zealand stocks close percent highe..."
            ]
          },
          "metadata": {
            "tags": []
          },
          "execution_count": 33
        }
      ]
    },
    {
      "cell_type": "code",
      "metadata": {
        "id": "tp55SKiyGVAV",
        "colab_type": "code",
        "colab": {
          "base_uri": "https://localhost:8080/",
          "height": 717
        },
        "outputId": "4949715c-ee66-4c62-8ce6-f40893ebb849"
      },
      "source": [
        "#Finally taking a lool at preprocessed Reviews and their summaries\n",
        "for i in range(10,20):\n",
        "    print(\"Review:\",df['text'][i])\n",
        "    print(\"Summary:\",df['summary'][i])\n",
        "    print(\"\\n\")"
      ],
      "execution_count": null,
      "outputs": [
        {
          "output_type": "stream",
          "text": [
            "Review: beijing enjoying best air quality decade thanks steps taken olympics authorities said monday amid push locals anti pollution measures made permanent\n",
            "Summary: <start> beijing best air in a decade due to olympic measures <end>\n",
            "\n",
            "\n",
            "Review: south korean shares closed percent lower monday following steep losses wall street continued decline dollar analysts said\n",
            "Summary: <start> skorean stocks close percent lower <end>\n",
            "\n",
            "\n",
            "Review: south korea state run korea development bank refused comment monday british newspaper report still seeking stake troubled us investment bank lehman brothers\n",
            "Summary: <start> skorea bank refuses to confirm reported talks with lehman <end>\n",
            "\n",
            "\n",
            "Review: taiwan shares closed percent monday wall street weakness lacklustre interim earnings electronics manufacturing giant hon hai dealers said\n",
            "Summary: <start> taiwan shares close down percent <end>\n",
            "\n",
            "\n",
            "Review: south korea inflation rate slowed slightly august oil commodity prices showed signs stabilising national statistical office said monday\n",
            "Summary: <start> skorea inflation rate slows slightly in august <end>\n",
            "\n",
            "\n",
            "Review: south korea new parliament began first regular session monday months delays conservative party eager push pro business agenda decade rule liberal presidents\n",
            "Summary: <start> south korea new parliament finally opens <end>\n",
            "\n",
            "\n",
            "Review: american man arrested charged cambodia committing indecent acts year old child prostitute dark street police court officials said monday\n",
            "Summary: <start> us man charged with child sex in cambodia <end>\n",
            "\n",
            "\n",
            "Review: philippine share prices closed little changed monday investors awaited impact oil prices hurricane gustav slammed us gulf coast dealers said\n",
            "Summary: <start> philippine shares close little changed <end>\n",
            "\n",
            "\n",
            "Review: hong kong share prices ended monday morning percent tracking wall street weakness friday dealers said\n",
            "Summary: <start> hong kong shares end morning pct down <end>\n",
            "\n",
            "\n",
            "Review: algerian cabinet chaired president abdelaziz bouteflika sunday adopted finance bill predicated oil price dollars barrel growth rate percent announced\n",
            "Summary: <start> algeria adopts finance bill with oil put at dollars a barrel <end>\n",
            "\n",
            "\n"
          ],
          "name": "stdout"
        }
      ]
    },
    {
      "cell_type": "code",
      "metadata": {
        "id": "UY-T4HgJGw0x",
        "colab_type": "code",
        "colab": {}
      },
      "source": [
        "#Spliting into training and validation sets\n",
        "from sklearn.model_selection import train_test_split\n",
        "x_tr,x_val,y_tr,y_val=train_test_split(np.array(df['text']),np.array(df['summary']),test_size=0.2,random_state=42,shuffle=True)"
      ],
      "execution_count": null,
      "outputs": []
    },
    {
      "cell_type": "code",
      "metadata": {
        "id": "70QATvyhY2Xx",
        "colab_type": "code",
        "colab": {
          "base_uri": "https://localhost:8080/",
          "height": 51
        },
        "outputId": "6b92751a-3d02-4518-be96-184a985b90a5"
      },
      "source": [
        "print(x_tr.shape,y_tr.shape,sep='\\n')"
      ],
      "execution_count": null,
      "outputs": [
        {
          "output_type": "stream",
          "text": [
            "(53778,)\n",
            "(53778,)\n"
          ],
          "name": "stdout"
        }
      ]
    },
    {
      "cell_type": "code",
      "metadata": {
        "id": "IOFnMt6zI0KQ",
        "colab_type": "code",
        "colab": {}
      },
      "source": [
        "#prepare a tokenizer for reviews on training data\n",
        "x_tokenizer = Tokenizer(filters='!\"#$%&()*+,-./:;<=>?@[\\\\]^_`{|}~\\t\\n',oov_token='UNK')\n",
        "x_tokenizer.fit_on_texts(list(x_tr))"
      ],
      "execution_count": null,
      "outputs": []
    },
    {
      "cell_type": "code",
      "metadata": {
        "id": "r6AWhbZyI-m9",
        "colab_type": "code",
        "colab": {
          "base_uri": "https://localhost:8080/",
          "height": 85
        },
        "outputId": "2d2b6482-ea4e-48ec-91f6-fedb3447e83b"
      },
      "source": [
        "thresh=4\n",
        "cnt=0\n",
        "tot_cnt=0\n",
        "freq=0\n",
        "tot_freq=0\n",
        "\n",
        "for key,value in x_tokenizer.word_counts.items():\n",
        "    tot_cnt=tot_cnt+1\n",
        "    tot_freq=tot_freq+value\n",
        "    if(value<thresh):\n",
        "        cnt=cnt+1\n",
        "        freq=freq+value\n",
        "print(f'total words : {tot_cnt}')\n",
        "print(f'rare words : {cnt}')   \n",
        "print(\"% of rare words in vocabulary:\",(cnt/tot_cnt)*100)\n",
        "print(\"Total Coverage of rare words:\",(freq/tot_freq)*100)"
      ],
      "execution_count": null,
      "outputs": [
        {
          "output_type": "stream",
          "text": [
            "total words : 34220\n",
            "rare words : 19204\n",
            "% of rare words in vocabulary: 56.11922852133255\n",
            "Total Coverage of rare words: 2.857496600060744\n"
          ],
          "name": "stdout"
        }
      ]
    },
    {
      "cell_type": "code",
      "metadata": {
        "id": "eDUCniJTI-xE",
        "colab_type": "code",
        "colab": {}
      },
      "source": [
        "#prepare a tokenizer for reviews on training data neglecting rare words as their coverage over total document is very less\n",
        "x_tokenizer = Tokenizer(num_words=tot_cnt-cnt,filters='!\"#$%&()*+,-./:;<=>?@[\\\\]^_`{|}~\\t\\n',oov_token='UNK') \n",
        "x_tokenizer.fit_on_texts(list(x_tr))\n",
        "\n",
        "#convert text sequences into integer sequences\n",
        "x_tr_seq    =   x_tokenizer.texts_to_sequences(x_tr) \n",
        "x_val_seq   =   x_tokenizer.texts_to_sequences(x_val)\n",
        "\n",
        "#padding zero upto maximum length\n",
        "x_tr    =   pad_sequences(x_tr_seq,  maxlen=max_text_len, padding='post')\n",
        "x_val   =   pad_sequences(x_val_seq, maxlen=max_text_len, padding='post')\n",
        "\n",
        "#size of vocabulary ( +1 for padding token)\n",
        "x_voc   =  x_tokenizer.num_words + 1"
      ],
      "execution_count": null,
      "outputs": []
    },
    {
      "cell_type": "code",
      "metadata": {
        "id": "2ft2pTWmI-jP",
        "colab_type": "code",
        "colab": {
          "base_uri": "https://localhost:8080/",
          "height": 34
        },
        "outputId": "fccabc06-a6fd-4c81-8a9b-029a922a2e80"
      },
      "source": [
        "x_voc"
      ],
      "execution_count": null,
      "outputs": [
        {
          "output_type": "execute_result",
          "data": {
            "text/plain": [
              "15017"
            ]
          },
          "metadata": {
            "tags": []
          },
          "execution_count": 42
        }
      ]
    },
    {
      "cell_type": "code",
      "metadata": {
        "id": "tLfnGCAlI-g3",
        "colab_type": "code",
        "colab": {
          "base_uri": "https://localhost:8080/",
          "height": 34
        },
        "outputId": "03bb97a3-5aed-4d34-d0e4-f44198b6b600"
      },
      "source": [
        "x_tr.shape , type(x_tr) , x_val.shape , type(x_val) , x_voc"
      ],
      "execution_count": null,
      "outputs": [
        {
          "output_type": "execute_result",
          "data": {
            "text/plain": [
              "((53778, 64), numpy.ndarray, (13445, 64), numpy.ndarray, 15017)"
            ]
          },
          "metadata": {
            "tags": []
          },
          "execution_count": 43
        }
      ]
    },
    {
      "cell_type": "markdown",
      "metadata": {
        "id": "SamXbbS-JPMc",
        "colab_type": "text"
      },
      "source": [
        "##Summary Vocab"
      ]
    },
    {
      "cell_type": "code",
      "metadata": {
        "id": "QQDE99a8I-bI",
        "colab_type": "code",
        "colab": {}
      },
      "source": [
        "#prepare a tokenizer for reviews on training data\n",
        "y_tokenizer = Tokenizer(filters='!\"#$%&()*+,-./:;=?@[\\\\]^_`{|}~\\t\\n',oov_token='UNK')   \n",
        "y_tokenizer.fit_on_texts(list(y_tr))"
      ],
      "execution_count": null,
      "outputs": []
    },
    {
      "cell_type": "code",
      "metadata": {
        "id": "Z7jX-TYPJjUJ",
        "colab_type": "code",
        "colab": {
          "base_uri": "https://localhost:8080/",
          "height": 85
        },
        "outputId": "5a396658-1653-4f8f-bce7-e0be76c2ef7e"
      },
      "source": [
        "thresh=2 \n",
        "cnt=0\n",
        "tot_cnt=0\n",
        "freq=0\n",
        "tot_freq=0\n",
        "\n",
        "for key,value in y_tokenizer.word_counts.items():\n",
        "    tot_cnt=tot_cnt+1\n",
        "    tot_freq=tot_freq+value\n",
        "    if(value<thresh):\n",
        "        cnt=cnt+1\n",
        "        freq=freq+value\n",
        "print(f'total words : {tot_cnt}')\n",
        "print(f'rare words : {cnt}')   \n",
        "print(\"% of rare words in vocabulary:\",(cnt/tot_cnt)*100)\n",
        "print(\"Total Coverage of rare words:\",(freq/tot_freq)*100)"
      ],
      "execution_count": null,
      "outputs": [
        {
          "output_type": "stream",
          "text": [
            "total words : 20731\n",
            "rare words : 7309\n",
            "% of rare words in vocabulary: 35.256379335294966\n",
            "Total Coverage of rare words: 1.351069080315502\n"
          ],
          "name": "stdout"
        }
      ]
    },
    {
      "cell_type": "code",
      "metadata": {
        "id": "7t02vfOHJjRW",
        "colab_type": "code",
        "colab": {}
      },
      "source": [
        "#prepare a tokenizer for reviews on training data\n",
        "y_tokenizer = Tokenizer(num_words=tot_cnt-cnt,filters='!\"#$%&()*+,-./:;=?@[\\\\]^_`{|}~\\t\\n',oov_token='UNK') \n",
        "y_tokenizer.fit_on_texts(list(y_tr))\n",
        "\n",
        "#convert text sequences into integer sequences\n",
        "y_tr_seq    =   y_tokenizer.texts_to_sequences(y_tr) \n",
        "y_val_seq   =   y_tokenizer.texts_to_sequences(y_val) \n",
        "\n",
        "#padding zero upto maximum length\n",
        "y_tr    =   pad_sequences(y_tr_seq, maxlen=max_summary_len, padding='post')\n",
        "y_val   =   pad_sequences(y_val_seq, maxlen=max_summary_len, padding='post')\n",
        "\n",
        "#size of vocabulary\n",
        "y_voc  =   y_tokenizer.num_words +1"
      ],
      "execution_count": null,
      "outputs": []
    },
    {
      "cell_type": "code",
      "metadata": {
        "id": "7wL7RMdkJjPm",
        "colab_type": "code",
        "colab": {
          "base_uri": "https://localhost:8080/",
          "height": 34
        },
        "outputId": "ceaefcf6-60e9-4792-cb1c-46e4abe5cbe4"
      },
      "source": [
        "y_voc"
      ],
      "execution_count": null,
      "outputs": [
        {
          "output_type": "execute_result",
          "data": {
            "text/plain": [
              "13423"
            ]
          },
          "metadata": {
            "tags": []
          },
          "execution_count": 48
        }
      ]
    },
    {
      "cell_type": "code",
      "metadata": {
        "id": "IXxfBZbBJjNg",
        "colab_type": "code",
        "colab": {
          "base_uri": "https://localhost:8080/",
          "height": 34
        },
        "outputId": "e8d520b1-912c-48cf-adcc-edb82a225f10"
      },
      "source": [
        "y_tr.shape , type(y_tr) , y_val.shape , type(y_val) , y_voc"
      ],
      "execution_count": null,
      "outputs": [
        {
          "output_type": "execute_result",
          "data": {
            "text/plain": [
              "((53778, 32), numpy.ndarray, (13445, 32), numpy.ndarray, 13423)"
            ]
          },
          "metadata": {
            "tags": []
          },
          "execution_count": 49
        }
      ]
    },
    {
      "cell_type": "code",
      "metadata": {
        "id": "zM7H8yFGJjLx",
        "colab_type": "code",
        "colab": {
          "base_uri": "https://localhost:8080/",
          "height": 85
        },
        "outputId": "1cdd6031-c115-4522-9853-94fe9c872e9e"
      },
      "source": [
        "y_tr[0]"
      ],
      "execution_count": null,
      "outputs": [
        {
          "output_type": "execute_result",
          "data": {
            "text/plain": [
              "array([   2, 4164, 3557,  303,    7,  641, 2626,  169,    8,   30,  118,\n",
              "          3,    0,    0,    0,    0,    0,    0,    0,    0,    0,    0,\n",
              "          0,    0,    0,    0,    0,    0,    0,    0,    0,    0],\n",
              "      dtype=int32)"
            ]
          },
          "metadata": {
            "tags": []
          },
          "execution_count": 50
        }
      ]
    },
    {
      "cell_type": "code",
      "metadata": {
        "id": "-OcSP_V2JjKG",
        "colab_type": "code",
        "colab": {
          "base_uri": "https://localhost:8080/",
          "height": 54
        },
        "outputId": "829b0473-9084-482b-f02c-8b8573a1c48e"
      },
      "source": [
        "y_tokenizer.sequences_to_texts([y_tr[0]])"
      ],
      "execution_count": null,
      "outputs": [
        {
          "output_type": "execute_result",
          "data": {
            "text/plain": [
              "['<start> skandia shareholder support for old mutual bid on the rise <end> UNK UNK UNK UNK UNK UNK UNK UNK UNK UNK UNK UNK UNK UNK UNK UNK UNK UNK UNK UNK']"
            ]
          },
          "metadata": {
            "tags": []
          },
          "execution_count": 52
        }
      ]
    },
    {
      "cell_type": "code",
      "metadata": {
        "id": "OFBLY88UJjHl",
        "colab_type": "code",
        "colab": {
          "base_uri": "https://localhost:8080/",
          "height": 34
        },
        "outputId": "92d8c064-d4af-4cd2-a8d9-4a004fcc8af8"
      },
      "source": [
        "y_tokenizer.word_counts['<start>'],len(y_tr)  "
      ],
      "execution_count": null,
      "outputs": [
        {
          "output_type": "execute_result",
          "data": {
            "text/plain": [
              "(53778, 53778)"
            ]
          },
          "metadata": {
            "tags": []
          },
          "execution_count": 53
        }
      ]
    },
    {
      "cell_type": "code",
      "metadata": {
        "id": "1lpREZPRJjFV",
        "colab_type": "code",
        "colab": {}
      },
      "source": [
        "#removing sentences (text+summary obviously) containing just the start and end tokens from training data\n",
        "ind=[]\n",
        "for i in range(len(y_tr)):\n",
        "    cnt=0\n",
        "    for j in y_tr[i]:\n",
        "        if j!=0:\n",
        "            cnt=cnt+1\n",
        "    if(cnt==2):\n",
        "        ind.append(i)\n",
        "\n",
        "y_tr=np.delete(y_tr,ind, axis=0)\n",
        "x_tr=np.delete(x_tr,ind, axis=0)"
      ],
      "execution_count": null,
      "outputs": []
    },
    {
      "cell_type": "code",
      "metadata": {
        "id": "ARraRTHKKN9y",
        "colab_type": "code",
        "colab": {}
      },
      "source": [
        "#removing sentences (text+summary obviously) containing just the start and end tokens from validation data\n",
        "ind=[]\n",
        "for i in range(len(y_val)):\n",
        "    cnt=0\n",
        "    for j in y_val[i]:\n",
        "        if j!=0:\n",
        "            cnt=cnt+1\n",
        "    if(cnt==2):\n",
        "        ind.append(i)\n",
        "\n",
        "y_val=np.delete(y_val,ind, axis=0)\n",
        "x_val=np.delete(x_val,ind, axis=0)"
      ],
      "execution_count": null,
      "outputs": []
    },
    {
      "cell_type": "code",
      "metadata": {
        "id": "CmhpKve4KODr",
        "colab_type": "code",
        "colab": {
          "base_uri": "https://localhost:8080/",
          "height": 34
        },
        "outputId": "889abf68-07d0-4173-a48d-1b09bc5928ba"
      },
      "source": [
        "x_tr.shape,y_tr.shape"
      ],
      "execution_count": null,
      "outputs": [
        {
          "output_type": "execute_result",
          "data": {
            "text/plain": [
              "((53778, 64), (53778, 32))"
            ]
          },
          "metadata": {
            "tags": []
          },
          "execution_count": 56
        }
      ]
    },
    {
      "cell_type": "code",
      "metadata": {
        "id": "QuHPkKR8KOVK",
        "colab_type": "code",
        "colab": {
          "base_uri": "https://localhost:8080/",
          "height": 34
        },
        "outputId": "0e013763-1a95-481c-b017-1c8f92bd6747"
      },
      "source": [
        "x_val.shape,y_val.shape"
      ],
      "execution_count": null,
      "outputs": [
        {
          "output_type": "execute_result",
          "data": {
            "text/plain": [
              "((13445, 64), (13445, 32))"
            ]
          },
          "metadata": {
            "tags": []
          },
          "execution_count": 57
        }
      ]
    },
    {
      "cell_type": "code",
      "metadata": {
        "id": "elRfVi0c_dOe",
        "colab_type": "code",
        "colab": {
          "base_uri": "https://localhost:8080/",
          "height": 1710
        },
        "outputId": "9bb80560-8bfe-47b7-cb6e-1e3788a804d4"
      },
      "source": [
        "from keras import backend as K \n",
        "K.clear_session()\n",
        "latent_dim = 300\n",
        "embedding_dim= 768\n",
        "\n",
        "# Encoder\n",
        "encoder_inputs = Input(shape=(max_text_len,))\n",
        "\n",
        "#embedding layer\n",
        "enc_emb =  Embedding(x_voc, embedding_dim,trainable=True)(encoder_inputs)\n",
        "\n",
        "#encoder lstm 1\n",
        "encoder_lstm1 = LSTM(latent_dim,return_sequences=True,return_state=True,dropout=0.4,recurrent_dropout=0.4)\n",
        "encoder_output1, state_h1, state_c1 = encoder_lstm1(enc_emb)\n",
        "\n",
        "#encoder lstm 2\n",
        "encoder_lstm2 = LSTM(latent_dim,return_sequences=True,return_state=True,dropout=0.4,recurrent_dropout=0.4)\n",
        "encoder_output2, state_h2, state_c2 = encoder_lstm2(encoder_output1)\n",
        "\n",
        "#encoder lstm 3\n",
        "encoder_lstm3=LSTM(latent_dim, return_state=True, return_sequences=True,dropout=0.4,recurrent_dropout=0.4)\n",
        "encoder_outputs, state_h, state_c= encoder_lstm3(encoder_output2)\n",
        "\n",
        "# Set up the decoder, using `encoder_states` as initial state.\n",
        "decoder_inputs = Input(shape=(None,))\n",
        "\n",
        "#embedding layer\n",
        "dec_emb_layer = Embedding(y_voc, embedding_dim,trainable=True)\n",
        "dec_emb = dec_emb_layer(decoder_inputs)\n",
        "\n",
        "decoder_lstm = LSTM(latent_dim, return_sequences=True, return_state=True,dropout=0.4,recurrent_dropout=0.2)\n",
        "decoder_outputs,decoder_fwd_state, decoder_back_state = decoder_lstm(dec_emb,initial_state=[state_h, state_c])\n",
        "\n",
        "# Attention layer\n",
        "attn_layer = AttentionLayer(name='attention_layer')\n",
        "attn_out, attn_states = attn_layer([encoder_outputs, decoder_outputs])\n",
        "\n",
        "# Concat attention input and decoder LSTM output\n",
        "decoder_concat_input = Concatenate(axis=-1, name='concat_layer')([decoder_outputs, attn_out])\n",
        "\n",
        "#dense layer\n",
        "decoder_dense =  TimeDistributed(Dense(y_voc, activation='softmax'))\n",
        "decoder_outputs = decoder_dense(decoder_concat_input)\n",
        "\n",
        "# Define the model \n",
        "model = Model([encoder_inputs, decoder_inputs], decoder_outputs)\n",
        "\n",
        "model.summary() \n",
        "from tensorflow.keras.utils import plot_model\n",
        "plot_model(model, to_file='/content/drive/My Drive/MinorProject/modelPlot.png', show_shapes=True, show_layer_names=True)"
      ],
      "execution_count": null,
      "outputs": [
        {
          "output_type": "stream",
          "text": [
            "WARNING:tensorflow:From /tensorflow-1.15.2/python3.6/tensorflow_core/python/keras/initializers.py:119: calling RandomUniform.__init__ (from tensorflow.python.ops.init_ops) with dtype is deprecated and will be removed in a future version.\n",
            "Instructions for updating:\n",
            "Call initializer instance with the dtype argument instead of passing it to the constructor\n",
            "WARNING:tensorflow:From /tensorflow-1.15.2/python3.6/tensorflow_core/python/ops/resource_variable_ops.py:1630: calling BaseResourceVariable.__init__ (from tensorflow.python.ops.resource_variable_ops) with constraint is deprecated and will be removed in a future version.\n",
            "Instructions for updating:\n",
            "If using Keras pass *_constraint arguments to layers.\n",
            "WARNING:tensorflow:Entity <bound method AttentionLayer.call of <__main__.AttentionLayer object at 0x7fd5113f65c0>> could not be transformed and will be executed as-is. Please report this to the AutoGraph team. When filing the bug, set the verbosity to 10 (on Linux, `export AUTOGRAPH_VERBOSITY=10`) and attach the full output. Cause: module 'gast' has no attribute 'Num'\n",
            "WARNING: Entity <bound method AttentionLayer.call of <__main__.AttentionLayer object at 0x7fd5113f65c0>> could not be transformed and will be executed as-is. Please report this to the AutoGraph team. When filing the bug, set the verbosity to 10 (on Linux, `export AUTOGRAPH_VERBOSITY=10`) and attach the full output. Cause: module 'gast' has no attribute 'Num'\n",
            "Model: \"model\"\n",
            "__________________________________________________________________________________________________\n",
            "Layer (type)                    Output Shape         Param #     Connected to                     \n",
            "==================================================================================================\n",
            "input_1 (InputLayer)            [(None, 64)]         0                                            \n",
            "__________________________________________________________________________________________________\n",
            "embedding (Embedding)           (None, 64, 768)      11533056    input_1[0][0]                    \n",
            "__________________________________________________________________________________________________\n",
            "lstm (LSTM)                     [(None, 64, 300), (N 1282800     embedding[0][0]                  \n",
            "__________________________________________________________________________________________________\n",
            "input_2 (InputLayer)            [(None, None)]       0                                            \n",
            "__________________________________________________________________________________________________\n",
            "lstm_1 (LSTM)                   [(None, 64, 300), (N 721200      lstm[0][0]                       \n",
            "__________________________________________________________________________________________________\n",
            "embedding_1 (Embedding)         (None, None, 768)    10308864    input_2[0][0]                    \n",
            "__________________________________________________________________________________________________\n",
            "lstm_2 (LSTM)                   [(None, 64, 300), (N 721200      lstm_1[0][0]                     \n",
            "__________________________________________________________________________________________________\n",
            "lstm_3 (LSTM)                   [(None, None, 300),  1282800     embedding_1[0][0]                \n",
            "                                                                 lstm_2[0][1]                     \n",
            "                                                                 lstm_2[0][2]                     \n",
            "__________________________________________________________________________________________________\n",
            "attention_layer (AttentionLayer ((None, None, 300),  180300      lstm_2[0][0]                     \n",
            "                                                                 lstm_3[0][0]                     \n",
            "__________________________________________________________________________________________________\n",
            "concat_layer (Concatenate)      (None, None, 600)    0           lstm_3[0][0]                     \n",
            "                                                                 attention_layer[0][0]            \n",
            "__________________________________________________________________________________________________\n",
            "time_distributed (TimeDistribut (None, None, 13423)  8067223     concat_layer[0][0]               \n",
            "==================================================================================================\n",
            "Total params: 34,097,443\n",
            "Trainable params: 34,097,443\n",
            "Non-trainable params: 0\n",
            "__________________________________________________________________________________________________\n"
          ],
          "name": "stdout"
        },
        {
          "output_type": "execute_result",
          "data": {
            "image/png": "[encoded data removed]",
            "text/plain": [
              "<IPython.core.display.Image object>"
            ]
          },
          "metadata": {
            "tags": []
          },
          "execution_count": 58
        }
      ]
    },
    {
      "cell_type": "code",
      "metadata": {
        "id": "d9SBCJc2_w_1",
        "colab_type": "code",
        "colab": {}
      },
      "source": [
        "model.compile(optimizer='rmsprop', loss='sparse_categorical_crossentropy',metrics=['accuracy'])"
      ],
      "execution_count": null,
      "outputs": []
    },
    {
      "cell_type": "code",
      "metadata": {
        "id": "l59rE2h3ApTR",
        "colab_type": "code",
        "colab": {}
      },
      "source": [
        "es = EarlyStopping(monitor='val_loss', mode='min', patience=2,verbose=1)"
      ],
      "execution_count": null,
      "outputs": []
    },
    {
      "cell_type": "code",
      "metadata": {
        "id": "9X4Pah0Q1obw",
        "colab_type": "code",
        "colab": {
          "base_uri": "https://localhost:8080/",
          "height": 445
        },
        "outputId": "7f878220-2874-4632-92de-bf204624ad10"
      },
      "source": [
        "history=model.fit([x_tr,y_tr[:,:-1]], y_tr.reshape(y_tr.shape[0],y_tr.shape[1], 1)[:,1:] ,epochs=10,callbacks=[es],batch_size=64, validation_data=([x_val,y_val[:,:-1]], y_val.reshape(y_val.shape[0],y_val.shape[1], 1)[:,1:]))"
      ],
      "execution_count": null,
      "outputs": [
        {
          "output_type": "stream",
          "text": [
            "WARNING:tensorflow:From /tensorflow-1.15.2/python3.6/tensorflow_core/python/ops/math_grad.py:1424: where (from tensorflow.python.ops.array_ops) is deprecated and will be removed in a future version.\n",
            "Instructions for updating:\n",
            "Use tf.where in 2.0, which has the same broadcast rule as np.where\n",
            "Train on 53778 samples, validate on 13445 samples\n",
            "Epoch 1/10\n",
            "53778/53778 [==============================] - 643s 12ms/sample - loss: 1.8582 - acc: 0.7540 - val_loss: 1.6509 - val_acc: 0.7672\n",
            "Epoch 2/10\n",
            "53778/53778 [==============================] - 637s 12ms/sample - loss: 1.6115 - acc: 0.7731 - val_loss: 1.5355 - val_acc: 0.7794\n",
            "Epoch 3/10\n",
            "53778/53778 [==============================] - 630s 12ms/sample - loss: 1.5090 - acc: 0.7831 - val_loss: 1.4649 - val_acc: 0.7863\n",
            "Epoch 4/10\n",
            "53778/53778 [==============================] - 627s 12ms/sample - loss: 1.4354 - acc: 0.7903 - val_loss: 1.4144 - val_acc: 0.7917\n",
            "Epoch 5/10\n",
            "53778/53778 [==============================] - 626s 12ms/sample - loss: 1.3800 - acc: 0.7961 - val_loss: 1.3813 - val_acc: 0.7951\n",
            "Epoch 6/10\n",
            "53778/53778 [==============================] - 625s 12ms/sample - loss: 1.3317 - acc: 0.8006 - val_loss: 1.3496 - val_acc: 0.7984\n",
            "Epoch 7/10\n",
            "53778/53778 [==============================] - 624s 12ms/sample - loss: 1.2928 - acc: 0.8050 - val_loss: 1.3353 - val_acc: 0.8008\n",
            "Epoch 8/10\n",
            "53778/53778 [==============================] - 627s 12ms/sample - loss: 1.2599 - acc: 0.8086 - val_loss: 1.3222 - val_acc: 0.8021\n",
            "Epoch 9/10\n",
            "53778/53778 [==============================] - 632s 12ms/sample - loss: 1.2321 - acc: 0.8119 - val_loss: 1.3112 - val_acc: 0.8033\n",
            "Epoch 10/10\n",
            "53778/53778 [==============================] - 635s 12ms/sample - loss: 1.2048 - acc: 0.8151 - val_loss: 1.3000 - val_acc: 0.8052\n"
          ],
          "name": "stdout"
        }
      ]
    },
    {
      "cell_type": "code",
      "metadata": {
        "id": "CVMtAhNyBMn2",
        "colab_type": "code",
        "colab": {
          "base_uri": "https://localhost:8080/",
          "height": 262
        },
        "outputId": "288b1a8a-886e-4701-cbd8-62beb789986d"
      },
      "source": [
        "from matplotlib import pyplot as plt\n",
        "plt.plot(history.history['loss'], label='train') \n",
        "plt.plot(history.history['val_loss'], label='val') \n",
        "plt.legend()\n",
        "plt.show()"
      ],
      "execution_count": null,
      "outputs": [
        {
          "output_type": "display_data",
          "data": {
            "image/png": "[encoded data removed]",
            "text/plain": [
              "<Figure size 432x288 with 1 Axes>"
            ]
          },
          "metadata": {
            "tags": []
          }
        }
      ]
    },
    {
      "cell_type": "code",
      "metadata": {
        "id": "OoQ2uOojBwLH",
        "colab_type": "code",
        "colab": {}
      },
      "source": [
        "reverse_target_word_index=y_tokenizer.index_word\n",
        "reverse_source_word_index=x_tokenizer.index_word\n",
        "target_word_index=y_tokenizer.word_index"
      ],
      "execution_count": null,
      "outputs": []
    },
    {
      "cell_type": "code",
      "metadata": {
        "id": "wci2Qi_4C_Sp",
        "colab_type": "code",
        "colab": {
          "base_uri": "https://localhost:8080/",
          "height": 34
        },
        "outputId": "3e950bc9-3d86-40be-802c-69f0eb5b02ec"
      },
      "source": [
        "len(reverse_target_word_index)"
      ],
      "execution_count": null,
      "outputs": [
        {
          "output_type": "execute_result",
          "data": {
            "text/plain": [
              "20732"
            ]
          },
          "metadata": {
            "tags": []
          },
          "execution_count": 64
        }
      ]
    },
    {
      "cell_type": "code",
      "metadata": {
        "id": "ELrowgVP1m8i",
        "colab_type": "code",
        "colab": {
          "base_uri": "https://localhost:8080/",
          "height": 34
        },
        "outputId": "00b27c2b-7730-48a8-c7df-198ec7b7c0aa"
      },
      "source": [
        "len(reverse_source_word_index) "
      ],
      "execution_count": null,
      "outputs": [
        {
          "output_type": "execute_result",
          "data": {
            "text/plain": [
              "34221"
            ]
          },
          "metadata": {
            "tags": []
          },
          "execution_count": 65
        }
      ]
    },
    {
      "cell_type": "code",
      "metadata": {
        "id": "F4ZklwNuB7mJ",
        "colab_type": "code",
        "colab": {
          "base_uri": "https://localhost:8080/",
          "height": 587
        },
        "outputId": "352d4107-1f18-455b-aed9-f7bc5bc7ab1f"
      },
      "source": [
        "# Encode the input sequence to get the feature vector\n",
        "encoder_model = Model(inputs=encoder_inputs,outputs=[encoder_outputs, state_h, state_c])\n",
        "\n",
        "# Decoder setup\n",
        "# Below tensors will hold the states of the previous time step\n",
        "decoder_state_input_h = Input(shape=(latent_dim,))\n",
        "decoder_state_input_c = Input(shape=(latent_dim,))\n",
        "decoder_hidden_state_input = Input(shape=(max_text_len,latent_dim))\n",
        "\n",
        "# Get the embeddings of the decoder sequence\n",
        "dec_emb2= dec_emb_layer(decoder_inputs) \n",
        "# To predict the next word in the sequence, set the initial states to the states from the previous time step\n",
        "decoder_outputs2, state_h2, state_c2 = decoder_lstm(dec_emb2, initial_state=[decoder_state_input_h, decoder_state_input_c])\n",
        "\n",
        "#attention inference\n",
        "attn_out_inf, attn_states_inf = attn_layer([decoder_hidden_state_input, decoder_outputs2])\n",
        "decoder_inf_concat = Concatenate(axis=-1, name='concat')([decoder_outputs2, attn_out_inf])\n",
        "\n",
        "# A dense softmax layer to generate prob dist. over the target vocabulary\n",
        "decoder_outputs2 = decoder_dense(decoder_inf_concat) \n",
        "\n",
        "# Final decoder model\n",
        "decoder_model = Model(\n",
        "    [decoder_inputs] + [decoder_hidden_state_input,decoder_state_input_h, decoder_state_input_c],\n",
        "    [decoder_outputs2] + [state_h2, state_c2])\n",
        "\n",
        "\n",
        "from tensorflow.keras.utils import plot_model\n",
        "plot_model(encoder_model, to_file='/content/drive/My Drive/MinorProject/Inf_Enc_modelPlot.png', show_shapes=True, show_layer_names=True)"
      ],
      "execution_count": null,
      "outputs": [
        {
          "output_type": "stream",
          "text": [
            "WARNING:tensorflow:Entity <bound method AttentionLayer.call of <__main__.AttentionLayer object at 0x7fd5113f65c0>> could not be transformed and will be executed as-is. Please report this to the AutoGraph team. When filing the bug, set the verbosity to 10 (on Linux, `export AUTOGRAPH_VERBOSITY=10`) and attach the full output. Cause: module 'gast' has no attribute 'Num'\n",
            "WARNING: Entity <bound method AttentionLayer.call of <__main__.AttentionLayer object at 0x7fd5113f65c0>> could not be transformed and will be executed as-is. Please report this to the AutoGraph team. When filing the bug, set the verbosity to 10 (on Linux, `export AUTOGRAPH_VERBOSITY=10`) and attach the full output. Cause: module 'gast' has no attribute 'Num'\n"
          ],
          "name": "stdout"
        },
        {
          "output_type": "execute_result",
          "data": {
            "image/png": "[encoded data removed]",
            "text/plain": [
              "<IPython.core.display.Image object>"
            ]
          },
          "metadata": {
            "tags": []
          },
          "execution_count": 66
        }
      ]
    },
    {
      "cell_type": "code",
      "metadata": {
        "id": "aao6hxmWJdRE",
        "colab_type": "code",
        "colab": {
          "base_uri": "https://localhost:8080/",
          "height": 644
        },
        "outputId": "d30707f6-72f1-4f95-b440-fee8b39037c5"
      },
      "source": [
        "plot_model(decoder_model, to_file='/content/drive/My Drive/MinorProject/Inf_Dec_modelPlot.png', show_shapes=True, show_layer_names=True)"
      ],
      "execution_count": null,
      "outputs": [
        {
          "output_type": "execute_result",
          "data": {
            "image/png": "[encoded data removed]",
            "text/plain": [
              "<IPython.core.display.Image object>"
            ]
          },
          "metadata": {
            "tags": []
          },
          "execution_count": 67
        }
      ]
    },
    {
      "cell_type": "code",
      "metadata": {
        "id": "yoz6p6QBCErb",
        "colab_type": "code",
        "colab": {}
      },
      "source": [
        "def decode_sequence(input_seq):\n",
        "    # Encode the input as state vectors.\n",
        "    e_out, e_h, e_c = encoder_model.predict(input_seq)\n",
        "    \n",
        "    # Generate empty target sequence of length 1.\n",
        "    target_seq = np.zeros((1,1))\n",
        "    \n",
        "    # Populate the first word of target sequence with the start word.\n",
        "    target_seq[0, 0] = target_word_index['<start>']\n",
        "\n",
        "    stop_condition = False\n",
        "    decoded_sentence = ''\n",
        "    while not stop_condition:\n",
        "      \n",
        "        output_tokens, h, c = decoder_model.predict([target_seq] + [e_out, e_h, e_c])\n",
        "\n",
        "        # Sample a token\n",
        "        sampled_token_index = np.argmax(output_tokens[0, -1, :])\n",
        "        sampled_token = reverse_target_word_index[sampled_token_index]\n",
        "        \n",
        "        if(sampled_token!='<end>'):\n",
        "            decoded_sentence += ' '+sampled_token\n",
        "\n",
        "        # Exit condition: either hit max length or find stop word.\n",
        "        if (sampled_token == '<end>'  or len(decoded_sentence.split()) >= (max_summary_len-1)):\n",
        "            stop_condition = True\n",
        "\n",
        "        # Update the target sequence (of length 1).\n",
        "        target_seq = np.zeros((1,1))\n",
        "        target_seq[0, 0] = sampled_token_index\n",
        "\n",
        "        # Update internal states\n",
        "        e_h, e_c = h, c\n",
        "\n",
        "    return decoded_sentence"
      ],
      "execution_count": null,
      "outputs": []
    },
    {
      "cell_type": "code",
      "metadata": {
        "id": "vZZDm9BeCKGn",
        "colab_type": "code",
        "colab": {}
      },
      "source": [
        "def seq2summary(input_seq):\n",
        "    newString=''\n",
        "    for i in input_seq:\n",
        "        if((i!=0 and i!=target_word_index['<start>']) and i!=target_word_index['<end>']):\n",
        "            newString=newString+reverse_target_word_index[i]+' '\n",
        "    return newString\n",
        "\n",
        "def seq2text(input_seq):\n",
        "    newString=''\n",
        "    for i in input_seq:\n",
        "        if(i!=0):\n",
        "            newString=newString+reverse_source_word_index[i]+' '\n",
        "    return newString"
      ],
      "execution_count": null,
      "outputs": []
    },
    {
      "cell_type": "code",
      "metadata": {
        "id": "kJgSbxc242-e",
        "colab_type": "code",
        "colab": {
          "base_uri": "https://localhost:8080/",
          "height": 35
        },
        "outputId": "b9eac147-0b6e-412f-d4fa-a1cbbac4034c"
      },
      "source": [
        "seq2summary(y_val[0])"
      ],
      "execution_count": null,
      "outputs": [
        {
          "output_type": "execute_result",
          "data": {
            "application/vnd.google.colaboratory.intrinsic+json": {
              "type": "string"
            },
            "text/plain": [
              "'israeli soldiers wounded in south lebanon '"
            ]
          },
          "metadata": {
            "tags": []
          },
          "execution_count": 70
        }
      ]
    },
    {
      "cell_type": "code",
      "metadata": {
        "id": "GltACFvSCREO",
        "colab_type": "code",
        "colab": {
          "base_uri": "https://localhost:8080/",
          "height": 8537
        },
        "outputId": "04788ce4-1ca7-458e-e2b6-2def4b10ab80"
      },
      "source": [
        "for i in range(500,600):\n",
        "    print(\"Review:\",seq2text(x_tr[i]))\n",
        "    print(\"Original summary:\",seq2summary(y_tr[i]))\n",
        "    print(\"Predicted summary:\",decode_sequence(x_tr[i].reshape(1,max_text_len)))\n",
        "    print(\"\\n\")"
      ],
      "execution_count": null,
      "outputs": [
        {
          "output_type": "stream",
          "text": [
            "Review: us shares staged modest recovery tuesday despite underlying investors jitters lifted bargain hunting steep declines past three sessions \n",
            "Original summary: stocks get modest bounce dow back above \n",
            "Predicted summary:  wall street rebounds from dow up percent\n",
            "\n",
            "\n",
            "Review: juventus coach <UNK> <UNK> refused <UNK> defeat italian title race team potentially damaging loss parma \n",
            "Original summary: no surrender vows lippi after parma defeat \n",
            "Predicted summary:  UNK wins tour of italy\n",
            "\n",
            "\n",
            "Review: dollar edged higher wednesday major currencies market players took optimistic outlook vital us economic data due later week \n",
            "Original summary: dollar higher on favorable us economic data \n",
            "Predicted summary:  dollar gold falls slightly\n",
            "\n",
            "\n",
            "Review: head world body regulating trade endangered animals warned system complicated making difficult police multi billion dollar wildlife industry \n",
            "Original summary: head of wildlife trade body warns of dense rules \n",
            "Predicted summary:  world trade warns of more attacks on central bank\n",
            "\n",
            "\n",
            "Review: ministers group seven industrialized nations russia began one day meeting tuesday discuss ways could cooperate combat terrorism \n",
            "Original summary: g russia meet to discuss combatting terrorism \n",
            "Predicted summary:  russia to meet with russia at un summit\n",
            "\n",
            "\n",
            "Review: argentina president eduardo duhalde announce new cabinet team wednesday following resignation economy minister country struggled stave economic collapse spokesman said \n",
            "Original summary: duhalde to announce new cabinet wednesday \n",
            "Predicted summary:  norwegian president to be resigns\n",
            "\n",
            "\n",
            "Review: world oil prices rose thursday fears possible supply shortages amid soaring demand ahead winter northern hemisphere traders awaited latest weekly estimates us crude inventories \n",
            "Original summary: world oil prices rise ahead of us inventory data \n",
            "Predicted summary:  oil prices ease as us crude stocks rise\n",
            "\n",
            "\n",
            "Review: three quarters israelis dissatisfied way prime minister ariel sharon government handling security matters year sharon took office amid unprecedented violence said poll published friday \n",
            "Original summary: three quarters of israelis dissatisfied with sharon performance \n",
            "Predicted summary:  three palestinians killed in sharon says israel must be UNK\n",
            "\n",
            "\n",
            "Review: two teams un disaster experts leave haiti dominican republic friday assess coordinate emergency relief efforts following flash floods killed hundreds spokeswoman said \n",
            "Original summary: un disaster experts to fly to storm hit haiti dominican republic \n",
            "Predicted summary:  un experts to meet in haiti\n",
            "\n",
            "\n",
            "Review: federal court monday opened new microsoft antitrust trial <UNK> software giant states rejected last year settlement federal government weak \n",
            "Original summary: microsoft antitrust trial opens with unk states \n",
            "Predicted summary:  court orders case of new year eve\n",
            "\n",
            "\n",
            "Review: president george bush friday lay vision new compact poor nations requires embrace political economic reforms qualify enhanced us aid \n",
            "Original summary: bush to lay out unk vision \n",
            "Predicted summary:  bush to make first visit to new york\n",
            "\n",
            "\n",
            "Review: philippine share prices closed percent higher sharp technical rebound tuesday recovering two month lows seen persistent concerns opposition attempts oust president gloria arroyo dealers said \n",
            "Original summary: philippine shares close percent higher \n",
            "Predicted summary:  philippine shares close percent higher\n",
            "\n",
            "\n",
            "Review: listing malacca strait one world dangerous <UNK> affect economies nations borders unjustified top malaysian officials said tuesday \n",
            "Original summary: malaysia says malacca strait war risk rating will affect economies \n",
            "Predicted summary:  malaysia to launch new world first international UNK\n",
            "\n",
            "\n",
            "Review: bodies three palestinians killed clashes israeli army found monday old city west bank city nablus palestinian hospital sources said \n",
            "Original summary: three more palestinians found dead in nablus \n",
            "Predicted summary:  three palestinians killed in west bank\n",
            "\n",
            "\n",
            "Review: us military said killed people allegedly attackers convoys came ambush several times passed iraqi town samarra although residents said return fire us troops also killed innocent <UNK> \n",
            "Original summary: killed in samarra clash foreigners targeted in bloody attacks \n",
            "Predicted summary:  us troops kill three rebels in iraq\n",
            "\n",
            "\n",
            "Review: north korea tuesday threatened take <UNK> accusing united states south korea japan plotting attack \n",
            "Original summary: north korea warns against us military UNK \n",
            "Predicted summary:  north korea says us south korea must be UNK\n",
            "\n",
            "\n",
            "Review: south korean president roh moo hyun urged nations asia pacific region tuesday follow european union model building regional economic bloc \n",
            "Original summary: south korean president calls for eu style asia pacific economic union \n",
            "Predicted summary:  south korean president calls for eu to be UNK\n",
            "\n",
            "\n",
            "Review: egyptian parliament wednesday accepted resignations deputies failed perform military service parliamentary sources said \n",
            "Original summary: egyptian parliament accepts resignation of mps \n",
            "Predicted summary:  egyptian parliament rejects resignation of parliament\n",
            "\n",
            "\n",
            "Review: nations around globe congratulated japanese prime minister junichiro koizumi massive election victory monday hailing endorsement reforms \n",
            "Original summary: world leaders hail koizumi win as endorsement for reform program \n",
            "Predicted summary:  un to vote on election victory in koizumi\n",
            "\n",
            "\n",
            "Review: international monetary fund said friday sees indonesian government revising budget deficit forecast wake bali bombing \n",
            "Original summary: imf sees higher indonesian budget deficit in wake of bali attack \n",
            "Predicted summary:  imf chief says indonesia deficit budget deficit\n",
            "\n",
            "\n",
            "Review: canada broadcasting regulatory agency said monday approved rogers communications billion dollar lrb billion us rrb takeover publishing giant <UNK> hunter \n",
            "Original summary: rogers communications gets go ahead for UNK hunter takeover \n",
            "Predicted summary:  canada to buy UNK of UNK\n",
            "\n",
            "\n",
            "Review: german chemicals pharmaceuticals giant bayer said friday planned cut jobs germany instead originally envisaged employees agreed percent reduction <UNK> component pay \n",
            "Original summary: bayer employees agree to pay cut in order to save jobs \n",
            "Predicted summary:  deutsche telekom to cut jobs in nazi UNK\n",
            "\n",
            "\n",
            "Review: australia warned nationals wednesday new terrorist attacks could imminent major turkish cities following spate suicide bombings left dead istanbul \n",
            "Original summary: australia relays warning of imminent new attacks in turkey \n",
            "Predicted summary:  australian troops take over istanbul synagogue\n",
            "\n",
            "\n",
            "Review: around jazz musicians hold special concert paris wednesday homage oliver johnson drummer played many beaten death early month \n",
            "Original summary: paris musicians to play homage to murdered us drummer johnson \n",
            "Predicted summary:  paris and paris get death penalty\n",
            "\n",
            "\n",
            "Review: sven goran eriksson told carry england coach following football association board meeting lrb fa rrb monday \n",
            "Original summary: fa expect eriksson to stay in england job \n",
            "Predicted summary:  beckham set to be UNK\n",
            "\n",
            "\n",
            "Review: tens thousands protesters saturday marched downtown abidjan show support ivory coast president laurent gbagbo day government agreed principle amnesty rebels six week uprising \n",
            "Original summary: pro government groups stage massive protest in ivory coast \n",
            "Predicted summary:  thousands protest in ivory coast peace bid\n",
            "\n",
            "\n",
            "Review: united states risks sending wrong signals israel failing tell prime minister ariel sharon act put stop violence middle east saudi foreign minister said monday \n",
            "Original summary: us sending wrong signals to sharon over mideast conflict \n",
            "Predicted summary:  us says sharon must be UNK to gaza\n",
            "\n",
            "\n",
            "Review: pakistani <UNK> <UNK> british national suspected links osama bin laden al qaeda terror network foreign ministry said monday \n",
            "Original summary: pakistan grills detained british al qaeda suspect \n",
            "Predicted summary:  british al qaeda suspect in british al qaeda suspect\n",
            "\n",
            "\n",
            "Review: indirect trade taiwan china first months jumped percent year ago hit billion us dollars board foreign trade said friday \n",
            "Original summary: taiwan two way trade with china jumps percent \n",
            "Predicted summary:  taiwan trade surplus rises in september\n",
            "\n",
            "\n",
            "Review: australian prime minister john howard thursday announced army would expanded cope threats increasing <UNK> region foreign deployments \n",
            "Original summary: australia boosts military in face of regional UNK \n",
            "Predicted summary:  australian pm says no to continue as government vows to continue\n",
            "\n",
            "\n",
            "Review: france hold public deficit less three percent output <UNK> euro zone budget pact economy minister francis mer pledged unk appearing thursday \n",
            "Original summary: france will hold deficits below three percent UNK vows \n",
            "Predicted summary:  france deficit deficit of budget\n",
            "\n",
            "\n",
            "Review: us secretary state colin powell spoke telephone sunday palestinian authority chairman yasser arafat white house spokesman said \n",
            "Original summary: powell arafat in telephone conversation \n",
            "Predicted summary:  powell arafat to meet arafat in ramallah\n",
            "\n",
            "\n",
            "Review: france led south africa half time one rugby union test stade <UNK> saturday \n",
            "Original summary: france lead south africa at half time \n",
            "Predicted summary:  france squad for south africa\n",
            "\n",
            "\n",
            "Review: head croatia secret service control country undercover intelligence activities tomislav unk resigned friday stay place least april statement president stipe mesic office said \n",
            "Original summary: croatia secret service chief resigns \n",
            "Predicted summary:  croatian serbs probe into corruption probe\n",
            "\n",
            "\n",
            "Review: six us soldiers killed blackhawk helicopter apparently shot northern iraq day turkey announced abandoning plans send troops help beleaguered us ally \n",
            "Original summary: blackhawk down in iraq six us dead as turkey goes back on troop pledge \n",
            "Predicted summary:  three us soldiers killed in iraq\n",
            "\n",
            "\n",
            "Review: lithuania impeached ex president rolandas paksas expect hear verdict case early next week prosecutors wound investigation suspicions leaked classified information officials said wednesday \n",
            "Original summary: lithuania impeached ex leader can expect verdict next week \n",
            "Predicted summary:  lithuanian president to be resigns over corruption scandal\n",
            "\n",
            "\n",
            "Review: bangladeshi un peacekeepers called allied air support came missile attack request never reached nato base naples italy un official said tuesday \n",
            "Original summary: attacked un peacekeepers denied air presence \n",
            "Predicted summary:  un envoy to visit afghanistan\n",
            "\n",
            "\n",
            "Review: spartak unk cameroon defender luc unk beaten city park one increasing number attacks africans moscow spartak spokesman vladimir unk said \n",
            "Original summary: cameroon unk in moscow attack \n",
            "Predicted summary:  UNK UNK UNK in moscow\n",
            "\n",
            "\n",
            "Review: colombian <UNK> <UNK> kept international boxing federation super flyweight title saturday night points victory italian veteran vincenzo unk \n",
            "Original summary: grey keeps super flyweight title \n",
            "Predicted summary:  UNK wins men m at european championships\n",
            "\n",
            "\n",
            "Review: several un security council members welcomed new us british draft resolution iraq tuesday despite questions role foreign troops rocket attack iraq raised us death toll \n",
            "Original summary: more fighting in iraq as new un resolution discussed \n",
            "Predicted summary:  un iraq resolution to be UNK on iraq\n",
            "\n",
            "\n",
            "Review: amelie mauresmo guided france fed cup victory sunday win american meghann shaughnessy gave french unbeatable lead final \n",
            "Original summary: mauresmo guides france to fed cup victory \n",
            "Predicted summary:  france france UNK wins third stage\n",
            "\n",
            "\n",
            "Review: canadian civil servants suspended four day old strike friday consider nearly percent pay increase four years government called final offer union leader recommended rejection \n",
            "Original summary: canadian civil servants suspend strike to ponder government offer \n",
            "Predicted summary:  canadian government workers strike deal with government\n",
            "\n",
            "\n",
            "Review: mammoth trial slobodan milosevic resumed united nations war crimes tribunal <UNK> hague tuesday testimony massacre people kosovo town <UNK> \n",
            "Original summary: milosevic trial resumes with testimony about racak massacre \n",
            "Predicted summary:  trial of rwandan genocide suspect to be held in kosovo\n",
            "\n",
            "\n",
            "Review: arab league expressed strong condemnation tuesday assassination current head iraq us installed interim leadership ezzedine salim baghdad car bombing \n",
            "Original summary: arab league condemns killing of us backed iraq interim leader \n",
            "Predicted summary:  arab league condemns iraq killing of iraqi prisoner abuse\n",
            "\n",
            "\n",
            "Review: egyptian man sentenced years jail thursday <UNK> knife wounds western tourists conflicts iraq middle east judicial sources said \n",
            "Original summary: egyptian gets year jail for attacking tourists because of iraq mideast \n",
            "Predicted summary:  egyptian jailed for years for iraq\n",
            "\n",
            "\n",
            "Review: former cameroon international roger <UNK> come retirement sign indonesian club revealed friday \n",
            "Original summary: UNK signs for indonesian club \n",
            "Predicted summary:  former UNK UNK UNK UNK in indonesia\n",
            "\n",
            "\n",
            "Review: four man commando unit headed member armed islamic group lrb gia rrb militant algerian islamic movement holding air france airliner along passengers crewmen algiers airport authoritative source said early sunday \n",
            "Original summary: head of commando holding air france plane identified \n",
            "Predicted summary:  three islamic militants killed in air france\n",
            "\n",
            "\n",
            "Review: dollar gained slightly yen friday hesitant trade amid dearth new leads fears fresh terror attacks united states dealers said \n",
            "Original summary: dollar gains slightly on yen in hesitant trade \n",
            "Predicted summary:  dollar steady in tokyo\n",
            "\n",
            "\n",
            "Review: four men one woman arrested theft conspiracy kidnap victoria beckham former <UNK> girl wife england football captain david beckham scotland yard said saturday \n",
            "Original summary: english football league tables \n",
            "Predicted summary:  UNK UNK in chelsea\n",
            "\n",
            "\n",
            "Review: new zealand central bank left interest rates hold thursday despite fears soaring oil prices would push inflation around four percent \n",
            "Original summary: new zealand central bank leaves interest rates on hold \n",
            "Predicted summary:  new zealand stocks rise on interest rate fears\n",
            "\n",
            "\n",
            "Review: jansher khan surprise comeback age may reached end line thursday announcement fit enough participate next month world open <UNK> \n",
            "Original summary: jansher comeback halted \n",
            "Predicted summary:  schumacher takes the UNK\n",
            "\n",
            "\n",
            "Review: world champions brazil let slip two goal lead needed second ronaldo strike <UNK> draw uruguay wednesday south american world cup qualifying competition heated \n",
            "Original summary: ronaldo saves brazil blushes \n",
            "Predicted summary:  brazil and brazil win world cup title\n",
            "\n",
            "\n",
            "Review: british law firms accused tuesday <UNK> <UNK> due <UNK> emphasis heavy drinking living lap dance clubs \n",
            "Original summary: british law firms given UNK warning for macho culture \n",
            "Predicted summary:  british government to take over UNK of UNK\n",
            "\n",
            "\n",
            "Review: sri lanka year year inflation fell marginally percent september helped drop food prices according data released tuesday \n",
            "Original summary: sri lanka inflation eases to percent in september \n",
            "Predicted summary:  sri lanka inflation rises percent in october\n",
            "\n",
            "\n",
            "Review: total people killed injured christmas accidents violence police spokesman gonzalo <UNK> said \n",
            "Original summary: christmas festivities leave dead in guatemala \n",
            "Predicted summary:  at least killed in clashes in southern india\n",
            "\n",
            "\n",
            "Review: india selectors saturday announced member squad fourth final test australia played bombay november \n",
            "Original summary: indian team announced for final test against australia \n",
            "Predicted summary:  india and australia to play in second test\n",
            "\n",
            "\n",
            "Review: moderate earthquake registering richter scale shook tokyo area friday lrb gmt rrb immediate reports damage injuries meteorological agency said \n",
            "Original summary: moderate quake shakes tokyo \n",
            "Predicted summary:  earthquake rocks tokyo\n",
            "\n",
            "\n",
            "Review: michael jackson fans <UNK> wagons around idol thursday less <UNK> still others said awaiting outcome pop star latest legal <UNK> \n",
            "Original summary: many jackson fans defend idol others waver \n",
            "Predicted summary:  michael jackson says michael jackson is not to be UNK\n",
            "\n",
            "\n",
            "Review: man shot dead firing squad sunday murder guatemalan religious worker ninth person executed chad less week protests human rights groups \n",
            "Original summary: ninth execution in chad in crackdown on insecurity \n",
            "Predicted summary:  man shot dead in northern ireland\n",
            "\n",
            "\n",
            "Review: dubai technology media city free zone lrb unk rrb unveiled wednesday ground breaking professional code standards tribunal hundreds <UNK> publishers inspired british guidelines \n",
            "Original summary: dubai sets unk standards for media city UNK publishers \n",
            "Predicted summary:  dubai to build its first ever unk\n",
            "\n",
            "\n",
            "Review: seventeen pakistani men held prisoner afghanistan fighting alongside former taliban militia released monday afghan authorities declared punishment complete \n",
            "Original summary: seventeen pakistani taliban prisoners released in kabul \n",
            "Predicted summary:  pakistan afghan prisoners freed from jail\n",
            "\n",
            "\n",
            "Review: european union unk said thursday closed investigation serious irregularities welsh <UNK> board charged spending eu subsidies \n",
            "Original summary: eu fraud office ends probe into welsh exam board \n",
            "Predicted summary:  eu commission says it is a UNK of UNK\n",
            "\n",
            "\n",
            "Review: nearly public sector hospital doctors went strike wednesday across germany conflict pay working conditions entered seventh week main doctors union said \n",
            "Original summary: german doctors conflict enters seventh week \n",
            "Predicted summary:  german prosecutors launch probe into school massacre\n",
            "\n",
            "\n",
            "Review: newcastle striker lomana <UNK> may opt play democratic republic congo african nations cup tunisia january rather help english club push european place \n",
            "Original summary: lualua may opt for african nations cup mission \n",
            "Predicted summary:  uefa cup finals\n",
            "\n",
            "\n",
            "Review: colombian defense minister martha lucia ramirez resigned sunday presidential palace announced \n",
            "Original summary: colombian defense minister resigns \n",
            "Predicted summary:  colombian defense minister resigns\n",
            "\n",
            "\n",
            "Review: brazil state energy giant petrobras plans invest two billion dollars huge natural gas project venezuela company said \n",
            "Original summary: petrobras to invest billion dollars in venezuela gas project \n",
            "Predicted summary:  brazil gas to invest billion dollars in gas plant\n",
            "\n",
            "\n",
            "Review: leader breakaway russian caucasus republic chechnya late saturday hinted talks russia monday stood good chance ending conflict \n",
            "Original summary: chechnya leader wants end conflict with russia at negotiating table \n",
            "Predicted summary:  russia putin in moscow talks\n",
            "\n",
            "\n",
            "Review: north korea thursday threatened seize international consortium assets us led group <UNK> nuclear power project communist state without compensation \n",
            "Original summary: nkorea threatens to seize us led consortium assets \n",
            "Predicted summary:  north korea to build nuclear power plant\n",
            "\n",
            "\n",
            "Review: polls zimbabwe due close night pm lrb gmt rrb saturday stations stayed open late try accommodate hundreds people still waiting cast ballots president \n",
            "Original summary: some polls stay open late for zimbabwe presidential election \n",
            "Predicted summary:  zimbabwe election victory edges up\n",
            "\n",
            "\n",
            "Review: suicide bomber blew kabul famous chicken street shopping haunt saturday wounding seven people including three foreign peacekeepers <UNK> attack since peaceful october presidential election \n",
            "Original summary: suicide bomber hits kabul fabled chicken street peacekeepers wounded \n",
            "Predicted summary:  suicide bomber kills in northern iraq\n",
            "\n",
            "\n",
            "Review: least five people killed seven injured group armed men launched overnight attack <UNK> town east johannesburg police said monday \n",
            "Original summary: five dead seven injured in attack in shanty town \n",
            "Predicted summary:  five killed in algeria\n",
            "\n",
            "\n",
            "Review: south african diplomat nicky <UNK> went missing past week kuala lumpur found apparently unharmed <UNK> malaysian police south african foreign ministry said sunday \n",
            "Original summary: missing south african diplomat found in malaysia \n",
            "Predicted summary:  south african aids UNK UNK dies\n",
            "\n",
            "\n",
            "Review: prosecutor international criminal court heads new york week seeking backing bid try sudan president omar al beshir war crimes tribunal said monday \n",
            "Original summary: icc prosecutor to new york on beshir warrant mission \n",
            "Predicted summary:  milosevic trial opens in sudan\n",
            "\n",
            "\n",
            "Review: brazil president pledged friday speed pace land reform politically high <UNK> issue rocked vast south american country \n",
            "Original summary: brazilian president pledges land reform strides inflation busting in \n",
            "Predicted summary:  brazil president to visit south korea\n",
            "\n",
            "\n",
            "Review: rally driver monday pleaded guilty role crash killed new zealand international rally star <UNK> <UNK> \n",
            "Original summary: fellow competitor pleads guilty to crash that killed nz rally star \n",
            "Predicted summary:  man charged with murder of zealand\n",
            "\n",
            "\n",
            "Review: libyan leader moamer kadhafi said thursday would let anyone steal power people son called end revolutionary era country set mark th anniversary coup <UNK> monarchy \n",
            "Original summary: kadhafi says nobody can steal power from the people after son comments \n",
            "Predicted summary:  dr congo president to be sworn in in the next year\n",
            "\n",
            "\n",
            "Review: jimmy adams anderson <UNK> put dogged run partnership seventh wicket take west indies comfortable position third test india sunday \n",
            "Original summary: adams UNK fire west indies to good score \n",
            "Predicted summary:  west indies win toss and bat in india\n",
            "\n",
            "\n",
            "Review: unemployment lithuania dropped percentage points february figure previous month percent working force lithuanian labor bureau said wednesday \n",
            "Original summary: lithuanian unemployment rate dropped to percent in february \n",
            "Predicted summary:  lithuanian unemployment rate falls to percent in october\n",
            "\n",
            "\n",
            "Review: top men seed roger federer ended roland garros jinx us sisters venus serena williams served notice french open intentions advancing second round grand slam tournament tuesday straight sets wins \n",
            "Original summary: williams sisters federer advance in paris \n",
            "Predicted summary:  hewitt wins wta tour championships\n",
            "\n",
            "\n",
            "Review: dollar <UNK> higher tuesday federal reserve lifted main interest rate quarter point gave sign ready halt rate moves despite economic shock hurricane katrina \n",
            "Original summary: fed rate hike signal of more sparks dollar rally \n",
            "Predicted summary:  dollar falls against yen on us economic data\n",
            "\n",
            "\n",
            "Review: senegal president abdoulaye wade agreed country lead peace force economic community west african states lrb ecowas rrb strife torn ivory coast source close senegalese presidency told afp paris friday \n",
            "Original summary: senegal agrees to lead regional peace force in ivory coast \n",
            "Predicted summary:  ivory coast president to meet on peace process\n",
            "\n",
            "\n",
            "Review: european union foreign policy chief javier solana saturday congratulated egyptian president hosni mubarak election described poll progress democracy egypt \n",
            "Original summary: eu congratulates egyptian leader on re election \n",
            "Predicted summary:  eu solana to meet egypt mubarak\n",
            "\n",
            "\n",
            "Review: former american first lady senator hillary rodham clinton visited baghdad friday hot heels lightning stealth visit us president george bush <UNK> washington still faced big challenge country \n",
            "Original summary: hillary clinton visits baghdad hot on heels of bush \n",
            "Predicted summary:  clinton to visit baghdad\n",
            "\n",
            "\n",
            "Review: al qaeda linked pakistani tribesman spent time guantanamo bay rejected appeal tribal elders free two chinese hostages threatened kill mediators said wednesday \n",
            "Original summary: pakistani militant refuses call to release chinese hostages \n",
            "Predicted summary:  al qaeda suspect in china denies chinese hostage taking\n",
            "\n",
            "\n",
            "Review: <UNK> brad <UNK> justin <UNK> led sydney roosters win st george illawarra <UNK> day national rugby league game thursday \n",
            "Original summary: UNK and UNK inspire roosters to anzac day victory \n",
            "Predicted summary:  UNK UNK UNK in the UNK\n",
            "\n",
            "\n",
            "Review: dollar drifted major currencies disappointing us retail sales figure prompted traders lock recent gains \n",
            "Original summary: dollar retreats after weak economic news \n",
            "Predicted summary:  dollar slips slightly against yen in tokyo\n",
            "\n",
            "\n",
            "Review: us secretary state colin powell wednesday ruled sending foreign troops quell conflict sudan western region darfur calling greater international pressure khartoum rein government backed militias \n",
            "Original summary: powell rules out foreign troops for darfur urges greater pressure on sudan \n",
            "Predicted summary:  powell warns darfur rebels to darfur rebels\n",
            "\n",
            "\n",
            "Review: stuart law slammed australia coasted run victory zimbabwe thursday take grip one day world series \n",
            "Original summary: australia coast to one day victory over zimbabwe \n",
            "Predicted summary:  australia to send zimbabwe team to zimbabwe\n",
            "\n",
            "\n",
            "Review: united states stage round world motorcycling championship tournament returns country year break \n",
            "Original summary: afp world news summary \n",
            "Predicted summary:  us open world championships\n",
            "\n",
            "\n",
            "Review: cross channel ferry company came fire main competitor wednesday announcing franc lrb one pound rrb day return <UNK> fare offer <UNK> calais \n",
            "Original summary: ferry companies row over one pound cross channel offer \n",
            "Predicted summary:  thousands of thousands of thousands of thousands of thousands of queen mother of the year\n",
            "\n",
            "\n",
            "Review: group campaigners sailed gaza strip last month symbolic defiance israeli blockade said tuesday plan return week medical supplies \n",
            "Original summary: gaza blockade busters set to return \n",
            "Predicted summary:  gaza strip to be UNK on gaza pullout plan\n",
            "\n",
            "\n",
            "Review: nepal grant citizenship four million people indian origin live kingdom deputy prime minister <UNK> prasad unk said sunday \n",
            "Original summary: nepal to grant citizenship to four million of indian origin \n",
            "Predicted summary:  nepal to build first indian pm in india\n",
            "\n",
            "\n",
            "Review: pakistan demanding cash almost islamic militants new attempt prevent banned extremist groups emerging new names officials said wednesday \n",
            "Original summary: pakistan demands bonds from militants instead of arrest \n",
            "Predicted summary:  pakistan arrests new al qaeda suspects after new attacks\n",
            "\n",
            "\n",
            "Review: oil prices firmer asian trade monday dealers said \n",
            "Original summary: oil prices firmer in asian trade \n",
            "Predicted summary:  oil prices firmer in asian trade\n",
            "\n",
            "\n",
            "Review: populist politician pauline hanson said saturday prepared accept defeat bid senate seat australia election \n",
            "Original summary: australia UNK hanson UNK about election failure \n",
            "Predicted summary:  australian government to take over election victory\n",
            "\n",
            "\n",
            "Review: afghan president hamid karzai course clear victory country historic election thursday half votes counted \n",
            "Original summary: afghan president on course for historic election victory \n",
            "Predicted summary:  karzai karzai victory as karzai goes ahead with election victory\n",
            "\n",
            "\n",
            "Review: dollar held steady thursday market braced us <UNK> report september may provide <UNK> picture economy future us interest rate moves \n",
            "Original summary: dollar stable ahead of us jobs report \n",
            "Predicted summary:  dollar falls against yen on us rate hike fears\n",
            "\n",
            "\n",
            "Review: president fidel castro friday led massive protest march new us moves aimed speeding end communist rule lashed us president george bush illegitimate leader said would die fighting united states <UNK> \n",
            "Original summary: castro slams bush as illegitimate leader condemns us sanctions \n",
            "Predicted summary:  castro calls bush to take us over iraq\n",
            "\n",
            "\n",
            "Review: armed gang burst french hospital thursday freed prisoner escaping brief shoot police escort police said \n",
            "Original summary: armed gang raid french hospital and free prisoner from police \n",
            "Predicted summary:  french police arrest man in raid on torture\n",
            "\n",
            "\n",
            "Review: demand <UNK> energy drive australian commodity exports percent financial year record around billion dollars lrb billion us dollars rrb government agency forecast monday \n",
            "Original summary: australian commodity exports forecast to climb percent \n",
            "Predicted summary:  australian consumer spending up percent in october\n",
            "\n",
            "\n"
          ],
          "name": "stdout"
        }
      ]
    },
    {
      "cell_type": "code",
      "metadata": {
        "id": "9siepCQcUP3M",
        "colab_type": "code",
        "colab": {}
      },
      "source": [
        ""
      ],
      "execution_count": null,
      "outputs": []
    }
  ]
}